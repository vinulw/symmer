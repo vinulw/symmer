{
 "cells": [
  {
   "cell_type": "markdown",
   "id": "ccb614dd",
   "metadata": {},
   "source": [
    "# Heisenberg Hamiltonian Tapering Example\n",
    "First, build the Heisenberg Hamiltonian\n",
    "\\begin{equation}\n",
    "H = \\sum_{i=1}^{N-1} (J_X X^{(i)} X^{(i+1)} + J_Y Y^{(i)} Y^{(i+1)} + J_Z Z^{(i)} Z^{(i+1)} + h Z^{(i)})\n",
    "\\end{equation}\n",
    "where $J_X, J_Y, J_Z \\in \\mathbb{R}$ are coupling constants and $h \\in \\mathbb{R}$ the strength of an external magnetic field."
   ]
  },
  {
   "cell_type": "code",
   "execution_count": 74,
   "id": "072ceab2",
   "metadata": {},
   "outputs": [
    {
     "name": "stdout",
     "output_type": "stream",
     "text": [
      "The heisenberg Hamiltonian is\n",
      "\n",
      "-0.482+0.000j IIXX +\n",
      "-0.482+0.000j IXXI +\n",
      "-0.482+0.000j XXII +\n",
      "-0.471+0.000j IIYY +\n",
      "-0.471+0.000j IYYI +\n",
      "-0.471+0.000j YYII +\n",
      "-0.032+0.000j IIZZ +\n",
      "-0.032+0.000j IZZI +\n",
      "-0.032+0.000j ZZII\n",
      "\n",
      "with ground state energy -2.0743038562181226 and corresponding eigenvector\n",
      "\n",
      "-0.005+0.000j |0000> +\n",
      "-0.231+0.000j |0011> +\n",
      "-0.495+0.000j |0101> +\n",
      "-0.448+0.000j |0110> +\n",
      "-0.448+0.000j |1001> +\n",
      "-0.495+0.000j |1010> +\n",
      "-0.231+0.000j |1100> +\n",
      "-0.005+0.000j |1111>\n"
     ]
    }
   ],
   "source": [
    "import numpy as np\n",
    "from symmer.symplectic import PauliwordOp, QuantumState\n",
    "from symmer.utils import exact_gs_energy\n",
    "\n",
    "def place_sites(indices, pauli, N):\n",
    "    I = ['I']*N\n",
    "    for i in indices:\n",
    "        I[i] = pauli\n",
    "    return ''.join(I)\n",
    "    \n",
    "def HeisenbergHam(N, J_X=1, J_Y=1, J_Z=1, h=1):\n",
    "    constants = {'X':J_X, 'Y':J_Y, 'Z':J_Z, 'h':h}\n",
    "    H_dict = {}\n",
    "    for i in range(N-1):\n",
    "        for P in ['X','Y','Z']:\n",
    "            H_dict[place_sites([i, i+1], P, N)] = constants[P]\n",
    "    for i in range(N):\n",
    "        H_dict[place_sites([i], 'Z', N)] = constants['h']\n",
    "\n",
    "    return PauliwordOp.from_dictionary(H_dict).cleanup().multiply_by_constant(-1/2).sort()\n",
    "\n",
    "J_X, J_Y, J_Z, h = np.random.random(4)\n",
    "H = HeisenbergHam(4, J_X, J_Y, J_Z, h=0)\n",
    "gs_nrg, gs_vec = exact_gs_energy(H.to_sparse_matrix)\n",
    "gs_psi = QuantumState.from_array(gs_vec).cleanup(zero_threshold=1e-5)\n",
    "print('The heisenberg Hamiltonian is\\n')\n",
    "print(H); print()\n",
    "print(f'with ground state energy {gs_nrg} and corresponding eigenvector\\n')\n",
    "print(gs_psi)"
   ]
  },
  {
   "cell_type": "markdown",
   "id": "e12ded46",
   "metadata": {},
   "source": [
    "We may perform a VQE simulation over this space:"
   ]
  },
  {
   "cell_type": "markdown",
   "id": "4ba9484e",
   "metadata": {},
   "source": [
    "# Taper the Hamiltonian"
   ]
  },
  {
   "cell_type": "code",
   "execution_count": 75,
   "id": "a1738822",
   "metadata": {
    "scrolled": true
   },
   "outputs": [
    {
     "name": "stdout",
     "output_type": "stream",
     "text": [
      "Qubit tapering permits a reduction of 4 -> 2 qubits.\n",
      "\n",
      "The following symmetry generators were identified:\n",
      "\n",
      " 1 ZZZZ \n",
      " 1 XXXX\n",
      "\n",
      "which we may rotate onto the single-qubit Pauli operators\n",
      "\n",
      "-1 IXII \n",
      "-1 XIII\n",
      "\n",
      "via a sequence of Clifford operations R_k = e^{i pi/4 P_k} where:\n",
      "\n",
      "P_0 =  1+0j YZZZ\n",
      "P_1 =  1+0j XYXX\n",
      "P_2 =  1+0j IYII\n"
     ]
    }
   ],
   "source": [
    "from symmer.projection import QubitTapering\n",
    "\n",
    "QT = QubitTapering(H)\n",
    "\n",
    "print(f'Qubit tapering permits a reduction of {H.n_qubits} -> {H.n_qubits-QT.n_taper} qubits.\\n')\n",
    "print('The following symmetry generators were identified:\\n')\n",
    "print(QT.symmetry_generators); print()\n",
    "print('which we may rotate onto the single-qubit Pauli operators\\n') \n",
    "print(QT.symmetry_generators.rotate_onto_single_qubit_paulis()); print()\n",
    "print('via a sequence of Clifford operations R_k = e^{i pi/4 P_k} where:\\n')\n",
    "for index, (P_k, angle) in enumerate(QT.symmetry_generators.stabilizer_rotations):\n",
    "    P_k.sigfig=0\n",
    "    print(f'P_{index} = {P_k}')"
   ]
  },
  {
   "cell_type": "code",
   "execution_count": 76,
   "id": "d0560d49",
   "metadata": {},
   "outputs": [
    {
     "name": "stdout",
     "output_type": "stream",
     "text": [
      "We rotate the Hamiltonian accordingly:\n",
      "\n",
      "-0.032+0.000j IIZZ +\n",
      "-0.482+0.000j IIXX +\n",
      "-0.471+0.000j IIYY +\n",
      " 0.032-0.000j IXZI +\n",
      " 0.482-0.000j IXXX +\n",
      " 0.032-0.000j XIZZ +\n",
      " 0.471-0.000j XIZX +\n",
      " 0.482-0.000j XXIX +\n",
      "-0.471+0.000j XXYY\n",
      "\n",
      "and observe that qubit positions [1 0] consist only of Pauli I, X operators.\n",
      "\n",
      "These may therefore be removed to yield a 2-qubit reduced Hamiltonian:\n",
      "\n",
      "-0.032+0.000j ZI +\n",
      "-0.065+0.000j ZZ +\n",
      " 0.482+0.000j IX +\n",
      "-0.471+0.000j ZX +\n",
      "-0.965+0.000j XX +\n",
      "-0.942+0.000j YY\n"
     ]
    }
   ],
   "source": [
    "H_taper = QT.taper_it()\n",
    "\n",
    "print('We rotate the Hamiltonian accordingly:\\n')\n",
    "print(H.perform_rotations(QT.symmetry_generators.stabilizer_rotations)); print()\n",
    "print(f'and observe that qubit positions {QT.stab_qubit_indices} consist only of Pauli I, {QT.target_sqp} operators.\\n')\n",
    "print(f'These may therefore be removed to yield a {H.n_qubits-QT.n_taper}-qubit reduced Hamiltonian:\\n')\n",
    "print(H_taper)"
   ]
  },
  {
   "cell_type": "markdown",
   "id": "a8de483a",
   "metadata": {},
   "source": [
    "The power of qubit tapering is that it _exactly_ preserves the ground state energy, as we can see here:"
   ]
  },
  {
   "cell_type": "code",
   "execution_count": 78,
   "id": "db6d9dec",
   "metadata": {},
   "outputs": [
    {
     "name": "stdout",
     "output_type": "stream",
     "text": [
      "The ground state energy of the Hamiltonian is -2.0743038562181226\n",
      "and for the 2-qubit tapered Hamiltonian it is -2.0743038562181217;\n",
      "the energy error is 8.881784197001252e-16.\n",
      "\n",
      "The tapered ground state is:\n",
      "\n",
      " 0.007+0.000j |00> +\n",
      "-0.634+0.000j |01> +\n",
      "-0.701+0.000j |10> +\n",
      " 0.327+0.000j |11>\n"
     ]
    }
   ],
   "source": [
    "gs_nrg_tap, gs_nrg_vec = exact_gs_energy(H_taper.to_sparse_matrix)\n",
    "gs_psi_tap = QuantumState.from_array(gs_nrg_vec)\n",
    "\n",
    "print(f'The ground state energy of the Hamiltonian is {gs_nrg}')\n",
    "print(f'and for the 2-qubit tapered Hamiltonian it is {gs_nrg_tap};')\n",
    "print(f'the energy error is {abs(gs_nrg - gs_nrg_tap)}.\\n')\n",
    "print('The tapered ground state is:\\n')\n",
    "print(gs_psi_tap)"
   ]
  }
 ],
 "metadata": {
  "kernelspec": {
   "display_name": "Python 3 (ipykernel)",
   "language": "python",
   "name": "python3"
  },
  "language_info": {
   "codemirror_mode": {
    "name": "ipython",
    "version": 3
   },
   "file_extension": ".py",
   "mimetype": "text/x-python",
   "name": "python",
   "nbconvert_exporter": "python",
   "pygments_lexer": "ipython3",
   "version": "3.8.13"
  },
  "vscode": {
   "interpreter": {
    "hash": "916dbcbb3f70747c44a77c7bcd40155683ae19c65e1c03b4aa3499c5328201f1"
   }
  }
 },
 "nbformat": 4,
 "nbformat_minor": 5
}
