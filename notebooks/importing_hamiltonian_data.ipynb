{
 "cells": [
  {
   "cell_type": "markdown",
   "id": "185d6c41",
   "metadata": {},
   "source": [
    "# Importing Hamiltonian data\n",
    "\n",
    "There are sample Hamiltonians stored in `symmer/tests/hamiltonian_data`"
   ]
  },
  {
   "cell_type": "code",
   "execution_count": 1,
   "id": "603b73fd",
   "metadata": {},
   "outputs": [],
   "source": [
    "import os\n",
    "from symmer.symplectic.base import PauliwordOp\n",
    "import json"
   ]
  },
  {
   "cell_type": "code",
   "execution_count": 2,
   "id": "969ca4d4",
   "metadata": {},
   "outputs": [],
   "source": [
    "test_dir = os.path.join(os.path.dirname(os.getcwd()), 'tests')\n",
    "ham_data_dir = os.path.join(test_dir, 'hamiltonian_data')\n",
    "if not os.path.isdir(ham_data_dir):\n",
    "    raise ValueError('cannot find data dir')"
   ]
  },
  {
   "cell_type": "code",
   "execution_count": 3,
   "id": "286e552f",
   "metadata": {},
   "outputs": [
    {
     "data": {
      "text/plain": [
       "['H2O_STO-3G_SINGLET_BK.json',\n",
       " 'H4_STO-3G_SINGLET_BK.json',\n",
       " 'H2O_STO-3G_SINGLET_JW.json',\n",
       " 'H4_STO-3G_SINGLET_JW.json']"
      ]
     },
     "execution_count": 3,
     "metadata": {},
     "output_type": "execute_result"
    }
   ],
   "source": [
    "# possible json import files! \n",
    "os.listdir(ham_data_dir)"
   ]
  },
  {
   "cell_type": "code",
   "execution_count": 4,
   "id": "4f338a43",
   "metadata": {},
   "outputs": [],
   "source": [
    "filename = 'H4_STO-3G_SINGLET_JW.json'\n",
    "\n",
    "if filename not in os.listdir(ham_data_dir):\n",
    "    raise ValueError('unknown file')\n",
    "    \n",
    "with open(os.path.join(ham_data_dir, filename), 'r') as infile:\n",
    "    data_dict = json.load(infile)"
   ]
  },
  {
   "cell_type": "code",
   "execution_count": 5,
   "id": "8700289f",
   "metadata": {},
   "outputs": [],
   "source": [
    "H_op = PauliwordOp.from_dictionary(data_dict['hamiltonian'])"
   ]
  },
  {
   "cell_type": "code",
   "execution_count": 6,
   "id": "8229f4b9",
   "metadata": {},
   "outputs": [
    {
     "data": {
      "text/plain": [
       "{'IIIIIIII': (-1.0811399195666882+0j),\n",
       " 'IIIIIIIZ': (0.013810914373994877+0j),\n",
       " 'IIIIIIZI': (0.013810914373994856+0j),\n",
       " 'IIIIIIZZ': (0.09424143717952153+0j),\n",
       " 'IIIIIZII': (0.0375818021724733+0j),\n",
       " 'IIIIIZIZ': (0.0495524866742017+0j),\n",
       " 'IIIIIZZI': (0.07052407412802436+0j),\n",
       " 'IIIIZIII': (0.037581802172473346+0j),\n",
       " 'IIIIZIIZ': (0.07052407412802436+0j),\n",
       " 'IIIIZIZI': (0.0495524866742017+0j),\n",
       " 'IIIIZZII': (0.1163739477015471+0j),\n",
       " 'IIIZIIII': (0.0375818021724732+0j),\n",
       " 'IIIZIIIZ': (0.04186848978406607+0j),\n",
       " 'IIIZIIZI': (0.10114884701928653+0j),\n",
       " 'IIIZIZII': (0.053565504944958195+0j),\n",
       " 'IIIZZIII': (0.05363624495664159+0j),\n",
       " 'IIZIIIII': (0.037581802172473255+0j),\n",
       " 'IIZIIIIZ': (0.10114884701928653+0j),\n",
       " 'IIZIIIZI': (0.04186848978406607+0j),\n",
       " 'IIZIIZII': (0.05363624495664159+0j),\n",
       " 'IIZIZIII': (0.053565504944958195+0j),\n",
       " 'IIZZIIII': (0.1163739477015471+0j),\n",
       " 'IZIIIIII': (0.06458158745266915+0j),\n",
       " 'IZIIIIIZ': (0.053811564684024205+0j),\n",
       " 'IZIIIIZI': (0.0773759667431686+0j),\n",
       " 'IZIIIZII': (0.04219860803868384+0j),\n",
       " 'IZIIZIII': (0.09944723437300101+0j),\n",
       " 'IZIZIIII': (0.04988260492881946+0j),\n",
       " 'IZZIIIII': (0.06882246148173884+0j),\n",
       " 'ZIIIIIII': (0.06458158745266904+0j),\n",
       " 'ZIIIIIIZ': (0.0773759667431686+0j),\n",
       " 'ZIIIIIZI': (0.053811564684024205+0j),\n",
       " 'ZIIIIZII': (0.09944723437300101+0j),\n",
       " 'ZIIIZIII': (0.04219860803868384+0j),\n",
       " 'ZIIZIIII': (0.06882246148173884+0j),\n",
       " 'ZIZIIIII': (0.04988260492881946+0j),\n",
       " 'ZZIIIIII': (0.09088382270620027+0j),\n",
       " 'IIIIXXYY': (-0.020971587453822663+0j),\n",
       " 'IIIIXYYX': (0.020971587453822663+0j),\n",
       " 'IIIIYXXY': (0.020971587453822663+0j),\n",
       " 'IIIIYYXX': (-0.020971587453822663+0j),\n",
       " 'IIXXIIYY': (-0.05928035723522046+0j),\n",
       " 'IIXYIIYX': (0.05928035723522046+0j),\n",
       " 'IIYXIIXY': (0.05928035723522046+0j),\n",
       " 'IIYYIIXX': (-0.05928035723522046+0j),\n",
       " 'IIXXYYII': (-7.074001168339471e-05+0j),\n",
       " 'IIXYYXII': (7.074001168339471e-05+0j),\n",
       " 'IIYXXYII': (7.074001168339471e-05+0j),\n",
       " 'IIYYXXII': (-7.074001168339471e-05+0j),\n",
       " 'IXIZZZZX': (-0.026686664801746293+0j),\n",
       " 'IXZIZZZX': (0.006723183836674237+0j),\n",
       " 'IXZZIZZX': (0.027645787727647725+0j),\n",
       " 'IXZZZIZX': (-0.006909256728735572+0j),\n",
       " 'IXZZZZIX': (-0.012720876709062079+0j),\n",
       " 'IXZZZZZX': (-0.014308578576770023+0j),\n",
       " 'IYIZZZZY': (-0.026686664801746293+0j),\n",
       " 'IYZIZZZY': (0.006723183836674237+0j),\n",
       " 'IYZZIZZY': (0.027645787727647725+0j),\n",
       " 'IYZZZIZY': (-0.006909256728735572+0j),\n",
       " 'IYZZZZIY': (-0.012720876709062079+0j),\n",
       " 'IYZZZZZY': (-0.014308578576770023+0j),\n",
       " 'ZXZZZZZX': (0.013667145245773617+0j),\n",
       " 'ZYZZZZZY': (0.013667145245773617+0j),\n",
       " 'IXZZXYYI': (0.0345550444563833+0j),\n",
       " 'IXZZYYXI': (-0.0345550444563833+0j),\n",
       " 'IYZZXXYI': (-0.0345550444563833+0j),\n",
       " 'IYZZYXXI': (0.0345550444563833+0j),\n",
       " 'IXXYZZYI': (-0.03340984863842053+0j),\n",
       " 'IXYYZZXI': (0.03340984863842053+0j),\n",
       " 'IYXXZZYI': (0.03340984863842053+0j),\n",
       " 'IYYXZZXI': (-0.03340984863842053+0j),\n",
       " 'XIZZZZXI': (0.013667145245773617+0j),\n",
       " 'XZIZZZXI': (0.006723183836674237+0j),\n",
       " 'XZZIZZXI': (-0.026686664801746293+0j),\n",
       " 'XZZZIZXI': (-0.006909256728735572+0j),\n",
       " 'XZZZZIXI': (0.027645787727647725+0j),\n",
       " 'XZZZZZXI': (-0.014308578576770016+0j),\n",
       " 'XZZZZZXZ': (-0.012720876709062079+0j),\n",
       " 'YIZZZZYI': (0.013667145245773617+0j),\n",
       " 'YZIZZZYI': (0.006723183836674237+0j),\n",
       " 'YZZIZZYI': (-0.026686664801746293+0j),\n",
       " 'YZZZIZYI': (-0.006909256728735572+0j),\n",
       " 'YZZZZIYI': (0.027645787727647725+0j),\n",
       " 'YZZZZZYI': (-0.014308578576770016+0j),\n",
       " 'YZZZZZYZ': (-0.012720876709062079+0j),\n",
       " 'XZZZXXZX': (-0.0345550444563833+0j),\n",
       " 'XZZZXYZY': (-0.0345550444563833+0j),\n",
       " 'YZZZYXZX': (-0.0345550444563833+0j),\n",
       " 'YZZZYYZY': (-0.0345550444563833+0j),\n",
       " 'XZXXZZZX': (0.03340984863842053+0j),\n",
       " 'XZXYZZZY': (0.03340984863842053+0j),\n",
       " 'YZYXZZZX': (0.03340984863842053+0j),\n",
       " 'YZYYZZZY': (0.03340984863842053+0j),\n",
       " 'XXIIIIYY': (-0.023564402059144392+0j),\n",
       " 'XYIIIIYX': (0.023564402059144392+0j),\n",
       " 'YXIIIIXY': (0.023564402059144392+0j),\n",
       " 'YYIIIIXX': (-0.023564402059144392+0j),\n",
       " 'XXIIYYII': (-0.05724862633431716+0j),\n",
       " 'XYIIYXII': (0.05724862633431716+0j),\n",
       " 'YXIIXYII': (0.05724862633431716+0j),\n",
       " 'YYIIXXII': (-0.05724862633431716+0j),\n",
       " 'XXYYIIII': (-0.018939856552919382+0j),\n",
       " 'XYYXIIII': (0.018939856552919382+0j),\n",
       " 'YXXYIIII': (0.018939856552919382+0j),\n",
       " 'YYXXIIII': (-0.018939856552919382+0j)}"
      ]
     },
     "execution_count": 6,
     "metadata": {},
     "output_type": "execute_result"
    }
   ],
   "source": [
    "H_op.to_dictionary"
   ]
  },
  {
   "cell_type": "code",
   "execution_count": null,
   "id": "c97c5348",
   "metadata": {},
   "outputs": [],
   "source": []
  },
  {
   "cell_type": "code",
   "execution_count": null,
   "id": "20e1754c",
   "metadata": {},
   "outputs": [],
   "source": []
  }
 ],
 "metadata": {
  "kernelspec": {
   "display_name": "Python 3",
   "language": "python",
   "name": "python3"
  },
  "language_info": {
   "codemirror_mode": {
    "name": "ipython",
    "version": 3
   },
   "file_extension": ".py",
   "mimetype": "text/x-python",
   "name": "python",
   "nbconvert_exporter": "python",
   "pygments_lexer": "ipython3",
   "version": "3.8.14"
  }
 },
 "nbformat": 4,
 "nbformat_minor": 5
}
