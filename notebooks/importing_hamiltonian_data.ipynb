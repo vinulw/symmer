{
 "cells": [
  {
   "cell_type": "markdown",
   "id": "185d6c41",
   "metadata": {},
   "source": [
    "# Importing Hamiltonian data\n",
    "\n",
    "There are sample Hamiltonians stored in `symmer/tests/hamiltonian_data`"
   ]
  },
  {
   "cell_type": "code",
   "execution_count": 1,
   "id": "603b73fd",
   "metadata": {},
   "outputs": [],
   "source": [
    "import os\n",
    "from symmer.symplectic.base import PauliwordOp\n",
    "import json"
   ]
  },
  {
   "cell_type": "code",
   "execution_count": 2,
   "id": "969ca4d4",
   "metadata": {},
   "outputs": [],
   "source": [
    "test_dir = os.path.join(os.path.dirname(os.getcwd()), 'tests')\n",
    "ham_data_dir = os.path.join(test_dir, 'hamiltonian_data')\n",
    "if not os.path.isdir(ham_data_dir):\n",
    "    raise ValueError('cannot find data dir')"
   ]
  },
  {
   "cell_type": "code",
   "execution_count": 3,
   "id": "286e552f",
   "metadata": {},
   "outputs": [
    {
     "data": {
      "text/plain": [
       "['C_STO-3G_TRIPLET_JW.json',\n",
       " 'H2_6-31G_SINGLET_JW.json',\n",
       " 'HCl_STO-3G_SINGLET_BK.json',\n",
       " 'HeH+_6-311G_SINGLET_BK.json',\n",
       " 'BeH2_STO-3G_SINGLET_JW.json',\n",
       " 'NH4+_STO-3G_SINGLET_BK.json',\n",
       " 'SiH4_STO-3G_SINGLET_JW.json',\n",
       " 'LiOH_STO-3G_SINGLET_JW.json',\n",
       " 'H2O_STO-3G_SINGLET_BK.json',\n",
       " 'LiOH_STO-3G_SINGLET_BK.json',\n",
       " 'OH-_STO-3G_SINGLET_BK.json',\n",
       " 'Be_STO-3G_SINGLET_JW.json',\n",
       " 'O2_STO-3G_TRIPLET_JW.json',\n",
       " 'BeH+_STO-3G_SINGLET_BK.json',\n",
       " 'H3+_3-21G_SINGLET_BK.json',\n",
       " 'H3+_3-21G_SINGLET_JW.json',\n",
       " 'H3+_STO-3G_SINGLET_JW.json',\n",
       " 'HCN_STO-3G_SINGLET_JW.json',\n",
       " 'H4_STO-3G_SINGLET_BK.json',\n",
       " 'NH2-_STO-3G_SINGLET_BK.json',\n",
       " 'LiH_STO-3G_SINGLET_JW.json',\n",
       " 'CH2_STO-3G_TRIPLET_JW.json',\n",
       " 'H6_STO-3G_SINGLET_JW.json',\n",
       " 'H2O_STO-3G_SINGLET_JW.json',\n",
       " 'CH+_STO-3G_SINGLET_BK.json',\n",
       " 'CH2_STO-3G_TRIPLET_BK.json',\n",
       " 'BeH+_STO-3G_SINGLET_JW.json',\n",
       " 'Li_STO-3G_DOUBLET_BK.json',\n",
       " 'H6_STO-3G_SINGLET_BK.json',\n",
       " 'NH_STO-3G_SINGLET_JW.json',\n",
       " 'CH3OH_STO-3G_SINGLET_JW.json',\n",
       " 'HF_3-21G_SINGLET_BK.json',\n",
       " 'HeH+_3-21G_SINGLET_JW.json',\n",
       " 'LiH_STO-3G_SINGLET_BK.json',\n",
       " 'NaCl_STO-3G_SINGLET_BK.json',\n",
       " 'N_STO-3G_QUARTET_BK.json',\n",
       " 'B+_STO-3G_SINGLET_JW.json',\n",
       " 'Li_STO-3G_DOUBLET_JW.json',\n",
       " 'NaH_STO-3G_SINGLET_JW.json',\n",
       " 'MgH2_STO-3G_SINGLET_BK.json',\n",
       " 'NH_STO-3G_SINGLET_BK.json',\n",
       " 'NH2-_STO-3G_SINGLET_JW.json',\n",
       " 'H4_STO-3G_SINGLET_JW.json',\n",
       " 'Mg_STO-3G_SINGLET_BK.json',\n",
       " 'CH3OH_STO-3G_SINGLET_BK.json',\n",
       " 'CO2_STO-3G_SINGLET_JW.json',\n",
       " 'CH4_STO-3G_SINGLET_JW.json',\n",
       " 'NaCl_STO-3G_SINGLET_JW.json',\n",
       " 'H3+_STO-3G_SINGLET_BK.json',\n",
       " 'NH3_STO-3G_SINGLET_JW.json',\n",
       " 'OH-_STO-3G_SINGLET_JW.json',\n",
       " 'H3O+_STO-3G_SINGLET_JW.json',\n",
       " 'BH_STO-3G_SINGLET_JW.json',\n",
       " 'HF_STO-3G_SINGLET_BK.json',\n",
       " 'NaH_STO-3G_SINGLET_BK.json',\n",
       " 'O2_STO-3G_TRIPLET_BK.json',\n",
       " 'CO2_STO-3G_SINGLET_BK.json',\n",
       " 'HeH+_6-311G_SINGLET_JW.json',\n",
       " 'N2_STO-3G_SINGLET_BK.json',\n",
       " 'NeH+_STO-3G_SINGLET_BK.json',\n",
       " 'C_STO-3G_TRIPLET_BK.json',\n",
       " 'H2_6-311G_SINGLET_BK.json',\n",
       " 'B_STO-3G_DOUBLET_JW.json',\n",
       " 'BeH2_STO-3G_SINGLET_BK.json',\n",
       " 'B+_STO-3G_SINGLET_BK.json',\n",
       " 'HeH+_3-21G_SINGLET_BK.json',\n",
       " 'HCN_STO-3G_SINGLET_BK.json',\n",
       " 'N_STO-3G_QUARTET_JW.json',\n",
       " 'HF_STO-3G_SINGLET_JW.json',\n",
       " 'HOOH_STO-3G_SINGLET_BK.json',\n",
       " 'CH+_STO-3G_SINGLET_JW.json',\n",
       " 'CH4_STO-3G_SINGLET_BK.json',\n",
       " 'H2S_STO-3G_SINGLET_BK.json',\n",
       " 'MgH2_STO-3G_SINGLET_JW.json',\n",
       " 'BH2+_STO-3G_SINGLET_JW.json',\n",
       " 'Mg_STO-3G_SINGLET_JW.json',\n",
       " 'B_STO-3G_DOUBLET_BK.json',\n",
       " 'NH4+_STO-3G_SINGLET_JW.json',\n",
       " 'H2_6-311G_SINGLET_JW.json',\n",
       " 'F2_STO-3G_SINGLET_JW.json',\n",
       " 'HF_3-21G_SINGLET_JW.json',\n",
       " 'NeH+_STO-3G_SINGLET_JW.json',\n",
       " 'H3O+_STO-3G_SINGLET_BK.json',\n",
       " 'O_STO-3G_TRIPLET_JW.json',\n",
       " 'BH_STO-3G_SINGLET_BK.json',\n",
       " 'H2_3-21G_SINGLET_JW.json',\n",
       " 'HOOH_STO-3G_SINGLET_JW.json',\n",
       " 'NH3_STO-3G_SINGLET_BK.json',\n",
       " 'N2_STO-3G_SINGLET_JW.json',\n",
       " 'LiH_3-21G_SINGLET_BK.json',\n",
       " 'H2S_STO-3G_SINGLET_JW.json',\n",
       " 'CO_STO-3G_SINGLET_BK.json',\n",
       " 'Be_STO-3G_SINGLET_BK.json',\n",
       " 'H2_3-21G_SINGLET_BK.json',\n",
       " 'H2_6-31G_SINGLET_BK.json',\n",
       " 'SiH4_STO-3G_SINGLET_BK.json',\n",
       " 'BH2+_STO-3G_SINGLET_BK.json',\n",
       " 'F2_STO-3G_SINGLET_BK.json',\n",
       " 'CO_STO-3G_SINGLET_JW.json',\n",
       " 'HCl_STO-3G_SINGLET_JW.json',\n",
       " 'LiH_3-21G_SINGLET_JW.json']"
      ]
     },
     "execution_count": 3,
     "metadata": {},
     "output_type": "execute_result"
    }
   ],
   "source": [
    "# possible json import files! \n",
    "os.listdir(ham_data_dir)"
   ]
  },
  {
   "cell_type": "code",
   "execution_count": 4,
   "id": "4f338a43",
   "metadata": {},
   "outputs": [],
   "source": [
    "filename = 'H4_STO-3G_SINGLET_JW.json'\n",
    "\n",
    "if filename not in os.listdir(ham_data_dir):\n",
    "    raise ValueError('unknown file')\n",
    "    \n",
    "with open(os.path.join(ham_data_dir, filename), 'r') as infile:\n",
    "    data_dict = json.load(infile)"
   ]
  },
  {
   "cell_type": "code",
   "execution_count": 5,
   "id": "8700289f",
   "metadata": {},
   "outputs": [],
   "source": [
    "H_op = PauliwordOp.from_dictionary(data_dict['hamiltonian'])"
   ]
  },
  {
   "cell_type": "code",
   "execution_count": 6,
   "id": "8229f4b9",
   "metadata": {},
   "outputs": [
    {
     "data": {
      "text/plain": [
       "{'IIIIIIII': (-1.0811399195666882+0j),\n",
       " 'IIIIIIIZ': (0.013810914373994877+0j),\n",
       " 'IIIIIIZI': (0.013810914373994856+0j),\n",
       " 'IIIIIIZZ': (0.09424143717952153+0j),\n",
       " 'IIIIIZII': (0.0375818021724733+0j),\n",
       " 'IIIIIZIZ': (0.0495524866742017+0j),\n",
       " 'IIIIIZZI': (0.07052407412802436+0j),\n",
       " 'IIIIZIII': (0.037581802172473346+0j),\n",
       " 'IIIIZIIZ': (0.07052407412802436+0j),\n",
       " 'IIIIZIZI': (0.0495524866742017+0j),\n",
       " 'IIIIZZII': (0.1163739477015471+0j),\n",
       " 'IIIZIIII': (0.0375818021724732+0j),\n",
       " 'IIIZIIIZ': (0.04186848978406607+0j),\n",
       " 'IIIZIIZI': (0.10114884701928653+0j),\n",
       " 'IIIZIZII': (0.053565504944958195+0j),\n",
       " 'IIIZZIII': (0.05363624495664159+0j),\n",
       " 'IIZIIIII': (0.037581802172473255+0j),\n",
       " 'IIZIIIIZ': (0.10114884701928653+0j),\n",
       " 'IIZIIIZI': (0.04186848978406607+0j),\n",
       " 'IIZIIZII': (0.05363624495664159+0j),\n",
       " 'IIZIZIII': (0.053565504944958195+0j),\n",
       " 'IIZZIIII': (0.1163739477015471+0j),\n",
       " 'IZIIIIII': (0.06458158745266915+0j),\n",
       " 'IZIIIIIZ': (0.053811564684024205+0j),\n",
       " 'IZIIIIZI': (0.0773759667431686+0j),\n",
       " 'IZIIIZII': (0.04219860803868384+0j),\n",
       " 'IZIIZIII': (0.09944723437300101+0j),\n",
       " 'IZIZIIII': (0.04988260492881946+0j),\n",
       " 'IZZIIIII': (0.06882246148173884+0j),\n",
       " 'ZIIIIIII': (0.06458158745266904+0j),\n",
       " 'ZIIIIIIZ': (0.0773759667431686+0j),\n",
       " 'ZIIIIIZI': (0.053811564684024205+0j),\n",
       " 'ZIIIIZII': (0.09944723437300101+0j),\n",
       " 'ZIIIZIII': (0.04219860803868384+0j),\n",
       " 'ZIIZIIII': (0.06882246148173884+0j),\n",
       " 'ZIZIIIII': (0.04988260492881946+0j),\n",
       " 'ZZIIIIII': (0.09088382270620027+0j),\n",
       " 'IIIIXXYY': (-0.020971587453822663+0j),\n",
       " 'IIIIXYYX': (0.020971587453822663+0j),\n",
       " 'IIIIYXXY': (0.020971587453822663+0j),\n",
       " 'IIIIYYXX': (-0.020971587453822663+0j),\n",
       " 'IIXXIIYY': (-0.05928035723522046+0j),\n",
       " 'IIXYIIYX': (0.05928035723522046+0j),\n",
       " 'IIYXIIXY': (0.05928035723522046+0j),\n",
       " 'IIYYIIXX': (-0.05928035723522046+0j),\n",
       " 'IIXXYYII': (-7.074001168339471e-05+0j),\n",
       " 'IIXYYXII': (7.074001168339471e-05+0j),\n",
       " 'IIYXXYII': (7.074001168339471e-05+0j),\n",
       " 'IIYYXXII': (-7.074001168339471e-05+0j),\n",
       " 'IXIZZZZX': (-0.026686664801746293+0j),\n",
       " 'IXZIZZZX': (0.006723183836674237+0j),\n",
       " 'IXZZIZZX': (0.027645787727647725+0j),\n",
       " 'IXZZZIZX': (-0.006909256728735572+0j),\n",
       " 'IXZZZZIX': (-0.012720876709062079+0j),\n",
       " 'IXZZZZZX': (-0.014308578576770023+0j),\n",
       " 'IYIZZZZY': (-0.026686664801746293+0j),\n",
       " 'IYZIZZZY': (0.006723183836674237+0j),\n",
       " 'IYZZIZZY': (0.027645787727647725+0j),\n",
       " 'IYZZZIZY': (-0.006909256728735572+0j),\n",
       " 'IYZZZZIY': (-0.012720876709062079+0j),\n",
       " 'IYZZZZZY': (-0.014308578576770023+0j),\n",
       " 'ZXZZZZZX': (0.013667145245773617+0j),\n",
       " 'ZYZZZZZY': (0.013667145245773617+0j),\n",
       " 'IXZZXYYI': (0.0345550444563833+0j),\n",
       " 'IXZZYYXI': (-0.0345550444563833+0j),\n",
       " 'IYZZXXYI': (-0.0345550444563833+0j),\n",
       " 'IYZZYXXI': (0.0345550444563833+0j),\n",
       " 'IXXYZZYI': (-0.03340984863842053+0j),\n",
       " 'IXYYZZXI': (0.03340984863842053+0j),\n",
       " 'IYXXZZYI': (0.03340984863842053+0j),\n",
       " 'IYYXZZXI': (-0.03340984863842053+0j),\n",
       " 'XIZZZZXI': (0.013667145245773617+0j),\n",
       " 'XZIZZZXI': (0.006723183836674237+0j),\n",
       " 'XZZIZZXI': (-0.026686664801746293+0j),\n",
       " 'XZZZIZXI': (-0.006909256728735572+0j),\n",
       " 'XZZZZIXI': (0.027645787727647725+0j),\n",
       " 'XZZZZZXI': (-0.014308578576770016+0j),\n",
       " 'XZZZZZXZ': (-0.012720876709062079+0j),\n",
       " 'YIZZZZYI': (0.013667145245773617+0j),\n",
       " 'YZIZZZYI': (0.006723183836674237+0j),\n",
       " 'YZZIZZYI': (-0.026686664801746293+0j),\n",
       " 'YZZZIZYI': (-0.006909256728735572+0j),\n",
       " 'YZZZZIYI': (0.027645787727647725+0j),\n",
       " 'YZZZZZYI': (-0.014308578576770016+0j),\n",
       " 'YZZZZZYZ': (-0.012720876709062079+0j),\n",
       " 'XZZZXXZX': (-0.0345550444563833+0j),\n",
       " 'XZZZXYZY': (-0.0345550444563833+0j),\n",
       " 'YZZZYXZX': (-0.0345550444563833+0j),\n",
       " 'YZZZYYZY': (-0.0345550444563833+0j),\n",
       " 'XZXXZZZX': (0.03340984863842053+0j),\n",
       " 'XZXYZZZY': (0.03340984863842053+0j),\n",
       " 'YZYXZZZX': (0.03340984863842053+0j),\n",
       " 'YZYYZZZY': (0.03340984863842053+0j),\n",
       " 'XXIIIIYY': (-0.023564402059144392+0j),\n",
       " 'XYIIIIYX': (0.023564402059144392+0j),\n",
       " 'YXIIIIXY': (0.023564402059144392+0j),\n",
       " 'YYIIIIXX': (-0.023564402059144392+0j),\n",
       " 'XXIIYYII': (-0.05724862633431716+0j),\n",
       " 'XYIIYXII': (0.05724862633431716+0j),\n",
       " 'YXIIXYII': (0.05724862633431716+0j),\n",
       " 'YYIIXXII': (-0.05724862633431716+0j),\n",
       " 'XXYYIIII': (-0.018939856552919382+0j),\n",
       " 'XYYXIIII': (0.018939856552919382+0j),\n",
       " 'YXXYIIII': (0.018939856552919382+0j),\n",
       " 'YYXXIIII': (-0.018939856552919382+0j)}"
      ]
     },
     "execution_count": 6,
     "metadata": {},
     "output_type": "execute_result"
    }
   ],
   "source": [
    "H_op.to_dictionary"
   ]
  },
  {
   "cell_type": "code",
   "execution_count": null,
   "id": "c97c5348",
   "metadata": {},
   "outputs": [],
   "source": []
  },
  {
   "cell_type": "code",
   "execution_count": 9,
   "id": "20e1754c",
   "metadata": {},
   "outputs": [
    {
     "data": {
      "text/plain": [
       "[1, 1, 1, 1, 0, 0, 0, 0]"
      ]
     },
     "execution_count": 9,
     "metadata": {},
     "output_type": "execute_result"
    }
   ],
   "source": [
    "data_dict['data']['hf_array']"
   ]
  },
  {
   "cell_type": "code",
   "execution_count": 10,
   "id": "72f656d4",
   "metadata": {},
   "outputs": [],
   "source": [
    "from symmer.projection import QubitTapering"
   ]
  },
  {
   "cell_type": "code",
   "execution_count": 11,
   "id": "da2d3307",
   "metadata": {},
   "outputs": [],
   "source": [
    "H = PauliwordOp.from_dictionary(data_dict['hamiltonian'])"
   ]
  },
  {
   "cell_type": "code",
   "execution_count": 15,
   "id": "429a5ccb",
   "metadata": {},
   "outputs": [],
   "source": [
    "QT = QubitTapering(H)"
   ]
  },
  {
   "cell_type": "code",
   "execution_count": 28,
   "id": "22c178ce",
   "metadata": {},
   "outputs": [
    {
     "data": {
      "text/plain": [
       " 0.287+0.004j |00011011> +\n",
       "-0.287-0.004j |00100111> +\n",
       " 0.070+0.001j |01011010> +\n",
       "-0.351-0.005j |01100110> +\n",
       " 0.280+0.004j |01101001> +\n",
       " 0.280+0.004j |10010110> +\n",
       "-0.351-0.005j |10011001> +\n",
       " 0.070+0.001j |10100101> +\n",
       "-0.460-0.007j |11011000> +\n",
       " 0.460+0.007j |11100100>"
      ]
     },
     "execution_count": 28,
     "metadata": {},
     "output_type": "execute_result"
    }
   ],
   "source": [
    "from symmer.utils import exact_gs_energy\n",
    "from symmer.symplectic import QuantumState\n",
    "\n",
    "gs_nrg, gs_vec = exact_gs_energy(H.to_sparse_matrix)\n",
    "gs_psi = QuantumState.from_array(gs_vec).cleanup(zero_threshold=1e-5)\n",
    "gs_psi"
   ]
  },
  {
   "cell_type": "code",
   "execution_count": 36,
   "id": "4dc05341",
   "metadata": {},
   "outputs": [
    {
     "data": {
      "text/plain": [
       "<AxesSubplot:xlabel='binary output', ylabel='probability amplitude'>"
      ]
     },
     "execution_count": 36,
     "metadata": {},
     "output_type": "execute_result"
    },
    {
     "data": {
      "image/png": "[encoded data removed]",
      "text/plain": [
       "<Figure size 640x480 with 1 Axes>"
      ]
     },
     "metadata": {},
     "output_type": "display_data"
    }
   ],
   "source": [
    "gs_psi.plot_state()"
   ]
  },
  {
   "cell_type": "code",
   "execution_count": 31,
   "id": "29c5c158",
   "metadata": {},
   "outputs": [
    {
     "name": "stdout",
     "output_type": "stream",
     "text": [
      "[0 0 0 1 1 0 1 1]\n",
      "[-1 -1  1  1]\n",
      "[0 0 1 0 0 1 1 1]\n",
      "[-1 -1  1  1]\n",
      "[0 1 0 1 1 0 1 0]\n",
      "[-1 -1  1  1]\n",
      "[0 1 1 0 0 1 1 0]\n",
      "[-1 -1  1  1]\n",
      "[0 1 1 0 1 0 0 1]\n",
      "[-1 -1  1  1]\n",
      "[1 0 0 1 0 1 1 0]\n",
      "[-1 -1  1  1]\n",
      "[1 0 0 1 1 0 0 1]\n",
      "[-1 -1  1  1]\n",
      "[1 0 1 0 0 1 0 1]\n",
      "[-1 -1  1  1]\n",
      "[1 1 0 1 1 0 0 0]\n",
      "[-1 -1  1  1]\n",
      "[1 1 1 0 0 1 0 0]\n",
      "[-1 -1  1  1]\n"
     ]
    }
   ],
   "source": [
    "for ref in gs_psi.state_matrix:\n",
    "    print(ref)\n",
    "    QT.symmetry_generators.update_sector(ref)\n",
    "    print(QT.symmetry_generators.coeff_vec)"
   ]
  },
  {
   "cell_type": "code",
   "execution_count": 35,
   "id": "39282bfa",
   "metadata": {},
   "outputs": [
    {
     "data": {
      "text/plain": [
       "0"
      ]
     },
     "execution_count": 35,
     "metadata": {},
     "output_type": "execute_result"
    }
   ],
   "source": [
    "hf_psi = QuantumState([data_dict['data']['hf_array']])\n",
    "hf_psi.dagger * gs_psi"
   ]
  },
  {
   "cell_type": "code",
   "execution_count": 21,
   "id": "f1c6c539",
   "metadata": {},
   "outputs": [],
   "source": [
    "ref = [0,1,0,1,0,1,1,1]\n",
    "QT.symmetry_generators.update_sector(ref)"
   ]
  },
  {
   "cell_type": "code",
   "execution_count": 41,
   "id": "d3dba8a4",
   "metadata": {},
   "outputs": [
    {
     "data": {
      "text/plain": [
       " 1 IIIIXIII \n",
       " 1 IIXIIIII \n",
       "-1 IXIIIIII \n",
       "-1 XIIIIIII"
      ]
     },
     "execution_count": 41,
     "metadata": {},
     "output_type": "execute_result"
    }
   ],
   "source": [
    "QT.symmetry_generators.rotate_onto_single_qubit_paulis()"
   ]
  },
  {
   "cell_type": "code",
   "execution_count": 42,
   "id": "1487aa06",
   "metadata": {},
   "outputs": [
    {
     "data": {
      "text/plain": [
       "[( 1.000+0.000j IIIIYZII, None),\n",
       " ( 1.000+0.000j IIYZIIII, None),\n",
       " ( 1.000+0.000j IYIZIZIZ, None),\n",
       " ( 1.000+0.000j YIIZIZZI, None)]"
      ]
     },
     "execution_count": 42,
     "metadata": {},
     "output_type": "execute_result"
    }
   ],
   "source": [
    "QT.symmetry_generators.stabilizer_rotations"
   ]
  },
  {
   "cell_type": "code",
   "execution_count": 37,
   "id": "cd8e783c",
   "metadata": {},
   "outputs": [
    {
     "data": {
      "text/plain": [
       "-1.314+0.000j IIII +\n",
       " 0.014+0.000j IIIZ +\n",
       " 0.014+0.000j IIZI +\n",
       " 0.185+0.000j IIZZ +\n",
       "-0.040+0.000j IZIZ +\n",
       " 0.040+0.000j IZZI +\n",
       "-0.117+0.000j ZIIZ +\n",
       " 0.117+0.000j ZIZI +\n",
       " 0.107+0.000j ZZII +\n",
       " 0.065-0.000j ZZIZ +\n",
       " 0.065-0.000j ZZZI +\n",
       " 0.155+0.000j ZZZZ +\n",
       " 0.026+0.000j IIIX +\n",
       " 0.014-0.000j IIZX +\n",
       " 0.068+0.000j IZZX +\n",
       "-0.068+0.000j ZIZX +\n",
       "-0.026+0.000j ZZIX +\n",
       "-0.014+0.000j ZZZX +\n",
       "-0.026+0.000j IIXI +\n",
       "-0.014+0.000j IIXZ +\n",
       " 0.068+0.000j IZXZ +\n",
       "-0.068+0.000j ZIXZ +\n",
       " 0.026+0.000j ZZXI +\n",
       " 0.014+0.000j ZZXZ +\n",
       "-0.047+0.000j IIYY +\n",
       " 0.047+0.000j ZZYY +\n",
       "-0.057+0.000j IXII +\n",
       " 0.057+0.000j IXZZ +\n",
       " 0.057-0.000j ZXIZ +\n",
       "-0.057+0.000j ZXZI +\n",
       " 0.035-0.000j IXIX +\n",
       " 0.035-0.000j IYIY +\n",
       " 0.035+0.000j ZXZX +\n",
       " 0.035+0.000j ZYZY +\n",
       "-0.035+0.000j IXXI +\n",
       " 0.035-0.000j IYYI +\n",
       " 0.035+0.000j ZXXZ +\n",
       "-0.035+0.000j ZYYZ +\n",
       "-0.021+0.000j IXXX +\n",
       "-0.021+0.000j IXYY +\n",
       "-0.021+0.000j IYXY +\n",
       " 0.021+0.000j IYYX +\n",
       "-0.019+0.000j XIII +\n",
       " 0.019+0.000j XIZZ +\n",
       " 0.019-0.000j XZIZ +\n",
       "-0.019+0.000j XZZI +\n",
       "-0.033+0.000j XIIX +\n",
       "-0.033+0.000j XZZX +\n",
       "-0.033+0.000j YIIY +\n",
       "-0.033+0.000j YZZY +\n",
       " 0.033-0.000j XIXI +\n",
       "-0.033+0.000j XZXZ +\n",
       "-0.033+0.000j YIYI +\n",
       " 0.033+0.000j YZYZ +\n",
       "-0.059+0.000j XIXX +\n",
       "-0.059+0.000j XIYY +\n",
       "-0.059+0.000j YIXY +\n",
       " 0.059+0.000j YIYX +\n",
       "-0.000+0.000j XXII +\n",
       "-0.000+0.000j YYII"
      ]
     },
     "execution_count": 37,
     "metadata": {},
     "output_type": "execute_result"
    }
   ],
   "source": [
    "QT.taper_it()"
   ]
  },
  {
   "cell_type": "code",
   "execution_count": null,
   "id": "e1939a6d",
   "metadata": {},
   "outputs": [],
   "source": []
  }
 ],
 "metadata": {
  "kernelspec": {
   "display_name": "Python 3",
   "language": "python",
   "name": "python3"
  },
  "language_info": {
   "codemirror_mode": {
    "name": "ipython",
    "version": 3
   },
   "file_extension": ".py",
   "mimetype": "text/x-python",
   "name": "python",
   "nbconvert_exporter": "python",
   "pygments_lexer": "ipython3",
   "version": "3.8.14"
  }
 },
 "nbformat": 4,
 "nbformat_minor": 5
}
