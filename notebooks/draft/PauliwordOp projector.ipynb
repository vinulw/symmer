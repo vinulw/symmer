{
 "cells": [
  {
   "cell_type": "code",
   "execution_count": 1,
   "id": "c72945b3",
   "metadata": {},
   "outputs": [],
   "source": [
    "from symmer.symplectic import get_PauliwordOp_projector, PauliwordOp, QuantumState"
   ]
  },
  {
   "cell_type": "code",
   "execution_count": 2,
   "id": "0de88654",
   "metadata": {},
   "outputs": [
    {
     "data": {
      "text/plain": [
       " 0.183-0.039j |000> +\n",
       " 0.208-0.071j |001> +\n",
       " 0.002-0.002j |010> +\n",
       "-0.238-0.354j |011> +\n",
       " 0.105-0.177j |100> +\n",
       "-0.457-0.124j |101> +\n",
       "-0.264+0.513j |110> +\n",
       " 0.217-0.296j |111>"
      ]
     },
     "execution_count": 2,
     "metadata": {},
     "output_type": "execute_result"
    }
   ],
   "source": [
    "test = QuantumState.haar_random(3, vec_type='ket')\n",
    "test"
   ]
  },
  {
   "cell_type": "code",
   "execution_count": 3,
   "id": "59946fa4",
   "metadata": {},
   "outputs": [],
   "source": [
    "proj = get_PauliwordOp_projector('II0')"
   ]
  },
  {
   "cell_type": "code",
   "execution_count": 4,
   "id": "722afb93",
   "metadata": {},
   "outputs": [
    {
     "data": {
      "text/plain": [
       " 0.183-0.039j |000> +\n",
       " 0.002-0.002j |010> +\n",
       " 0.105-0.177j |100> +\n",
       "-0.264+0.513j |110>"
      ]
     },
     "execution_count": 4,
     "metadata": {},
     "output_type": "execute_result"
    }
   ],
   "source": [
    "proj*test"
   ]
  },
  {
   "cell_type": "code",
   "execution_count": 5,
   "id": "cd079f1e",
   "metadata": {},
   "outputs": [
    {
     "data": {
      "text/plain": [
       " 0.195-0.055j |000> +\n",
       " 0.195-0.055j |001> +\n",
       "-0.176-0.151j |100> +\n",
       "-0.176-0.151j |101>"
      ]
     },
     "execution_count": 5,
     "metadata": {},
     "output_type": "execute_result"
    }
   ],
   "source": [
    "proj_plus = get_PauliwordOp_projector('I0+')\n",
    "\n",
    "proj_plus*test"
   ]
  },
  {
   "cell_type": "code",
   "execution_count": 6,
   "id": "5829214a",
   "metadata": {},
   "outputs": [
    {
     "data": {
      "text/plain": [
       " 0.707+0.000j IIZ +\n",
       " 0.707+0.000j IIX"
      ]
     },
     "execution_count": 6,
     "metadata": {},
     "output_type": "execute_result"
    }
   ],
   "source": [
    "from symmer.evolution.gate_library import Had\n",
    "\n",
    "H3 = Had(n_qubits=3, index=2)\n",
    "H3"
   ]
  },
  {
   "cell_type": "code",
   "execution_count": 7,
   "id": "04400965",
   "metadata": {},
   "outputs": [
    {
     "data": {
      "text/plain": [
       " 0.276-0.078j |000> +\n",
       "-0.249-0.213j |100>"
      ]
     },
     "execution_count": 7,
     "metadata": {},
     "output_type": "execute_result"
    }
   ],
   "source": [
    "H3*proj_plus*test"
   ]
  },
  {
   "cell_type": "code",
   "execution_count": null,
   "id": "008c6411",
   "metadata": {},
   "outputs": [],
   "source": []
  }
 ],
 "metadata": {
  "kernelspec": {
   "display_name": "Python 3 (ipykernel)",
   "language": "python",
   "name": "python3"
  },
  "language_info": {
   "codemirror_mode": {
    "name": "ipython",
    "version": 3
   },
   "file_extension": ".py",
   "mimetype": "text/x-python",
   "name": "python",
   "nbconvert_exporter": "python",
   "pygments_lexer": "ipython3",
   "version": "3.7.13"
  }
 },
 "nbformat": 4,
 "nbformat_minor": 5
}
