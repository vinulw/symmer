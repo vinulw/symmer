{
 "cells": [
  {
   "cell_type": "markdown",
   "id": "c07b9d6d",
   "metadata": {},
   "source": [
    "# The `QuantumState` class\n",
    "\n",
    "Express an N-qubit quantum state as an array of N columns, where rows are binary bit values, complemented by a vector of coefficients. Note the similarity with the symplectic representation - indeed, the QuantumState class will infact set the above array as the X block in a PauliwordOp, with the Z block its complement.\n",
    "\n",
    "What we are doing here is writing $|0\\rangle = Z|0\\rangle$ and $|1\\rangle = X|0\\rangle$, which ensures correct phases when multiplying the state by Pauli operators, since\n",
    "\n",
    "$$X|0\\rangle = XZ|0\\rangle = -iY|0\\rangle = |1\\rangle,\\; X|1\\rangle = XX|0\\rangle = |0\\rangle$$\n",
    "$$Y|0\\rangle = YZ|0\\rangle = iX|0\\rangle = i|1\\rangle,\\; Y|1\\rangle = YX|0\\rangle = -iZ|0\\rangle = -i|0\\rangle$$\n",
    "$$Z|0\\rangle = ZZ|0\\rangle = |0\\rangle,\\; Z|1\\rangle = ZX|0\\rangle = iY|0\\rangle = -|1\\rangle$$\n",
    "\n",
    "Finally, we have $$| \\vec{b} \\rangle = \\bigotimes_{i=1}^N \\big(b_i X + (1-b_i) Z\\big) | \\vec{0} \\rangle$$ and we may drop the zero vector and use the functionality of PauliwordOp to manipulate quantum states. In this represenation, a quantum state is stored as an operator consisting of Paulis $X, Z$, which is implicitly applied to the zero (or vacuum) state. "
   ]
  },
  {
   "cell_type": "code",
   "execution_count": 1,
   "id": "b71a6aa8",
   "metadata": {},
   "outputs": [],
   "source": [
    "import numpy as np\n",
    "from symmer.symplectic import PauliwordOp, QuantumState"
   ]
  },
  {
   "cell_type": "markdown",
   "id": "14efa282",
   "metadata": {},
   "source": [
    "Firstly, note the correct phases under multiplication by a Pauli Y:"
   ]
  },
  {
   "cell_type": "code",
   "execution_count": 2,
   "id": "e5131b2d",
   "metadata": {},
   "outputs": [
    {
     "name": "stdout",
     "output_type": "stream",
     "text": [
      " 1.000+0.000j |0> ->  0.000+1.000j |1>\n",
      " 1.000+0.000j |1> ->  0.000-1.000j |0>\n"
     ]
    }
   ],
   "source": [
    "zero = QuantumState([[0]])\n",
    "one = QuantumState([[1]])\n",
    "Y = PauliwordOp.from_list(['Y'], [1])\n",
    "\n",
    "print(f'{zero} -> {Y * zero}')\n",
    "print(f'{one} -> {Y * one}')"
   ]
  },
  {
   "cell_type": "markdown",
   "id": "2e3a82d3",
   "metadata": {},
   "source": [
    "Now, let's see what happens when we apply the Hadamard gate to the zero state:"
   ]
  },
  {
   "cell_type": "code",
   "execution_count": 3,
   "id": "3a03866a",
   "metadata": {},
   "outputs": [
    {
     "name": "stdout",
     "output_type": "stream",
     "text": [
      "Zero state:  1.000+0.000j |00>\n",
      "\n",
      "After application of a Hadamard gate on each qubit position:\n",
      "\n",
      " 0.500+0.000j |00> +\n",
      " 0.500+0.000j |01> +\n",
      " 0.500+0.000j |10> +\n",
      " 0.500-0.000j |11>\n"
     ]
    }
   ],
   "source": [
    "from symmer.evolution import Had\n",
    "psi = QuantumState([[0,0]])\n",
    "H = Had(1, 0)\n",
    "HH = H.tensor(H)\n",
    "eq_superposition = HH * psi\n",
    "print(f'Zero state: {psi}\\n')\n",
    "print(f'After application of a Hadamard gate on each qubit position:\\n\\n{eq_superposition}')"
   ]
  },
  {
   "cell_type": "markdown",
   "id": "bd6c7f78",
   "metadata": {},
   "source": [
    "Observe that the QuantumState is represented internally by its `state_op`, a PauliwordOp object that governs its behaviour under multiplication"
   ]
  },
  {
   "cell_type": "code",
   "execution_count": 4,
   "id": "6c007a11",
   "metadata": {},
   "outputs": [
    {
     "name": "stdout",
     "output_type": "stream",
     "text": [
      " 0.500+0.000j ZZ +\n",
      " 0.500+0.000j ZX +\n",
      " 0.500+0.000j XZ +\n",
      " 0.500-0.000j XX\n"
     ]
    }
   ],
   "source": [
    "print(eq_superposition.state_op)"
   ]
  },
  {
   "cell_type": "markdown",
   "id": "66c9bd60",
   "metadata": {},
   "source": [
    "Try evaluating expectation values for randomly generated states and Hermitian operators:"
   ]
  },
  {
   "cell_type": "code",
   "execution_count": 5,
   "id": "277acf81",
   "metadata": {},
   "outputs": [
    {
     "name": "stdout",
     "output_type": "stream",
     "text": [
      " 0.124+0.223j |10001> +\n",
      " 0.006+0.125j |10011> +\n",
      " 0.315+0.312j |10011> +\n",
      " 0.221+0.129j |00110> +\n",
      " 0.258+0.066j |00111> +\n",
      " 0.286+0.256j |00000> +\n",
      " 0.271+0.158j |10010> +\n",
      " 0.052+0.295j |01100> +\n",
      " 0.259+0.262j |01100> +\n",
      " 0.163+0.297j |11100>\n",
      "\n",
      " 0.291+0.384j |11010> +\n",
      " 0.044+0.283j |01111> +\n",
      " 0.266+0.058j |10010> +\n",
      " 0.148+0.161j |00110> +\n",
      " 0.004+0.005j |10011> +\n",
      " 0.403+0.160j |00010> +\n",
      " 0.320+0.003j |01010> +\n",
      " 0.274+0.118j |01100> +\n",
      " 0.003+0.318j |00110> +\n",
      " 0.068+0.281j |11001>\n"
     ]
    }
   ],
   "source": [
    "N = 5 # number of qubits\n",
    "M = 10 # number of terms\n",
    "\n",
    "psi_1 = QuantumState.random_state(N, M)\n",
    "psi_2 = QuantumState.random_state(N, M)\n",
    "\n",
    "print(psi_1)\n",
    "print()\n",
    "print(psi_2)"
   ]
  },
  {
   "cell_type": "code",
   "execution_count": 6,
   "id": "2c9aa59f",
   "metadata": {},
   "outputs": [
    {
     "name": "stdout",
     "output_type": "stream",
     "text": [
      " 0.165+0.147j |00000> +\n",
      " 0.231+0.092j |00010> +\n",
      " 0.214+0.349j |00110> +\n",
      " 0.148+0.038j |00111> +\n",
      " 0.184+0.002j |01010> +\n",
      " 0.336+0.388j |01100> +\n",
      " 0.025+0.162j |01111> +\n",
      " 0.071+0.128j |10001> +\n",
      " 0.308+0.124j |10010> +\n",
      " 0.187+0.254j |10011> +\n",
      " 0.039+0.162j |11001> +\n",
      " 0.167+0.221j |11010> +\n",
      " 0.094+0.171j |11100>\n",
      "\n",
      "Norm: (1.0000000000000002+0j)\n"
     ]
    }
   ],
   "source": [
    "psi = (psi_1 + psi_2).normalize\n",
    "print(psi)\n",
    "print()\n",
    "print('Norm:', psi.dagger * psi)"
   ]
  },
  {
   "cell_type": "markdown",
   "id": "54218b69",
   "metadata": {},
   "source": [
    "We may also generate haar-random states, although this is more computationally expensive due to an internal QR-decomposition."
   ]
  },
  {
   "cell_type": "code",
   "execution_count": 7,
   "id": "05dc6d0a",
   "metadata": {},
   "outputs": [
    {
     "name": "stdout",
     "output_type": "stream",
     "text": [
      "-0.092+0.009j |00000> +\n",
      "-0.238-0.090j |00001> +\n",
      "-0.013+0.045j |00010> +\n",
      "-0.039-0.056j |00011> +\n",
      " 0.051+0.062j |00100> +\n",
      " 0.059+0.126j |00101> +\n",
      "-0.096-0.033j |00110> +\n",
      "-0.183+0.165j |00111> +\n",
      "-0.155+0.071j |01000> +\n",
      "-0.128-0.042j |01001> +\n",
      "-0.274+0.025j |01010> +\n",
      " 0.042-0.131j |01011> +\n",
      " 0.109+0.229j |01100> +\n",
      "-0.088-0.013j |01101> +\n",
      " 0.014+0.205j |01110> +\n",
      "-0.017+0.063j |01111> +\n",
      " 0.238-0.143j |10000> +\n",
      " 0.066-0.123j |10001> +\n",
      " 0.003+0.048j |10010> +\n",
      " 0.051+0.119j |10011> +\n",
      " 0.204-0.251j |10100> +\n",
      " 0.037+0.079j |10101> +\n",
      " 0.027-0.125j |10110> +\n",
      "-0.087-0.188j |10111> +\n",
      "-0.027-0.182j |11000> +\n",
      "-0.074-0.136j |11001> +\n",
      "-0.085+0.222j |11010> +\n",
      " 0.041+0.061j |11011> +\n",
      " 0.115-0.144j |11100> +\n",
      " 0.202+0.114j |11101> +\n",
      "-0.059+0.001j |11110> +\n",
      "-0.196-0.160j |11111>\n"
     ]
    }
   ],
   "source": [
    "psi = QuantumState.haar_random(N)\n",
    "print(psi)"
   ]
  },
  {
   "cell_type": "code",
   "execution_count": 8,
   "id": "bc1e9705",
   "metadata": {},
   "outputs": [
    {
     "name": "stdout",
     "output_type": "stream",
     "text": [
      "Generate a random Hermitian operator:\n",
      "\n",
      "-0.628+0.000j YIIYX +\n",
      "-0.476+0.000j ZYZIX +\n",
      " 0.283+0.000j ZXIIY +\n",
      "-0.340+0.000j IYXIX +\n",
      " 0.150+0.000j IZXZY +\n",
      " 0.638+0.000j ZXYIY +\n",
      "-1.085+0.000j IIXIZ +\n",
      "-1.319+0.000j YYIYY +\n",
      "-0.957+0.000j YYIZI +\n",
      " 0.731+0.000j IXIIX\n",
      "\n",
      "Expectation value <psi|op|psi> = -0.43995664430038856\n"
     ]
    }
   ],
   "source": [
    "print('Generate a random Hermitian operator:\\n')\n",
    "op = PauliwordOp.random(N, 10, complex_coeffs=False)\n",
    "print(op)\n",
    "print()\n",
    "print('Expectation value <psi|op|psi> =', (psi.dagger * op * psi).real)"
   ]
  },
  {
   "cell_type": "markdown",
   "id": "bca48c97",
   "metadata": {},
   "source": [
    "It is also possible to convert from a $2^N$ dimensional statevector over $N$ qubits to a `QuantumState` object, via the `from_array` initialization method:"
   ]
  },
  {
   "cell_type": "code",
   "execution_count": 9,
   "id": "bb741ebd",
   "metadata": {},
   "outputs": [
    {
     "name": "stdout",
     "output_type": "stream",
     "text": [
      " 0.408+0.000j |0000000000> +\n",
      " 0.577+0.000j |0011111010> +\n",
      " 0.707+0.000j |0111110100>\n",
      "(1+0j)\n"
     ]
    }
   ],
   "source": [
    "statevector = np.zeros(2**10).reshape([-1,1])\n",
    "statevector[0]   = np.sqrt(1/6)\n",
    "statevector[250] = np.sqrt(2/6)\n",
    "statevector[500] = np.sqrt(3/6)\n",
    "psi = QuantumState.from_array(statevector)\n",
    "print(psi)\n",
    "print(psi.dagger * psi)"
   ]
  },
  {
   "cell_type": "markdown",
   "id": "ca88faef",
   "metadata": {},
   "source": [
    "# Manipulating Quantum Measurement Data\n",
    "\n",
    "Given a dictionary of measurement outcomes from a quantum experiment, we may intialize a QuantumState for further postprocessing.\n",
    "\n",
    "- Dictionary given as: \n",
    "    - key=bitstring\n",
    "    - value=number of occurences or relative frequency"
   ]
  },
  {
   "cell_type": "code",
   "execution_count": 10,
   "id": "7c0d7bcd",
   "metadata": {},
   "outputs": [
    {
     "data": {
      "text/plain": [
       " 4.000+0.000j |0101> +\n",
       " 10.000+0.000j |1101> +\n",
       " 20.000+0.000j |0001> +\n",
       " 16.000+0.000j |1111>"
      ]
     },
     "execution_count": 10,
     "metadata": {},
     "output_type": "execute_result"
    }
   ],
   "source": [
    "measurement_data = {\n",
    "    '0101':4,\n",
    "    '1101':10,\n",
    "    '0001':20,\n",
    "    '1111':16\n",
    "}\n",
    "\n",
    "psi_measured = QuantumState.from_dictionary(measurement_data)\n",
    "psi_measured"
   ]
  },
  {
   "cell_type": "markdown",
   "id": "a5ef6ef0",
   "metadata": {},
   "source": [
    "The coefficients here are the number of occurences of each output bitstring. These may be normalized using `normalize_counts` to ensure the correct probability distrubution is preserved:"
   ]
  },
  {
   "cell_type": "code",
   "execution_count": 11,
   "id": "4d645b45",
   "metadata": {},
   "outputs": [
    {
     "name": "stdout",
     "output_type": "stream",
     "text": [
      " 0.283+0.000j |0101> +\n",
      " 0.447+0.000j |1101> +\n",
      " 0.632+0.000j |0001> +\n",
      " 0.566+0.000j |1111>\n"
     ]
    },
    {
     "data": {
      "image/png": "[encoded data removed]",
      "text/plain": [
       "<Figure size 300x200 with 1 Axes>"
      ]
     },
     "metadata": {
      "needs_background": "light"
     },
     "output_type": "display_data"
    }
   ],
   "source": [
    "print(psi_measured.normalize_counts)\n",
    "ax = psi_measured.normalize_counts.plot_state(dpi=50)"
   ]
  },
  {
   "cell_type": "markdown",
   "id": "98feda0a",
   "metadata": {},
   "source": [
    "This is __not__ the same as taking the $L^2$-norm - the probability distrubtions do not align."
   ]
  },
  {
   "cell_type": "code",
   "execution_count": 12,
   "id": "2bd472ba",
   "metadata": {},
   "outputs": [
    {
     "name": "stdout",
     "output_type": "stream",
     "text": [
      " 0.144+0.000j |0101> +\n",
      " 0.360+0.000j |1101> +\n",
      " 0.720+0.000j |0001> +\n",
      " 0.576+0.000j |1111>\n"
     ]
    },
    {
     "data": {
      "image/png": "[encoded data removed]",
      "text/plain": [
       "<Figure size 300x200 with 1 Axes>"
      ]
     },
     "metadata": {
      "needs_background": "light"
     },
     "output_type": "display_data"
    }
   ],
   "source": [
    "print(psi_measured.normalize)\n",
    "# this shouldn't be used for normalizing quantum experiment data\n",
    "# ... but functionality is still useful for normalizing states in the general setting\n",
    "ax = psi_measured.normalize.plot_state(dpi=50)"
   ]
  },
  {
   "cell_type": "markdown",
   "id": "480c0ade",
   "metadata": {},
   "source": [
    "# State sampling\n",
    "\n",
    "It is also possible to randomly sample the state, just like a quantum experiment - this is particularly useful for the purposes of bootstrapping for statistical analysis of quantum experiments."
   ]
  },
  {
   "cell_type": "code",
   "execution_count": 13,
   "id": "5653acac",
   "metadata": {},
   "outputs": [
    {
     "data": {
      "text/plain": [
       " 0.316+0.000j |0101> +\n",
       " 0.400+0.000j |1101> +\n",
       " 0.663+0.000j |0001> +\n",
       " 0.548+0.000j |1111>"
      ]
     },
     "execution_count": 13,
     "metadata": {},
     "output_type": "execute_result"
    }
   ],
   "source": [
    "psi_measured_normalized = psi_measured.normalize_counts\n",
    "psi_measured_normalized.sample_state(n_samples=50, return_normalized=True)"
   ]
  },
  {
   "cell_type": "markdown",
   "id": "5eaed274",
   "metadata": {},
   "source": [
    "Given enough samples, the original state will be reproduced exactly:"
   ]
  },
  {
   "cell_type": "code",
   "execution_count": 14,
   "id": "f14fe0a8",
   "metadata": {},
   "outputs": [
    {
     "name": "stdout",
     "output_type": "stream",
     "text": [
      "With n_samples=1         , <psi_sampled|psi_true> = (0.565685424949238+0j)\n",
      "With n_samples=4         , <psi_sampled|psi_true> = (0.8305652699797851+0j)\n",
      "With n_samples=16        , <psi_sampled|psi_true> = (0.9954902016102906+0j)\n",
      "With n_samples=64        , <psi_sampled|psi_true> = (0.999725792960293+0j)\n",
      "With n_samples=256       , <psi_sampled|psi_true> = (0.9994644577520957+0j)\n",
      "With n_samples=1024      , <psi_sampled|psi_true> = (0.9995985782825667+0j)\n",
      "With n_samples=4096      , <psi_sampled|psi_true> = (0.9999262348753617+0j)\n",
      "With n_samples=16384     , <psi_sampled|psi_true> = (0.9999985895805814+0j)\n",
      "With n_samples=65536     , <psi_sampled|psi_true> = (0.9999996723422171+0j)\n",
      "With n_samples=262144    , <psi_sampled|psi_true> = (0.9999993828875069+0j)\n",
      "With n_samples=1048576   , <psi_sampled|psi_true> = (0.9999997925879097+0j)\n",
      "With n_samples=4194304   , <psi_sampled|psi_true> = (0.9999998231976286+0j)\n",
      "With n_samples=16777216  , <psi_sampled|psi_true> = (0.9999999802117033+0j)\n",
      "With n_samples=67108864  , <psi_sampled|psi_true> = (0.9999999993585225+0j)\n",
      "With n_samples=268435456 , <psi_sampled|psi_true> = (0.9999999994048843+0j)\n"
     ]
    }
   ],
   "source": [
    "for n_samples in 2**np.arange(0, 30, 2):\n",
    "    psi_sampled = psi_measured_normalized.sample_state(n_samples=n_samples, return_normalized=True)\n",
    "    print(f'With n_samples={n_samples: <10}, <psi_sampled|psi_true> = {psi_sampled.dagger * psi_measured_normalized}')"
   ]
  },
  {
   "cell_type": "markdown",
   "id": "cfd71f22",
   "metadata": {},
   "source": [
    "# Plotting probabillity amplitudes of quantum state"
   ]
  },
  {
   "cell_type": "code",
   "execution_count": 15,
   "id": "8b6fe4c7",
   "metadata": {},
   "outputs": [
    {
     "name": "stdout",
     "output_type": "stream",
     "text": [
      " 0.239-0.109j |000> +\n",
      "-0.490-0.447j |001> +\n",
      "-0.426-0.047j |010> +\n",
      "-0.212+0.205j |011> +\n",
      "-0.119+0.137j |100> +\n",
      " 0.292-0.178j |101> +\n",
      "-0.125-0.057j |110> +\n",
      "-0.114-0.196j |111>\n"
     ]
    }
   ],
   "source": [
    "%matplotlib inline\n",
    "random_state = QuantumState.haar_random(3, vec_type='ket')\n",
    "print(random_state)"
   ]
  },
  {
   "cell_type": "code",
   "execution_count": 16,
   "id": "2fdfbaf2",
   "metadata": {},
   "outputs": [
    {
     "data": {
      "image/png": "[encoded data removed]",
      "text/plain": [
       "<Figure size 600x400 with 1 Axes>"
      ]
     },
     "metadata": {
      "needs_background": "light"
     },
     "output_type": "display_data"
    }
   ],
   "source": [
    "ax = random_state.plot_state(dpi=100)"
   ]
  },
  {
   "cell_type": "code",
   "execution_count": 17,
   "id": "267f7600",
   "metadata": {},
   "outputs": [
    {
     "data": {
      "image/png": "[encoded data removed]",
      "text/plain": [
       "<Figure size 600x400 with 1 Axes>"
      ]
     },
     "metadata": {
      "needs_background": "light"
     },
     "output_type": "display_data"
    }
   ],
   "source": [
    "%matplotlib inline\n",
    "random_large_state = QuantumState.haar_random(10, vec_type='ket')\n",
    "ax2 = random_large_state.plot_state(logscale=False)"
   ]
  },
  {
   "cell_type": "code",
   "execution_count": 18,
   "id": "47ba9923",
   "metadata": {},
   "outputs": [
    {
     "data": {
      "text/plain": [
       "<AxesSubplot:xlabel='binary output', ylabel='probability amplitude'>"
      ]
     },
     "execution_count": 18,
     "metadata": {},
     "output_type": "execute_result"
    },
    {
     "data": {
      "image/png": "[encoded data removed]",
      "text/plain": [
       "<Figure size 600x400 with 1 Axes>"
      ]
     },
     "metadata": {
      "needs_background": "light"
     },
     "output_type": "display_data"
    }
   ],
   "source": [
    "a = np.arange(2**4)\n",
    "a = a/np.linalg.norm(a)\n",
    "psi = QuantumState.from_array(a.reshape([-1,1]))\n",
    "psi.plot_state()"
   ]
  },
  {
   "cell_type": "code",
   "execution_count": 19,
   "id": "da477775",
   "metadata": {},
   "outputs": [
    {
     "data": {
      "text/plain": [
       "<AxesSubplot:xlabel='binary output', ylabel='probability amplitude'>"
      ]
     },
     "execution_count": 19,
     "metadata": {},
     "output_type": "execute_result"
    },
    {
     "data": {
      "image/png": "[encoded data removed]",
      "text/plain": [
       "<Figure size 600x400 with 1 Axes>"
      ]
     },
     "metadata": {
      "needs_background": "light"
     },
     "output_type": "display_data"
    }
   ],
   "source": [
    "psi.plot_state(logscale=True)"
   ]
  },
  {
   "cell_type": "code",
   "execution_count": 20,
   "id": "057c57e0",
   "metadata": {},
   "outputs": [
    {
     "data": {
      "text/plain": [
       "<AxesSubplot:xlabel='binary output', ylabel='probability amplitude'>"
      ]
     },
     "execution_count": 20,
     "metadata": {},
     "output_type": "execute_result"
    },
    {
     "data": {
      "image/png": "[encoded data removed]",
      "text/plain": [
       "<Figure size 600x400 with 1 Axes>"
      ]
     },
     "metadata": {
      "needs_background": "light"
     },
     "output_type": "display_data"
    }
   ],
   "source": [
    "psi.plot_state(probability_threshold=0.1)"
   ]
  }
 ],
 "metadata": {
  "kernelspec": {
   "display_name": "Python 3 (ipykernel)",
   "language": "python",
   "name": "python3"
  },
  "language_info": {
   "codemirror_mode": {
    "name": "ipython",
    "version": 3
   },
   "file_extension": ".py",
   "mimetype": "text/x-python",
   "name": "python",
   "nbconvert_exporter": "python",
   "pygments_lexer": "ipython3",
   "version": "3.8.13"
  }
 },
 "nbformat": 4,
 "nbformat_minor": 5
}
