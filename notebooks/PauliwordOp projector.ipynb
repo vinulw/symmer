{
 "cells": [
  {
   "cell_type": "markdown",
   "id": "9923bd2a",
   "metadata": {},
   "source": [
    "# Notes on Pauli projectors"
   ]
  },
  {
   "cell_type": "markdown",
   "id": "2872f745",
   "metadata": {},
   "source": [
    "A Pauli projector on a **single qubit** can be defined as:\n",
    "\n",
    "\n",
    "$$A = \\frac{1}{2}\\big( I \\pm \\sigma \\big)$$\n",
    "\n",
    "where $\\sigma \\in \\{X,Y,Z\\}$. The $+$ term above projects onto the $+1$ eigenvector and $-$ projects onto the $-1$ eigenvector"
   ]
  },
  {
   "cell_type": "code",
   "execution_count": null,
   "id": "ce0f610f",
   "metadata": {},
   "outputs": [],
   "source": []
  },
  {
   "cell_type": "markdown",
   "id": "b2766f25",
   "metadata": {},
   "source": [
    "Next consider projection of an  $n$-qubits (requires taking products of single qubit projectors)\n",
    "\n",
    "$$B = \\prod_{i=0}^{n-1} \\frac{1}{2}\\Bigg[ \\bigg(\\bigotimes_{j=0}^{n-1} I \\bigg) \\pm \\bigg( \\bigotimes_{j=0}^{i-1} I \\otimes \\sigma_{i} \\otimes \\bigotimes_{j=i+1}^{n-1} I \\bigg) \\Bigg]$$\n",
    "\n",
    "$$= \\prod_{i=0}^{n-1} \\Bigg( \\frac{1}{2} \\big( II \\text{...}I_{i}\\text{...}I  \\pm II\\text{...} \\sigma_{i} \\text{...} I\\big) \\Bigg)$$\n",
    "\n",
    "- first term is all identity string\n",
    "- second term is all identities bar one unique single Pauli matrix\n"
   ]
  },
  {
   "cell_type": "code",
   "execution_count": null,
   "id": "8ec1d18b",
   "metadata": {},
   "outputs": [],
   "source": []
  },
  {
   "cell_type": "markdown",
   "id": "ccccdda7",
   "metadata": {},
   "source": [
    "In the computational basis $\\sigma = Z$ and we get:\n",
    "\n",
    "\n",
    "$$C = \\prod_{i=0}^{n-1} \\Bigg( \\frac{1}{2} \\big( II \\text{...} I  \\pm II\\text{...} Z_{i} \\text{...} I\\big) \\Bigg)$$\n",
    "\n",
    "This product result in a binary expansion with all combinations of $Z$ on each qubit:\n",
    "\n",
    "\n",
    "$$C = \\frac{1}{2^{n}} \\sum_{i=0}^{2^{n}-1} \\pm P$$\n",
    "\n",
    "Which bitstring is chosen to project onto determines signs in the expansion...\n"
   ]
  },
  {
   "cell_type": "code",
   "execution_count": null,
   "id": "e96e265f",
   "metadata": {},
   "outputs": [],
   "source": []
  },
  {
   "cell_type": "markdown",
   "id": "63af8040",
   "metadata": {},
   "source": [
    "E.g. projection onto the state: $|10 \\rangle = |2 \\rangle$\n",
    "\n",
    "$$|2 \\rangle \\langle 2| = \\frac{1}{2^{2}}\\big( II - ZI \\big) \\big( II + IZ \\big)$$\n",
    "$$ = \\frac{1}{4} \\big( II + IZ - ZI - ZZ \\big)$$"
   ]
  },
  {
   "cell_type": "code",
   "execution_count": null,
   "id": "9b18fe77",
   "metadata": {},
   "outputs": [],
   "source": []
  },
  {
   "cell_type": "markdown",
   "id": "965d1c6d",
   "metadata": {},
   "source": [
    "Let the set $\\mathcal{W}$ be all $2^{n}$ the binary bitstrings of size $n$, then we have: for projecting onto a particular computational basis state $| b \\rangle$:\n",
    "\n",
    "$$|b \\rangle \\langle b| = \\frac{1}{2^{n}} \\sum_{k \\in  \\mathcal{W}}\\Bigg[ (-1)^{(b\\cdot k) \\: mod \\: 2}\\bigg( \\bigotimes_{i=0}^{n-1} \\sigma_{i}^{k[i]}  \\bigg) \\Bigg]$$\n",
    "\n",
    "where:\n",
    "- $k[i]$ is the $i$-th bit of the bitstring $| k \\rangle$ this determines each $\\sigma \\in \\{I, Z \\}$:\n",
    "    - $\\sigma_{i}^{0} = I_{i}$\n",
    "    - $\\sigma_{i}^{1} = Z_{i}$\n",
    "\n"
   ]
  },
  {
   "cell_type": "markdown",
   "id": "e8e333e6",
   "metadata": {},
   "source": [
    "This gives a **FAST** method to generate projectors in the symplectic picture"
   ]
  },
  {
   "cell_type": "markdown",
   "id": "bda1ca61",
   "metadata": {},
   "source": [
    "To project onto the $X$ and $Y$ basis, the same process as above will work except one needs to replace the $Z_{i}$ operators with $X_{i}$ or $Y_{i}$\n",
    "\n"
   ]
  },
  {
   "cell_type": "code",
   "execution_count": null,
   "id": "a86745b4",
   "metadata": {},
   "outputs": [],
   "source": []
  },
  {
   "cell_type": "markdown",
   "id": "09588529",
   "metadata": {},
   "source": [
    "In general for a bitstring $| b^{'} \\rangle$, where the $i$-th bit is $\\in \\{0,1,+,-, +i, -i \\}$\n",
    "\n",
    "$$|b' \\rangle \\langle b'| = \\frac{1}{2^{n}} \\sum_{k \\in  \\mathcal{W}}\\Bigg[ (-1)^{(b''\\cdot k) \\: mod \\: 2}\\bigg( \\bigotimes_{j=0}^{n-1} \\sigma_{j}^{k[j]}  \\bigg) \\Bigg]$$\n",
    "\n",
    "where:\n",
    "- $k[j]$ is the $j$-th bit of the bitstring $| k \\rangle$ this determines each $\\sigma \\in \\{I, X, Y, Z \\}$:\n",
    "    - $\\sigma_{j}^{0} = I_{i}$\n",
    "    - $\\sigma_{j}^{1} = Z_{i}$\n",
    "    - $\\sigma_{j}^{-} = X_{i}$\n",
    "    - $\\sigma_{j}^{+} = X_{i}$\n",
    "    - $\\sigma_{j}^{-i} = Y_{i}$\n",
    "    - $\\sigma_{j}^{+i} = Y_{i}$\n",
    "- and $b''$ is the mapping of $b'$ to a $\\{0,1\\}^{\\otimes n}$ state\n",
    "    - $- \\mapsto 1$\n",
    "    - $+ \\mapsto 0$\n",
    "    - $-i \\mapsto 1$\n",
    "    - $+i \\mapsto 0$"
   ]
  },
  {
   "cell_type": "code",
   "execution_count": null,
   "id": "a99dad2d",
   "metadata": {},
   "outputs": [],
   "source": []
  },
  {
   "cell_type": "markdown",
   "id": "93db18af",
   "metadata": {},
   "source": [
    "This is what `get_PauliwordOp_projector` does"
   ]
  },
  {
   "cell_type": "code",
   "execution_count": 44,
   "id": "9cae4f42",
   "metadata": {},
   "outputs": [
    {
     "data": {
      "text/plain": [
       " 0.125+0.000j IIII +\n",
       "-0.125+0.000j IIIZ +\n",
       " 0.125+0.000j IXII +\n",
       "-0.125+0.000j IXIZ +\n",
       " 0.125+0.000j ZIII +\n",
       "-0.125+0.000j ZIIZ +\n",
       " 0.125+0.000j ZXII +\n",
       "-0.125+0.000j ZXIZ"
      ]
     },
     "execution_count": 44,
     "metadata": {},
     "output_type": "execute_result"
    }
   ],
   "source": [
    "from symmer.symplectic import get_PauliwordOp_projector\n",
    "from tqdm import tqdm_notebook\n",
    "\n",
    "# projector onto |0 + > ⊗ I ⊗ |1 >\n",
    "Proj = get_PauliwordOp_projector('0+I1') # <--- can use 0,1, +,-, *, % for Z, X, Y basis and I to leave qubit unchanged\n",
    "Proj"
   ]
  },
  {
   "cell_type": "code",
   "execution_count": null,
   "id": "80e0b881",
   "metadata": {},
   "outputs": [],
   "source": []
  },
  {
   "cell_type": "markdown",
   "id": "a9363223",
   "metadata": {},
   "source": [
    "# FAST(er) decomposition of sparse matrix into Pauli operators"
   ]
  },
  {
   "cell_type": "code",
   "execution_count": null,
   "id": "ae3c406d",
   "metadata": {},
   "outputs": [],
   "source": []
  },
  {
   "cell_type": "markdown",
   "id": "2eb20d05",
   "metadata": {},
   "source": [
    "The projector $|i \\rangle \\langle j |$ defines an all zero matrix with a single one in the $i$-th row and $j$-th column.\n",
    "\n",
    "\n",
    "Therefore a sparse matrix can be decomposed in an efficent manner (better than the $4^{n}$ trace approach that is)"
   ]
  },
  {
   "cell_type": "code",
   "execution_count": null,
   "id": "1b0143ea",
   "metadata": {},
   "outputs": [],
   "source": []
  },
  {
   "cell_type": "markdown",
   "id": "f3c0aedb",
   "metadata": {},
   "source": [
    "Given the projector onto the zero state: \n",
    "\n",
    "$$|00...0 \\rangle \\langle 00...0| = \\frac{1}{2^{n}} \\sum_{k \\in  \\mathcal{W}}\\Bigg[ \\bigg( \\bigotimes_{i=0}^{n-1} \\sigma_{i}^{k[i]}  \\bigg) \\Bigg]$$\n",
    "\n",
    "$$=  \\frac{1}{2^{n}} \\Big(II\\text{...}I + II\\text{...}Z +\\text{...} + ZZ\\text{...}Z \\Big) $$\n",
    "\n",
    "\n",
    "- note this has $2^{n}$ terms!\n",
    "\n",
    "The **Heisenberg picture** lets us convert it into an arbitrary projector of $|i \\rangle \\langle j |$, but multiplying the appropriate operators on the left and right.\n",
    "\n",
    "Each multiplication takes $2^{n}$ (of which there are two)"
   ]
  },
  {
   "cell_type": "code",
   "execution_count": null,
   "id": "73486e61",
   "metadata": {},
   "outputs": [],
   "source": []
  },
  {
   "cell_type": "markdown",
   "id": "378efae3",
   "metadata": {},
   "source": [
    "What is the cost of decomposing an arbitrary matrix $M$ using this strategy?\n",
    "\n",
    "Given the all zero projector.\n",
    "Find all non-zero row and column pairs $i,j$ in the matrix $M$.\n",
    "\n",
    "1. Build the projector: $|i \\rangle \\langle j |$ \n",
    "2. multiply the new projector by $M[i,j]$\n",
    "3. add to overall decomposition\n"
   ]
  },
  {
   "cell_type": "markdown",
   "id": "074b864e",
   "metadata": {},
   "source": [
    "\n",
    "How does this scale?\n",
    "- step 1. requires two multiplications of a single operator over a $2^{n}$ size term\n",
    "- step 2. is a multiplication of  $2^{n}$ coefficients by a single number\n",
    "- step 3. addition to tracking term (at worst the size of this object will become $4^{n})$"
   ]
  },
  {
   "cell_type": "code",
   "execution_count": null,
   "id": "82341cf6",
   "metadata": {},
   "outputs": [],
   "source": []
  },
  {
   "cell_type": "markdown",
   "id": "69c08908",
   "metadata": {},
   "source": [
    "\n",
    "What is the computation cost?\n",
    "\n",
    "$$\\mathcal{O}(S_{M} \\cdot 2^{n})$$\n",
    "\n",
    "- for each element in $M$ (total denoted $S_{M}$)\n",
    "- build projector and multiply by $M[i,j]$\n"
   ]
  },
  {
   "cell_type": "code",
   "execution_count": null,
   "id": "0efb3a39",
   "metadata": {},
   "outputs": [],
   "source": []
  },
  {
   "cell_type": "markdown",
   "id": "17c43561",
   "metadata": {},
   "source": [
    "WHEREAS standard method does:\n",
    "1. Build each $4^{n}$ pauli matrices\n",
    "2. Multiply the matrix $M$ by each of the matrix for of each Pauli operators\n",
    "3. take trace\n",
    "4. each operation gives coeff weight\n",
    "\n",
    "A dense verion would require:\n",
    "$$4^{n} \\times \\underbrace{\\big[ (2^{n})^{2} \\big]}_{\\text{Frobenius inner product}} = 2^{4n}$$\n",
    "\n",
    "Whereas a  sparse form would need:\n",
    "\n",
    "$$4^{n} \\times \\underbrace{\\big[ min(S_{M}, S_{P}) \\big]^{2}}_{\\text{Frobenius inner product (sparse)}}$$\n",
    "where $S_{P} = (2^{n})$. Note we have ignored the final sum taken once the elementwise multication is done. Therefore, to obtain an advantage need $S_{M}< S_{P}$:\n",
    "\n",
    "$$= 4^{n} S_{M}^{2}$$"
   ]
  },
  {
   "cell_type": "code",
   "execution_count": null,
   "id": "642ce39a",
   "metadata": {},
   "outputs": [],
   "source": []
  },
  {
   "cell_type": "markdown",
   "id": "7ea8035c",
   "metadata": {},
   "source": [
    "The new approach improves upon this by:\n",
    "\n",
    "$$\\frac{(4^{n} \\cdot S_{M}^{2})}{(S_{M} \\cdot 2^{n})} = 2^{n} \\cdot S_{M}$$\n",
    "- note at maximum sparcity $S_{M}^{2} = S_{M} = 2^{2n}$ (as cannot have more nonzero elements than the size of the matrix)\n",
    "\n",
    "which is an **exponential speedup!**"
   ]
  },
  {
   "cell_type": "code",
   "execution_count": null,
   "id": "a4bb8654",
   "metadata": {},
   "outputs": [],
   "source": []
  },
  {
   "cell_type": "markdown",
   "id": "a108491e",
   "metadata": {},
   "source": [
    "In the dense version:\n",
    "\n",
    "$$\\frac{2^{4n}}{(S_{M} \\cdot 2^{n})} = \\frac{1}{S_{M}} (2^{3n})$$\n",
    "\n",
    "with a completely dense matrix $S_{M} = 2^{2n}$:\n",
    "\n",
    "$$\\frac{(2^{4n})}{(2^{2n} \\cdot 2^{n})} = \\frac{(2^{4n})}{(2^{3n})} = 2^{n}$$"
   ]
  },
  {
   "cell_type": "code",
   "execution_count": null,
   "id": "babedbe1",
   "metadata": {},
   "outputs": [],
   "source": []
  },
  {
   "cell_type": "markdown",
   "id": "6f80d638",
   "metadata": {},
   "source": [
    "# Matrix to Pauli Code"
   ]
  },
  {
   "cell_type": "code",
   "execution_count": 45,
   "id": "b6770ca4",
   "metadata": {},
   "outputs": [],
   "source": [
    "from symmer.symplectic import PauliwordOp\n",
    "import numpy as np\n",
    "from scipy.sparse import rand"
   ]
  },
  {
   "cell_type": "code",
   "execution_count": 46,
   "id": "ad4fa97b",
   "metadata": {},
   "outputs": [
    {
     "data": {
      "text/plain": [
       "(128, 128)"
      ]
     },
     "execution_count": 46,
     "metadata": {},
     "output_type": "execute_result"
    }
   ],
   "source": [
    "n_qubits = 7\n",
    "\n",
    "D = 2**n_qubits\n",
    "x = rand(D, D, density=0.1, format='csr')\n",
    "x.shape"
   ]
  },
  {
   "cell_type": "code",
   "execution_count": 38,
   "id": "51041632",
   "metadata": {},
   "outputs": [],
   "source": [
    "# n_qubits = 12\n",
    "\n",
    "# D = 2**n_qubits\n",
    "# x = rand(D, D, density=0.00001, format='csr')\n",
    "# x.shape"
   ]
  },
  {
   "cell_type": "code",
   "execution_count": 47,
   "id": "07fa9f59",
   "metadata": {},
   "outputs": [
    {
     "data": {
      "text/plain": [
       "(1638,)"
      ]
     },
     "execution_count": 47,
     "metadata": {},
     "output_type": "execute_result"
    }
   ],
   "source": [
    "mat = x.toarray()\n",
    "mat.nonzero()[0].shape"
   ]
  },
  {
   "cell_type": "code",
   "execution_count": 48,
   "id": "cf1459f0",
   "metadata": {},
   "outputs": [
    {
     "data": {
      "application/vnd.jupyter.widget-view+json": {
       "model_id": "df3fa94e63ed4d01b358a62aaee38fa2",
       "version_major": 2,
       "version_minor": 0
      },
      "text/plain": [
       "Building operator via projectors:   0%|          | 0/1638 [00:00<?, ?it/s]"
      ]
     },
     "metadata": {},
     "output_type": "display_data"
    },
    {
     "data": {
      "text/plain": [
       "16384"
      ]
     },
     "execution_count": 48,
     "metadata": {},
     "output_type": "execute_result"
    }
   ],
   "source": [
    "Pop = PauliwordOp.from_matrix(mat, strategy='projector')\n",
    "Pop.n_terms"
   ]
  },
  {
   "cell_type": "code",
   "execution_count": 49,
   "id": "126a9fe2",
   "metadata": {},
   "outputs": [
    {
     "data": {
      "application/vnd.jupyter.widget-view+json": {
       "model_id": "fd34064e596a42469337c744af42973c",
       "version_major": 2,
       "version_minor": 0
      },
      "text/plain": [
       "Building operator via full basis:   0%|          | 0/16384 [00:00<?, ?it/s]"
      ]
     },
     "metadata": {},
     "output_type": "display_data"
    },
    {
     "data": {
      "text/plain": [
       "16384"
      ]
     },
     "execution_count": 49,
     "metadata": {},
     "output_type": "execute_result"
    }
   ],
   "source": [
    "# dense\n",
    "\n",
    "Pop2 = PauliwordOp.from_matrix(mat, strategy='full_basis')\n",
    "Pop2.n_terms"
   ]
  },
  {
   "cell_type": "code",
   "execution_count": 42,
   "id": "2fa7ca90",
   "metadata": {},
   "outputs": [
    {
     "data": {
      "application/vnd.jupyter.widget-view+json": {
       "model_id": "68aafd5d6fad4e089d2da61c6e76c946",
       "version_major": 2,
       "version_minor": 0
      },
      "text/plain": [
       "Building operator via full basis:   0%|          | 0/16384 [00:00<?, ?it/s]"
      ]
     },
     "metadata": {},
     "output_type": "display_data"
    },
    {
     "data": {
      "text/plain": [
       "16384"
      ]
     },
     "execution_count": 42,
     "metadata": {},
     "output_type": "execute_result"
    }
   ],
   "source": [
    "# sparse \n",
    "Pop_sparse = PauliwordOp.from_matrix(x, strategy='full_basis')\n",
    "Pop_sparse.n_terms"
   ]
  },
  {
   "cell_type": "code",
   "execution_count": 43,
   "id": "33f5652c",
   "metadata": {},
   "outputs": [
    {
     "data": {
      "text/plain": [
       "True"
      ]
     },
     "execution_count": 43,
     "metadata": {},
     "output_type": "execute_result"
    }
   ],
   "source": [
    "# check decomposition\n",
    "np.allclose(Pop.to_sparse_matrix.toarray(),\n",
    "            mat)"
   ]
  },
  {
   "cell_type": "code",
   "execution_count": null,
   "id": "f48daeab",
   "metadata": {},
   "outputs": [],
   "source": []
  },
  {
   "cell_type": "code",
   "execution_count": 19,
   "id": "9ccd3ffb",
   "metadata": {},
   "outputs": [
    {
     "data": {
      "text/plain": [
       "16777216"
      ]
     },
     "execution_count": 19,
     "metadata": {},
     "output_type": "execute_result"
    }
   ],
   "source": [
    "# expensive for dense scaling:\n",
    "2**(4*n_qubits)"
   ]
  },
  {
   "cell_type": "code",
   "execution_count": 20,
   "id": "23f3c2ec",
   "metadata": {},
   "outputs": [
    {
     "data": {
      "text/plain": [
       "2624"
      ]
     },
     "execution_count": 20,
     "metadata": {},
     "output_type": "execute_result"
    }
   ],
   "source": [
    "# vs projector\n",
    "2**(n_qubits) * len(mat.nonzero()[0])"
   ]
  },
  {
   "cell_type": "code",
   "execution_count": null,
   "id": "084bd0c7",
   "metadata": {},
   "outputs": [],
   "source": []
  },
  {
   "cell_type": "code",
   "execution_count": 21,
   "id": "5db9f421",
   "metadata": {},
   "outputs": [
    {
     "data": {
      "application/vnd.jupyter.widget-view+json": {
       "model_id": "dfa0fdc6f36c450a9503d052f3df4f6a",
       "version_major": 2,
       "version_minor": 0
      },
      "text/plain": [
       "Building operator via projectors:   0%|          | 0/41 [00:00<?, ?it/s]"
      ]
     },
     "metadata": {},
     "output_type": "display_data"
    },
    {
     "data": {
      "application/vnd.jupyter.widget-view+json": {
       "model_id": "0f27ea13f12c4be5a09bd057fc94261f",
       "version_major": 2,
       "version_minor": 0
      },
      "text/plain": [
       "Building operator via projectors:   0%|          | 0/41 [00:00<?, ?it/s]"
      ]
     },
     "metadata": {},
     "output_type": "display_data"
    },
    {
     "data": {
      "application/vnd.jupyter.widget-view+json": {
       "model_id": "d30e8190cc5145d2b7111cf4078bdcb9",
       "version_major": 2,
       "version_minor": 0
      },
      "text/plain": [
       "Building operator via projectors:   0%|          | 0/41 [00:00<?, ?it/s]"
      ]
     },
     "metadata": {},
     "output_type": "display_data"
    },
    {
     "data": {
      "application/vnd.jupyter.widget-view+json": {
       "model_id": "b66214eae16c4fde99abc4e0442dc66e",
       "version_major": 2,
       "version_minor": 0
      },
      "text/plain": [
       "Building operator via projectors:   0%|          | 0/41 [00:00<?, ?it/s]"
      ]
     },
     "metadata": {},
     "output_type": "display_data"
    },
    {
     "data": {
      "application/vnd.jupyter.widget-view+json": {
       "model_id": "fe5c3eb8cb9842c8a331f4b1349b9ff5",
       "version_major": 2,
       "version_minor": 0
      },
      "text/plain": [
       "Building operator via projectors:   0%|          | 0/41 [00:00<?, ?it/s]"
      ]
     },
     "metadata": {},
     "output_type": "display_data"
    },
    {
     "data": {
      "application/vnd.jupyter.widget-view+json": {
       "model_id": "4d8f61ff060941a99c4f47a52480f730",
       "version_major": 2,
       "version_minor": 0
      },
      "text/plain": [
       "Building operator via projectors:   0%|          | 0/41 [00:00<?, ?it/s]"
      ]
     },
     "metadata": {},
     "output_type": "display_data"
    },
    {
     "data": {
      "application/vnd.jupyter.widget-view+json": {
       "model_id": "e758dd514b5045039986753f634d3556",
       "version_major": 2,
       "version_minor": 0
      },
      "text/plain": [
       "Building operator via projectors:   0%|          | 0/41 [00:00<?, ?it/s]"
      ]
     },
     "metadata": {},
     "output_type": "display_data"
    },
    {
     "data": {
      "application/vnd.jupyter.widget-view+json": {
       "model_id": "0fd5be4fb3414a50ae27e6d7bd6c94be",
       "version_major": 2,
       "version_minor": 0
      },
      "text/plain": [
       "Building operator via projectors:   0%|          | 0/41 [00:00<?, ?it/s]"
      ]
     },
     "metadata": {},
     "output_type": "display_data"
    },
    {
     "data": {
      "application/vnd.jupyter.widget-view+json": {
       "model_id": "cd495bdf61474bb49fd3f0786ce56bcd",
       "version_major": 2,
       "version_minor": 0
      },
      "text/plain": [
       "Building operator via projectors:   0%|          | 0/41 [00:00<?, ?it/s]"
      ]
     },
     "metadata": {},
     "output_type": "display_data"
    },
    {
     "data": {
      "application/vnd.jupyter.widget-view+json": {
       "model_id": "ae406a37e158445880b644fb3572015c",
       "version_major": 2,
       "version_minor": 0
      },
      "text/plain": [
       "Building operator via projectors:   0%|          | 0/41 [00:00<?, ?it/s]"
      ]
     },
     "metadata": {},
     "output_type": "display_data"
    },
    {
     "data": {
      "application/vnd.jupyter.widget-view+json": {
       "model_id": "e207612431e646ce8aa88827c5c013b5",
       "version_major": 2,
       "version_minor": 0
      },
      "text/plain": [
       "Building operator via projectors:   0%|          | 0/41 [00:00<?, ?it/s]"
      ]
     },
     "metadata": {},
     "output_type": "display_data"
    },
    {
     "data": {
      "application/vnd.jupyter.widget-view+json": {
       "model_id": "4c98801fd7f94a76845e1b921cad9c17",
       "version_major": 2,
       "version_minor": 0
      },
      "text/plain": [
       "Building operator via projectors:   0%|          | 0/41 [00:00<?, ?it/s]"
      ]
     },
     "metadata": {},
     "output_type": "display_data"
    },
    {
     "data": {
      "application/vnd.jupyter.widget-view+json": {
       "model_id": "7f868ac7f3a349b3b08d21a8a41051ea",
       "version_major": 2,
       "version_minor": 0
      },
      "text/plain": [
       "Building operator via projectors:   0%|          | 0/41 [00:00<?, ?it/s]"
      ]
     },
     "metadata": {},
     "output_type": "display_data"
    },
    {
     "data": {
      "application/vnd.jupyter.widget-view+json": {
       "model_id": "251b6a85ae424984a17e230840541f1c",
       "version_major": 2,
       "version_minor": 0
      },
      "text/plain": [
       "Building operator via projectors:   0%|          | 0/41 [00:00<?, ?it/s]"
      ]
     },
     "metadata": {},
     "output_type": "display_data"
    },
    {
     "data": {
      "application/vnd.jupyter.widget-view+json": {
       "model_id": "e10936fd1be1469cbb25db1b662fa1d1",
       "version_major": 2,
       "version_minor": 0
      },
      "text/plain": [
       "Building operator via projectors:   0%|          | 0/41 [00:00<?, ?it/s]"
      ]
     },
     "metadata": {},
     "output_type": "display_data"
    },
    {
     "data": {
      "application/vnd.jupyter.widget-view+json": {
       "model_id": "1815135ba9d048f89698a4045e66d613",
       "version_major": 2,
       "version_minor": 0
      },
      "text/plain": [
       "Building operator via projectors:   0%|          | 0/41 [00:00<?, ?it/s]"
      ]
     },
     "metadata": {},
     "output_type": "display_data"
    },
    {
     "data": {
      "application/vnd.jupyter.widget-view+json": {
       "model_id": "3a8b610479454ebab7ec6372951e8451",
       "version_major": 2,
       "version_minor": 0
      },
      "text/plain": [
       "Building operator via projectors:   0%|          | 0/41 [00:00<?, ?it/s]"
      ]
     },
     "metadata": {},
     "output_type": "display_data"
    },
    {
     "data": {
      "application/vnd.jupyter.widget-view+json": {
       "model_id": "cfb7245ae1ce4d5dbe59bb1702aadc7f",
       "version_major": 2,
       "version_minor": 0
      },
      "text/plain": [
       "Building operator via projectors:   0%|          | 0/41 [00:00<?, ?it/s]"
      ]
     },
     "metadata": {},
     "output_type": "display_data"
    },
    {
     "data": {
      "application/vnd.jupyter.widget-view+json": {
       "model_id": "826ebd944db04a77bb69c70b0e617dfe",
       "version_major": 2,
       "version_minor": 0
      },
      "text/plain": [
       "Building operator via projectors:   0%|          | 0/41 [00:00<?, ?it/s]"
      ]
     },
     "metadata": {},
     "output_type": "display_data"
    },
    {
     "data": {
      "application/vnd.jupyter.widget-view+json": {
       "model_id": "6105375b1d2c4e87b58efe6e0f7cc85c",
       "version_major": 2,
       "version_minor": 0
      },
      "text/plain": [
       "Building operator via projectors:   0%|          | 0/41 [00:00<?, ?it/s]"
      ]
     },
     "metadata": {},
     "output_type": "display_data"
    },
    {
     "data": {
      "application/vnd.jupyter.widget-view+json": {
       "model_id": "cc2865fa7f224496a976459e37457fc4",
       "version_major": 2,
       "version_minor": 0
      },
      "text/plain": [
       "Building operator via projectors:   0%|          | 0/41 [00:00<?, ?it/s]"
      ]
     },
     "metadata": {},
     "output_type": "display_data"
    },
    {
     "data": {
      "application/vnd.jupyter.widget-view+json": {
       "model_id": "c2c96cc80a6d43638667382cd80bc51a",
       "version_major": 2,
       "version_minor": 0
      },
      "text/plain": [
       "Building operator via projectors:   0%|          | 0/41 [00:00<?, ?it/s]"
      ]
     },
     "metadata": {},
     "output_type": "display_data"
    },
    {
     "data": {
      "application/vnd.jupyter.widget-view+json": {
       "model_id": "79fc8072a0854c24a50d7e77a767f4ad",
       "version_major": 2,
       "version_minor": 0
      },
      "text/plain": [
       "Building operator via projectors:   0%|          | 0/41 [00:00<?, ?it/s]"
      ]
     },
     "metadata": {},
     "output_type": "display_data"
    },
    {
     "data": {
      "application/vnd.jupyter.widget-view+json": {
       "model_id": "d8aed4874eae4fa496fc567fc0d01ec1",
       "version_major": 2,
       "version_minor": 0
      },
      "text/plain": [
       "Building operator via projectors:   0%|          | 0/41 [00:00<?, ?it/s]"
      ]
     },
     "metadata": {},
     "output_type": "display_data"
    },
    {
     "data": {
      "application/vnd.jupyter.widget-view+json": {
       "model_id": "f18751e637b044b69022cb1b304cc29d",
       "version_major": 2,
       "version_minor": 0
      },
      "text/plain": [
       "Building operator via projectors:   0%|          | 0/41 [00:00<?, ?it/s]"
      ]
     },
     "metadata": {},
     "output_type": "display_data"
    },
    {
     "data": {
      "application/vnd.jupyter.widget-view+json": {
       "model_id": "eee0bbe4d8464b9d91029b816faaf2cb",
       "version_major": 2,
       "version_minor": 0
      },
      "text/plain": [
       "Building operator via projectors:   0%|          | 0/41 [00:00<?, ?it/s]"
      ]
     },
     "metadata": {},
     "output_type": "display_data"
    },
    {
     "data": {
      "application/vnd.jupyter.widget-view+json": {
       "model_id": "e02561c4fbbb40abb12f9b1e46ce7f26",
       "version_major": 2,
       "version_minor": 0
      },
      "text/plain": [
       "Building operator via projectors:   0%|          | 0/41 [00:00<?, ?it/s]"
      ]
     },
     "metadata": {},
     "output_type": "display_data"
    },
    {
     "data": {
      "application/vnd.jupyter.widget-view+json": {
       "model_id": "04835d14c7f345e19696f4558a1b1ce9",
       "version_major": 2,
       "version_minor": 0
      },
      "text/plain": [
       "Building operator via projectors:   0%|          | 0/41 [00:00<?, ?it/s]"
      ]
     },
     "metadata": {},
     "output_type": "display_data"
    },
    {
     "data": {
      "application/vnd.jupyter.widget-view+json": {
       "model_id": "d9c75b5fd4524c258407cffc71b1e45f",
       "version_major": 2,
       "version_minor": 0
      },
      "text/plain": [
       "Building operator via projectors:   0%|          | 0/41 [00:00<?, ?it/s]"
      ]
     },
     "metadata": {},
     "output_type": "display_data"
    },
    {
     "data": {
      "application/vnd.jupyter.widget-view+json": {
       "model_id": "e3520660f31d44479248d25a4d429275",
       "version_major": 2,
       "version_minor": 0
      },
      "text/plain": [
       "Building operator via projectors:   0%|          | 0/41 [00:00<?, ?it/s]"
      ]
     },
     "metadata": {},
     "output_type": "display_data"
    },
    {
     "data": {
      "application/vnd.jupyter.widget-view+json": {
       "model_id": "6f9a506f16e24aaf824b271e5826abf3",
       "version_major": 2,
       "version_minor": 0
      },
      "text/plain": [
       "Building operator via projectors:   0%|          | 0/41 [00:00<?, ?it/s]"
      ]
     },
     "metadata": {},
     "output_type": "display_data"
    },
    {
     "data": {
      "application/vnd.jupyter.widget-view+json": {
       "model_id": "c17369cdc2f54073ac42371d4600a3d4",
       "version_major": 2,
       "version_minor": 0
      },
      "text/plain": [
       "Building operator via projectors:   0%|          | 0/41 [00:00<?, ?it/s]"
      ]
     },
     "metadata": {},
     "output_type": "display_data"
    },
    {
     "data": {
      "application/vnd.jupyter.widget-view+json": {
       "model_id": "3bb41bdf0e4e43a2881db6ed487e3224",
       "version_major": 2,
       "version_minor": 0
      },
      "text/plain": [
       "Building operator via projectors:   0%|          | 0/41 [00:00<?, ?it/s]"
      ]
     },
     "metadata": {},
     "output_type": "display_data"
    },
    {
     "data": {
      "application/vnd.jupyter.widget-view+json": {
       "model_id": "d6cb49eb7d48480e92dabd26e9005f72",
       "version_major": 2,
       "version_minor": 0
      },
      "text/plain": [
       "Building operator via projectors:   0%|          | 0/41 [00:00<?, ?it/s]"
      ]
     },
     "metadata": {},
     "output_type": "display_data"
    },
    {
     "data": {
      "application/vnd.jupyter.widget-view+json": {
       "model_id": "58487db059e841b680cab16bd631cb13",
       "version_major": 2,
       "version_minor": 0
      },
      "text/plain": [
       "Building operator via projectors:   0%|          | 0/41 [00:00<?, ?it/s]"
      ]
     },
     "metadata": {},
     "output_type": "display_data"
    },
    {
     "data": {
      "application/vnd.jupyter.widget-view+json": {
       "model_id": "959c9e79de0f42158609ddbe47a801aa",
       "version_major": 2,
       "version_minor": 0
      },
      "text/plain": [
       "Building operator via projectors:   0%|          | 0/41 [00:00<?, ?it/s]"
      ]
     },
     "metadata": {},
     "output_type": "display_data"
    },
    {
     "data": {
      "application/vnd.jupyter.widget-view+json": {
       "model_id": "78560c95200342d5a697f6e3b6f27c7a",
       "version_major": 2,
       "version_minor": 0
      },
      "text/plain": [
       "Building operator via projectors:   0%|          | 0/41 [00:00<?, ?it/s]"
      ]
     },
     "metadata": {},
     "output_type": "display_data"
    },
    {
     "data": {
      "application/vnd.jupyter.widget-view+json": {
       "model_id": "b9923d1050054189b87d65e5596940bc",
       "version_major": 2,
       "version_minor": 0
      },
      "text/plain": [
       "Building operator via projectors:   0%|          | 0/41 [00:00<?, ?it/s]"
      ]
     },
     "metadata": {},
     "output_type": "display_data"
    },
    {
     "data": {
      "application/vnd.jupyter.widget-view+json": {
       "model_id": "628abceb081c4c89979cab413397e24c",
       "version_major": 2,
       "version_minor": 0
      },
      "text/plain": [
       "Building operator via projectors:   0%|          | 0/41 [00:00<?, ?it/s]"
      ]
     },
     "metadata": {},
     "output_type": "display_data"
    },
    {
     "data": {
      "application/vnd.jupyter.widget-view+json": {
       "model_id": "739505ff0aa143cfa604cf9bb86f39c3",
       "version_major": 2,
       "version_minor": 0
      },
      "text/plain": [
       "Building operator via projectors:   0%|          | 0/41 [00:00<?, ?it/s]"
      ]
     },
     "metadata": {},
     "output_type": "display_data"
    },
    {
     "data": {
      "application/vnd.jupyter.widget-view+json": {
       "model_id": "1d46f7dcf32045b18eff7fccf3c57bb8",
       "version_major": 2,
       "version_minor": 0
      },
      "text/plain": [
       "Building operator via projectors:   0%|          | 0/41 [00:00<?, ?it/s]"
      ]
     },
     "metadata": {},
     "output_type": "display_data"
    },
    {
     "data": {
      "application/vnd.jupyter.widget-view+json": {
       "model_id": "94efe78f307a4c5ba5d5a1c65522e2ae",
       "version_major": 2,
       "version_minor": 0
      },
      "text/plain": [
       "Building operator via projectors:   0%|          | 0/41 [00:00<?, ?it/s]"
      ]
     },
     "metadata": {},
     "output_type": "display_data"
    },
    {
     "data": {
      "application/vnd.jupyter.widget-view+json": {
       "model_id": "4b03a032e4e745c2ac6990fb992930b3",
       "version_major": 2,
       "version_minor": 0
      },
      "text/plain": [
       "Building operator via projectors:   0%|          | 0/41 [00:00<?, ?it/s]"
      ]
     },
     "metadata": {},
     "output_type": "display_data"
    },
    {
     "data": {
      "application/vnd.jupyter.widget-view+json": {
       "model_id": "0629f57ce32f499dab52d855c336059d",
       "version_major": 2,
       "version_minor": 0
      },
      "text/plain": [
       "Building operator via projectors:   0%|          | 0/41 [00:00<?, ?it/s]"
      ]
     },
     "metadata": {},
     "output_type": "display_data"
    },
    {
     "data": {
      "application/vnd.jupyter.widget-view+json": {
       "model_id": "10226e17f6ba45b98164b18e7bf3c639",
       "version_major": 2,
       "version_minor": 0
      },
      "text/plain": [
       "Building operator via projectors:   0%|          | 0/41 [00:00<?, ?it/s]"
      ]
     },
     "metadata": {},
     "output_type": "display_data"
    },
    {
     "data": {
      "application/vnd.jupyter.widget-view+json": {
       "model_id": "56d80c6443df495cb7f78a7ff3ca8a7d",
       "version_major": 2,
       "version_minor": 0
      },
      "text/plain": [
       "Building operator via projectors:   0%|          | 0/41 [00:00<?, ?it/s]"
      ]
     },
     "metadata": {},
     "output_type": "display_data"
    },
    {
     "data": {
      "application/vnd.jupyter.widget-view+json": {
       "model_id": "22298dd9c366408d8db72cb4c830dd40",
       "version_major": 2,
       "version_minor": 0
      },
      "text/plain": [
       "Building operator via projectors:   0%|          | 0/41 [00:00<?, ?it/s]"
      ]
     },
     "metadata": {},
     "output_type": "display_data"
    },
    {
     "data": {
      "application/vnd.jupyter.widget-view+json": {
       "model_id": "c0e04bd918f94d588f02f6135cb74a82",
       "version_major": 2,
       "version_minor": 0
      },
      "text/plain": [
       "Building operator via projectors:   0%|          | 0/41 [00:00<?, ?it/s]"
      ]
     },
     "metadata": {},
     "output_type": "display_data"
    },
    {
     "data": {
      "application/vnd.jupyter.widget-view+json": {
       "model_id": "dba67c3ee6e54090839396e01c33d226",
       "version_major": 2,
       "version_minor": 0
      },
      "text/plain": [
       "Building operator via projectors:   0%|          | 0/41 [00:00<?, ?it/s]"
      ]
     },
     "metadata": {},
     "output_type": "display_data"
    },
    {
     "data": {
      "application/vnd.jupyter.widget-view+json": {
       "model_id": "d7fe8027b668442cb261125c194244bd",
       "version_major": 2,
       "version_minor": 0
      },
      "text/plain": [
       "Building operator via projectors:   0%|          | 0/41 [00:00<?, ?it/s]"
      ]
     },
     "metadata": {},
     "output_type": "display_data"
    },
    {
     "data": {
      "application/vnd.jupyter.widget-view+json": {
       "model_id": "be750d00460743e682de15996bd754ad",
       "version_major": 2,
       "version_minor": 0
      },
      "text/plain": [
       "Building operator via projectors:   0%|          | 0/41 [00:00<?, ?it/s]"
      ]
     },
     "metadata": {},
     "output_type": "display_data"
    },
    {
     "data": {
      "application/vnd.jupyter.widget-view+json": {
       "model_id": "d5f54b9db1e94c5cbfc8b73fc472db3b",
       "version_major": 2,
       "version_minor": 0
      },
      "text/plain": [
       "Building operator via projectors:   0%|          | 0/41 [00:00<?, ?it/s]"
      ]
     },
     "metadata": {},
     "output_type": "display_data"
    },
    {
     "data": {
      "application/vnd.jupyter.widget-view+json": {
       "model_id": "4377319d283e42bbbb125716bedbc11f",
       "version_major": 2,
       "version_minor": 0
      },
      "text/plain": [
       "Building operator via projectors:   0%|          | 0/41 [00:00<?, ?it/s]"
      ]
     },
     "metadata": {},
     "output_type": "display_data"
    },
    {
     "data": {
      "application/vnd.jupyter.widget-view+json": {
       "model_id": "83d52ce4b0de483b841625cfa69dd56b",
       "version_major": 2,
       "version_minor": 0
      },
      "text/plain": [
       "Building operator via projectors:   0%|          | 0/41 [00:00<?, ?it/s]"
      ]
     },
     "metadata": {},
     "output_type": "display_data"
    },
    {
     "data": {
      "application/vnd.jupyter.widget-view+json": {
       "model_id": "591dd6b6ccf74511bf998ce06e79a478",
       "version_major": 2,
       "version_minor": 0
      },
      "text/plain": [
       "Building operator via projectors:   0%|          | 0/41 [00:00<?, ?it/s]"
      ]
     },
     "metadata": {},
     "output_type": "display_data"
    },
    {
     "data": {
      "application/vnd.jupyter.widget-view+json": {
       "model_id": "92a2d26b7f66484d91eda2050fbc9dbe",
       "version_major": 2,
       "version_minor": 0
      },
      "text/plain": [
       "Building operator via projectors:   0%|          | 0/41 [00:00<?, ?it/s]"
      ]
     },
     "metadata": {},
     "output_type": "display_data"
    },
    {
     "data": {
      "application/vnd.jupyter.widget-view+json": {
       "model_id": "f5dbb0ce6f534890bc5acef3ecd2ed86",
       "version_major": 2,
       "version_minor": 0
      },
      "text/plain": [
       "Building operator via projectors:   0%|          | 0/41 [00:00<?, ?it/s]"
      ]
     },
     "metadata": {},
     "output_type": "display_data"
    },
    {
     "data": {
      "application/vnd.jupyter.widget-view+json": {
       "model_id": "283bb879462a46998e31a236a9c81dcf",
       "version_major": 2,
       "version_minor": 0
      },
      "text/plain": [
       "Building operator via projectors:   0%|          | 0/41 [00:00<?, ?it/s]"
      ]
     },
     "metadata": {},
     "output_type": "display_data"
    },
    {
     "data": {
      "application/vnd.jupyter.widget-view+json": {
       "model_id": "5559a48e713a4628b823c0259f6863b1",
       "version_major": 2,
       "version_minor": 0
      },
      "text/plain": [
       "Building operator via projectors:   0%|          | 0/41 [00:00<?, ?it/s]"
      ]
     },
     "metadata": {},
     "output_type": "display_data"
    },
    {
     "data": {
      "application/vnd.jupyter.widget-view+json": {
       "model_id": "1c33e771e9564b65852ea10ca0b0aabd",
       "version_major": 2,
       "version_minor": 0
      },
      "text/plain": [
       "Building operator via projectors:   0%|          | 0/41 [00:00<?, ?it/s]"
      ]
     },
     "metadata": {},
     "output_type": "display_data"
    },
    {
     "data": {
      "application/vnd.jupyter.widget-view+json": {
       "model_id": "25a38b88ee144d12ad58251da8a53f01",
       "version_major": 2,
       "version_minor": 0
      },
      "text/plain": [
       "Building operator via projectors:   0%|          | 0/41 [00:00<?, ?it/s]"
      ]
     },
     "metadata": {},
     "output_type": "display_data"
    },
    {
     "data": {
      "application/vnd.jupyter.widget-view+json": {
       "model_id": "c59d11394b6f424b89b39bb0230a2c56",
       "version_major": 2,
       "version_minor": 0
      },
      "text/plain": [
       "Building operator via projectors:   0%|          | 0/41 [00:00<?, ?it/s]"
      ]
     },
     "metadata": {},
     "output_type": "display_data"
    },
    {
     "data": {
      "application/vnd.jupyter.widget-view+json": {
       "model_id": "3bbd4cd1e7c04e30b1906f74f5cc4ae8",
       "version_major": 2,
       "version_minor": 0
      },
      "text/plain": [
       "Building operator via projectors:   0%|          | 0/41 [00:00<?, ?it/s]"
      ]
     },
     "metadata": {},
     "output_type": "display_data"
    },
    {
     "data": {
      "application/vnd.jupyter.widget-view+json": {
       "model_id": "94c33b1328d5490a99414616e4b48029",
       "version_major": 2,
       "version_minor": 0
      },
      "text/plain": [
       "Building operator via projectors:   0%|          | 0/41 [00:00<?, ?it/s]"
      ]
     },
     "metadata": {},
     "output_type": "display_data"
    },
    {
     "data": {
      "application/vnd.jupyter.widget-view+json": {
       "model_id": "fb6b5c8c2f114ec796c73d8940b0933a",
       "version_major": 2,
       "version_minor": 0
      },
      "text/plain": [
       "Building operator via projectors:   0%|          | 0/41 [00:00<?, ?it/s]"
      ]
     },
     "metadata": {},
     "output_type": "display_data"
    },
    {
     "data": {
      "application/vnd.jupyter.widget-view+json": {
       "model_id": "6b3efdc23a9b44feaaf10086de226f45",
       "version_major": 2,
       "version_minor": 0
      },
      "text/plain": [
       "Building operator via projectors:   0%|          | 0/41 [00:00<?, ?it/s]"
      ]
     },
     "metadata": {},
     "output_type": "display_data"
    },
    {
     "data": {
      "application/vnd.jupyter.widget-view+json": {
       "model_id": "5cc01126253b4100992e8fa7c0453f51",
       "version_major": 2,
       "version_minor": 0
      },
      "text/plain": [
       "Building operator via projectors:   0%|          | 0/41 [00:00<?, ?it/s]"
      ]
     },
     "metadata": {},
     "output_type": "display_data"
    },
    {
     "data": {
      "application/vnd.jupyter.widget-view+json": {
       "model_id": "4e2079e349924cf9885f84353479618e",
       "version_major": 2,
       "version_minor": 0
      },
      "text/plain": [
       "Building operator via projectors:   0%|          | 0/41 [00:00<?, ?it/s]"
      ]
     },
     "metadata": {},
     "output_type": "display_data"
    },
    {
     "data": {
      "application/vnd.jupyter.widget-view+json": {
       "model_id": "7e3f7f4e0f0a48a387470f6a02b1d645",
       "version_major": 2,
       "version_minor": 0
      },
      "text/plain": [
       "Building operator via projectors:   0%|          | 0/41 [00:00<?, ?it/s]"
      ]
     },
     "metadata": {},
     "output_type": "display_data"
    },
    {
     "data": {
      "application/vnd.jupyter.widget-view+json": {
       "model_id": "e2af47dbb37d476a87a4b20754945233",
       "version_major": 2,
       "version_minor": 0
      },
      "text/plain": [
       "Building operator via projectors:   0%|          | 0/41 [00:00<?, ?it/s]"
      ]
     },
     "metadata": {},
     "output_type": "display_data"
    },
    {
     "data": {
      "application/vnd.jupyter.widget-view+json": {
       "model_id": "fdeccec92fd54110bd94f5993afcd290",
       "version_major": 2,
       "version_minor": 0
      },
      "text/plain": [
       "Building operator via projectors:   0%|          | 0/41 [00:00<?, ?it/s]"
      ]
     },
     "metadata": {},
     "output_type": "display_data"
    },
    {
     "data": {
      "application/vnd.jupyter.widget-view+json": {
       "model_id": "90141eb3c5274a0790d80e71c62737f6",
       "version_major": 2,
       "version_minor": 0
      },
      "text/plain": [
       "Building operator via projectors:   0%|          | 0/41 [00:00<?, ?it/s]"
      ]
     },
     "metadata": {},
     "output_type": "display_data"
    },
    {
     "data": {
      "application/vnd.jupyter.widget-view+json": {
       "model_id": "a6d26d8516f845e8bed5682cc09b4757",
       "version_major": 2,
       "version_minor": 0
      },
      "text/plain": [
       "Building operator via projectors:   0%|          | 0/41 [00:00<?, ?it/s]"
      ]
     },
     "metadata": {},
     "output_type": "display_data"
    },
    {
     "data": {
      "application/vnd.jupyter.widget-view+json": {
       "model_id": "ab9e9c828a184f14b29d02ec89e4edf8",
       "version_major": 2,
       "version_minor": 0
      },
      "text/plain": [
       "Building operator via projectors:   0%|          | 0/41 [00:00<?, ?it/s]"
      ]
     },
     "metadata": {},
     "output_type": "display_data"
    },
    {
     "data": {
      "application/vnd.jupyter.widget-view+json": {
       "model_id": "74ee79efa97d459986b6a407d9e7aa98",
       "version_major": 2,
       "version_minor": 0
      },
      "text/plain": [
       "Building operator via projectors:   0%|          | 0/41 [00:00<?, ?it/s]"
      ]
     },
     "metadata": {},
     "output_type": "display_data"
    },
    {
     "data": {
      "application/vnd.jupyter.widget-view+json": {
       "model_id": "259e71a1bcda4440904376b4cd2e9fb3",
       "version_major": 2,
       "version_minor": 0
      },
      "text/plain": [
       "Building operator via projectors:   0%|          | 0/41 [00:00<?, ?it/s]"
      ]
     },
     "metadata": {},
     "output_type": "display_data"
    },
    {
     "data": {
      "application/vnd.jupyter.widget-view+json": {
       "model_id": "872e766deab844dd837c25cdadf52c6d",
       "version_major": 2,
       "version_minor": 0
      },
      "text/plain": [
       "Building operator via projectors:   0%|          | 0/41 [00:00<?, ?it/s]"
      ]
     },
     "metadata": {},
     "output_type": "display_data"
    },
    {
     "data": {
      "application/vnd.jupyter.widget-view+json": {
       "model_id": "a00d0b099b90482a91dcf7599396fd06",
       "version_major": 2,
       "version_minor": 0
      },
      "text/plain": [
       "Building operator via projectors:   0%|          | 0/41 [00:00<?, ?it/s]"
      ]
     },
     "metadata": {},
     "output_type": "display_data"
    },
    {
     "data": {
      "application/vnd.jupyter.widget-view+json": {
       "model_id": "37f16b4f614c4f7c9b538e4233630111",
       "version_major": 2,
       "version_minor": 0
      },
      "text/plain": [
       "Building operator via projectors:   0%|          | 0/41 [00:00<?, ?it/s]"
      ]
     },
     "metadata": {},
     "output_type": "display_data"
    },
    {
     "data": {
      "application/vnd.jupyter.widget-view+json": {
       "model_id": "98e6d12ef98648ff8783c6b8ff4b7b2d",
       "version_major": 2,
       "version_minor": 0
      },
      "text/plain": [
       "Building operator via projectors:   0%|          | 0/41 [00:00<?, ?it/s]"
      ]
     },
     "metadata": {},
     "output_type": "display_data"
    },
    {
     "data": {
      "application/vnd.jupyter.widget-view+json": {
       "model_id": "44a43b7f85f94c89981bb167e6ad497b",
       "version_major": 2,
       "version_minor": 0
      },
      "text/plain": [
       "Building operator via projectors:   0%|          | 0/41 [00:00<?, ?it/s]"
      ]
     },
     "metadata": {},
     "output_type": "display_data"
    },
    {
     "name": "stdout",
     "output_type": "stream",
     "text": [
      "53.6 ms ± 2.83 ms per loop (mean ± std. dev. of 7 runs, 10 loops each)\n"
     ]
    }
   ],
   "source": [
    "# strategy == projector or full_basis\n",
    "%timeit Pop = PauliwordOp.from_matrix(mat, strategy='projector')"
   ]
  },
  {
   "cell_type": "code",
   "execution_count": null,
   "id": "aaa37721",
   "metadata": {
    "scrolled": true
   },
   "outputs": [],
   "source": []
  },
  {
   "cell_type": "code",
   "execution_count": 22,
   "id": "59b62ce9",
   "metadata": {},
   "outputs": [
    {
     "data": {
      "application/vnd.jupyter.widget-view+json": {
       "model_id": "ac4034374ab64be1ad44de2be125d2df",
       "version_major": 2,
       "version_minor": 0
      },
      "text/plain": [
       "Building operator via full basis:   0%|          | 0/4096 [00:00<?, ?it/s]"
      ]
     },
     "metadata": {},
     "output_type": "display_data"
    },
    {
     "data": {
      "application/vnd.jupyter.widget-view+json": {
       "model_id": "24662c6ada8649538bb56277f73a56ba",
       "version_major": 2,
       "version_minor": 0
      },
      "text/plain": [
       "Building operator via full basis:   0%|          | 0/4096 [00:00<?, ?it/s]"
      ]
     },
     "metadata": {},
     "output_type": "display_data"
    },
    {
     "data": {
      "application/vnd.jupyter.widget-view+json": {
       "model_id": "19cf3153b3e74fe5bc806e5cf301f8c1",
       "version_major": 2,
       "version_minor": 0
      },
      "text/plain": [
       "Building operator via full basis:   0%|          | 0/4096 [00:00<?, ?it/s]"
      ]
     },
     "metadata": {},
     "output_type": "display_data"
    },
    {
     "data": {
      "application/vnd.jupyter.widget-view+json": {
       "model_id": "aba7b363365147d9853a00c6720d20d5",
       "version_major": 2,
       "version_minor": 0
      },
      "text/plain": [
       "Building operator via full basis:   0%|          | 0/4096 [00:00<?, ?it/s]"
      ]
     },
     "metadata": {},
     "output_type": "display_data"
    },
    {
     "data": {
      "application/vnd.jupyter.widget-view+json": {
       "model_id": "7482e2e73af247acba521b4f67dbd847",
       "version_major": 2,
       "version_minor": 0
      },
      "text/plain": [
       "Building operator via full basis:   0%|          | 0/4096 [00:00<?, ?it/s]"
      ]
     },
     "metadata": {},
     "output_type": "display_data"
    },
    {
     "data": {
      "application/vnd.jupyter.widget-view+json": {
       "model_id": "70f7da2de2044ff1a65f20cf4ae4cf8a",
       "version_major": 2,
       "version_minor": 0
      },
      "text/plain": [
       "Building operator via full basis:   0%|          | 0/4096 [00:00<?, ?it/s]"
      ]
     },
     "metadata": {},
     "output_type": "display_data"
    },
    {
     "data": {
      "application/vnd.jupyter.widget-view+json": {
       "model_id": "312a09f635e648b098dd5f8989be5588",
       "version_major": 2,
       "version_minor": 0
      },
      "text/plain": [
       "Building operator via full basis:   0%|          | 0/4096 [00:00<?, ?it/s]"
      ]
     },
     "metadata": {},
     "output_type": "display_data"
    },
    {
     "data": {
      "application/vnd.jupyter.widget-view+json": {
       "model_id": "cae248666b6049f4ae6f306ff780f61c",
       "version_major": 2,
       "version_minor": 0
      },
      "text/plain": [
       "Building operator via full basis:   0%|          | 0/4096 [00:00<?, ?it/s]"
      ]
     },
     "metadata": {},
     "output_type": "display_data"
    },
    {
     "name": "stdout",
     "output_type": "stream",
     "text": [
      "3.22 s ± 220 ms per loop (mean ± std. dev. of 7 runs, 1 loop each)\n"
     ]
    }
   ],
   "source": [
    "%timeit Pop2 = PauliwordOp.from_matrix(mat, strategy='full_basis')"
   ]
  },
  {
   "cell_type": "code",
   "execution_count": null,
   "id": "483fe57f",
   "metadata": {},
   "outputs": [],
   "source": []
  },
  {
   "cell_type": "code",
   "execution_count": null,
   "id": "26a2f56f",
   "metadata": {},
   "outputs": [],
   "source": []
  }
 ],
 "metadata": {
  "kernelspec": {
   "display_name": "Python 3 (ipykernel)",
   "language": "python",
   "name": "python3"
  },
  "language_info": {
   "codemirror_mode": {
    "name": "ipython",
    "version": 3
   },
   "file_extension": ".py",
   "mimetype": "text/x-python",
   "name": "python",
   "nbconvert_exporter": "python",
   "pygments_lexer": "ipython3",
   "version": "3.9.7"
  }
 },
 "nbformat": 4,
 "nbformat_minor": 5
}
