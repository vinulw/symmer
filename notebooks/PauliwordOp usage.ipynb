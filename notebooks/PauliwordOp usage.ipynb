{
 "cells": [
  {
   "cell_type": "markdown",
   "id": "f3768eba",
   "metadata": {},
   "source": [
    "# Getting Started with PauliwordOp"
   ]
  },
  {
   "cell_type": "code",
   "execution_count": 19,
   "id": "ffd75c10",
   "metadata": {},
   "outputs": [],
   "source": [
    "from symmer.symplectic import PauliwordOp\n",
    "import numpy as np"
   ]
  },
  {
   "cell_type": "markdown",
   "id": "d3e7f642",
   "metadata": {},
   "source": [
    "# 1. Basic initialization\n",
    "\n",
    "- `PauliwordOp.from_list`\n",
    "- `PauliwordOp.from_dictionary`\n",
    "- `PauliwordOp.from_matrix`"
   ]
  },
  {
   "cell_type": "code",
   "execution_count": 23,
   "id": "88499054",
   "metadata": {},
   "outputs": [
    {
     "data": {
      "text/plain": [
       " 1.000+0.000j ZI +\n",
       " 2.000+0.000j ZZ +\n",
       " 3.000+0.000j ZX +\n",
       " 4.000+0.000j YZ +\n",
       " 5.000+0.000j XX +\n",
       " 6.000+0.000j XY"
      ]
     },
     "execution_count": 23,
     "metadata": {},
     "output_type": "execute_result"
    }
   ],
   "source": [
    "term_list = ['ZI', 'ZZ', 'ZX', 'YZ', 'XX', 'XY']\n",
    "coeffs = [1,2,3,4,5,6]\n",
    "\n",
    "PauliwordOp.from_list(term_list, coeffs)"
   ]
  },
  {
   "cell_type": "code",
   "execution_count": 24,
   "id": "eff541ba",
   "metadata": {},
   "outputs": [
    {
     "data": {
      "text/plain": [
       " 1.000+0.000j ZI +\n",
       " 2.000+0.000j ZZ +\n",
       " 3.000+0.000j ZX +\n",
       " 4.000+0.000j YZ +\n",
       " 5.000+0.000j XX +\n",
       " 6.000+0.000j XY"
      ]
     },
     "execution_count": 24,
     "metadata": {},
     "output_type": "execute_result"
    }
   ],
   "source": [
    "term_dict = {'ZI': (1+0j),\n",
    " 'ZZ': (2+0j),\n",
    " 'ZX': (3+0j),\n",
    " 'YZ': (4+0j),\n",
    " 'XX': (5+0j),\n",
    " 'XY': (6+0j)}\n",
    "             \n",
    "PauliwordOp.from_dictionary(term_dict)"
   ]
  },
  {
   "cell_type": "code",
   "execution_count": 25,
   "id": "61cb78d0",
   "metadata": {
    "scrolled": true
   },
   "outputs": [
    {
     "data": {
      "application/vnd.jupyter.widget-view+json": {
       "model_id": "e7407c086ad14f4ab9dbb8f59be17bff",
       "version_major": 2,
       "version_minor": 0
      },
      "text/plain": [
       "Building operator via projectors:   0%|          | 0/16 [00:00<?, ?it/s]"
      ]
     },
     "metadata": {},
     "output_type": "display_data"
    },
    {
     "data": {
      "text/plain": [
       " 1.000+0.000j ZI +\n",
       " 2.000+0.000j ZZ +\n",
       " 3.000+0.000j ZX +\n",
       " 4.000+0.000j YZ +\n",
       " 5.000+0.000j XX +\n",
       " 6.000+0.000j XY"
      ]
     },
     "execution_count": 25,
     "metadata": {},
     "output_type": "execute_result"
    }
   ],
   "source": [
    "mat = np.array([[ 3.+0.j,  3.+0.j,  0.-4.j,  5.-6.j],\n",
    "                   [ 3.+0.j, -1.+0.j,  5.+6.j,  0.+4.j],\n",
    "                   [ 0.+4.j,  5.-6.j, -3.+0.j, -3.+0.j],\n",
    "                   [ 5.+6.j,  0.-4.j, -3.+0.j,  1.+0.j]])\n",
    "\n",
    "PauliwordOp.from_matrix(mat)"
   ]
  },
  {
   "cell_type": "markdown",
   "id": "e869f207",
   "metadata": {},
   "source": [
    "## The Symplectic Formalism\n",
    "\n",
    "From an implementation point of view, it is beneficial to represent Pauli operators in the _symplectic_ formalism. Here, we identify an $N$-fold Pauli string $P \\in \\mathcal{P}_N$ with a pair of $N$-dimensional binary vectors $\\vec{x}, \\vec{z} \\in \\mathbb{Z}_2^N$, whose elements are given by\n",
    "\\begin{equation}\n",
    "    x_n = \\begin{cases} 1, & P_n \\in \\{X, Y\\} \\\\ 0, & \\text{otherwise} \\end{cases},\n",
    "    z_n = \\begin{cases} 1, & P_n \\in \\{Z, Y\\} \\\\ 0, & \\text{otherwise} \\end{cases}.\n",
    "\\end{equation}\n",
    "Thus, defining $\\vec{b} =: \\vec{x} | \\vec{z} \\in \\mathbb{Z}_2^{2N}$ (where $|$ denotes vector/matrix concatenation) together with the map\n",
    "\\begin{equation}\\label{map_symp_to_pauli}\n",
    "\\begin{aligned}\n",
    "    \\sigma: \\mathbb{Z}_2^{2N} \\to{} & \\mathcal{P}_N; \\\\\n",
    "    \\vec{b} \\mapsto{} & i^{\\vec{x} \\cdot \\vec{z}} \\bigotimes_{n=0}^{N-1} \\Big(x_n X + (1-x_n) I\\Big) \\Big(z_n Z + (1 - z_n) I\\Big),\n",
    "\\end{aligned}\n",
    "\\end{equation}\n",
    "we may reconstruct our Pauli operator $P = \\sigma(\\vec{b})$. In other words, the binary vectors $\\vec{x}, \\vec{z}$ indicate tensor factors in which there is a Pauli $X, Z$ respectively, with the additional factor $i^{\\vec{x} \\cdot \\vec{z}}$ correcting for any incurred phases from the multiplication $XZ = -iY$."
   ]
  },
  {
   "cell_type": "code",
   "execution_count": 46,
   "id": "b3df6183",
   "metadata": {},
   "outputs": [
    {
     "name": "stdout",
     "output_type": "stream",
     "text": [
      "Using the operator below:\n",
      "\n",
      " 1.000+0.000j ZI +\n",
      " 2.000+0.000j ZZ +\n",
      " 3.000+0.000j ZX +\n",
      " 4.000+0.000j YZ +\n",
      " 5.000+0.000j XX +\n",
      " 6.000+0.000j XY\n",
      "\n",
      "In the symplectic picture, each term is mapped to a binary string as follows:\n",
      "\n",
      " 1.000+0.000j ZI -> X block: [0 0], Z block: [1 0]\n",
      " 2.000+0.000j ZZ -> X block: [0 0], Z block: [1 1]\n",
      " 3.000+0.000j ZX -> X block: [0 1], Z block: [1 0]\n",
      " 4.000+0.000j YZ -> X block: [1 0], Z block: [1 1]\n",
      " 5.000+0.000j XX -> X block: [1 1], Z block: [0 0]\n",
      " 6.000+0.000j XY -> X block: [1 1], Z block: [0 1]\n",
      "\n",
      "The full symplectic matrix is:\n",
      "\n",
      "[[0 0 1 0]\n",
      " [0 0 1 1]\n",
      " [0 1 1 0]\n",
      " [1 0 1 1]\n",
      " [1 1 0 0]\n",
      " [1 1 0 1]]\n"
     ]
    }
   ],
   "source": [
    "print('Using the operator below:\\n')\n",
    "op = PauliwordOp.from_list(term_list, coeffs)\n",
    "print(op); print()\n",
    "print('In the symplectic picture, each term is mapped to a binary string as follows:\\n')\n",
    "for term in op:\n",
    "    print(f'{term} -> X block: {term.X_block[0].astype(int)}, Z block: {term.Z_block[0].astype(int)}')\n",
    "print('\\nThe full symplectic matrix is:\\n')\n",
    "print(op.symp_matrix.astype(int))"
   ]
  },
  {
   "cell_type": "markdown",
   "id": "437ad1da",
   "metadata": {},
   "source": [
    "## 1.1 Addition\n",
    "\n",
    "In the symplectic picture, addition ammounts to a stacking of the symplectic matrices with a subsequent cleanup over potentially duplicated entries."
   ]
  },
  {
   "cell_type": "code",
   "execution_count": 47,
   "id": "f63fd38e",
   "metadata": {},
   "outputs": [],
   "source": [
    "P1 = PauliwordOp.from_list(['XY', 'ZX'])\n",
    "P2 = PauliwordOp.from_list(['IY', 'ZX'])"
   ]
  },
  {
   "cell_type": "code",
   "execution_count": 48,
   "id": "d6ccb539",
   "metadata": {},
   "outputs": [
    {
     "data": {
      "text/plain": [
       " 1.000+0.000j IY +\n",
       " 2.000+0.000j ZX +\n",
       " 1.000+0.000j XY"
      ]
     },
     "execution_count": 48,
     "metadata": {},
     "output_type": "execute_result"
    }
   ],
   "source": [
    "P_add = P1 + P2\n",
    "P_add"
   ]
  },
  {
   "cell_type": "markdown",
   "id": "3cafc9cf",
   "metadata": {},
   "source": [
    "## 1.2 Multiplication\n",
    "\n",
    "Multiplication of Pauli operators reduces to binary vector addition in the symplectic representation, however care must be taken to ensure phases are correctly accounted for; this is overlooked in much of the stabilizer code literature. Given Pauli operators $P, Q \\in \\mathcal{P}_N$, we may use symplectic representation to evaluate their product\n",
    "\\begin{equation}\n",
    "\\begin{aligned}\n",
    "    PQ \n",
    "    ={} & \\sigma(\\vec{b}_P) \\sigma(\\vec{b}_Q) \\\\\n",
    "    ={} & i^{\\vec{x}_P \\cdot \\vec{z}_P + \\vec{x}_Q \\cdot \\vec{z}_Q} \\bigotimes_{n=0}^{N-1} \\Bigg[\n",
    "    \\Big(\\big(x_{P,n} + (-1)^{z_{P,n}} x_{Q,n}\\big) X + \\big(1-(x_{P,n} + x_{Q,n})\\big) I\\Big) \\times\n",
    "    \\Big(\\big(z_{P,n} + z_{Q,n}\\big) Z + \\big(1-(z_{P,n} + z_{Q,n})\\big) I\\Big) \\Bigg] \\\\\n",
    "    ={} & i^{\\vec{x}_P \\cdot \\vec{z}_P + \\vec{x}_Q \\cdot \\vec{z}_Q} (-1)^{\\vec{z}_P \\cdot \\vec{x}_Q} \\bigotimes_{n=0}^{N-1} \\Bigg[\n",
    "    \\Big(\\big(x_{P,n} + x_{Q,n}\\big) X + \\big(1-(x_{P,n} + x_{Q,n})\\big) I\\Big) \\times\n",
    "    \\Big(\\big(z_{P,n} + z_{Q,n}\\big) Z + \\big(1-(z_{P,n} + z_{Q,n})\\big) I\\Big) \\Bigg] \\\\\n",
    "    ={} & i^{\\vec{x}_P \\cdot \\vec{z}_P + \\vec{x}_Q \\cdot \\vec{z}_Q} (-i)^{(\\vec{x}_P \\oplus \\vec{x}_Q) \\cdot (\\vec{z}_P \\oplus \\vec{z}_Q)} (-1)^{\\vec{z}_P \\cdot \\vec{x}_Q} \\sigma(\\vec{b}_P \\oplus \\vec{b}_Q) \\\\\n",
    "    ={} & i^{\\vec{z}_P \\cdot (\\vec{x}_P + \\vec{x}_Q) + \\vec{x}_Q \\cdot (\\vec{z}_P + \\vec{z}_Q)} (-i)^{(\\vec{x}_P \\oplus \\vec{x}_Q) \\cdot (\\vec{z}_P \\oplus \\vec{z}_Q)} \\sigma(\\vec{b}_P \\oplus \\vec{b}_Q) \\\\\n",
    "    %={} & (-i)^{\\langle \\vec{b}_P, \\vec{b}_Q \\rangle} \\sigma(\\vec{b}_P + \\vec{b}_Q).\n",
    "\\end{aligned}\n",
    "\\end{equation}"
   ]
  },
  {
   "cell_type": "code",
   "execution_count": 52,
   "id": "17c2b067",
   "metadata": {},
   "outputs": [
    {
     "data": {
      "text/plain": [
       " 1.000+0.000j II +\n",
       " 0.000+1.000j ZZ +\n",
       " 1.000+0.000j XI +\n",
       "-1.000+0.000j YZ"
      ]
     },
     "execution_count": 52,
     "metadata": {},
     "output_type": "execute_result"
    }
   ],
   "source": [
    "P_mult = P1 * P2\n",
    "P_mult"
   ]
  },
  {
   "cell_type": "markdown",
   "id": "5fc1ba30",
   "metadata": {},
   "source": [
    "## 1.3 Commutativity\n",
    "\n",
    "Given two Pauli operators $P, Q \\in \\mathcal{P}_N$ with corresponding symplectic vectors $\\vec{b}_P, \\vec{b}_Q \\in \\mathbb{Z}_2^{2N}$, define the canonical \\textit{symplectic form}\n",
    "\\begin{equation}\n",
    "    \\Omega =: \\begin{pmatrix} 0_N & I_N \\\\ I_N & 0_N \\end{pmatrix}\n",
    "\\end{equation}\n",
    "and the \\textit{symplectic innner product}\n",
    "\\begin{equation}\\label{innerprod}\n",
    "    \\langle \\vec{b}_P, \\vec{b}_Q \\rangle =: \\vec{b}_P \\Omega \\vec{b}_Q^{T} = \\vec{x}_P \\cdot \\vec{z}_Q + \\vec{z}_P \\cdot \\vec{x}_Q.\n",
    "\\end{equation}\n",
    "%taken modulo 2.\n",
    "\n",
    "Pauli operators commute when they differ on an even number of tensor factors (excluding identity positions); this corresponds with mismatches between the $\\vec{X}$ and $\\vec{Z}$ blocks of each operator. One may count these mismatches using the inner product above, which yields a check for commutation:\n",
    "\\begin{equation}\\label{commute_equiv}\n",
    "    [P, Q] = 0 \\Leftrightarrow \\langle \\vec{b}_P, \\vec{b}_Q \\rangle \\equiv 0 \\mod 2.\n",
    "\\end{equation}\n",
    "\n",
    "Such operations are highly parallelizable in the symplectic representation. Here, for example, we may check commutation between each term of two linear combinations $L=\\sum_{t=1}^{T_L} l_t P_t, M=\\sum_{t=1}^{T_M} m_t Q_t$ by evaluating the inner product of their symplectic matrices \n",
    "\\begin{equation}\n",
    "    \\langle \\vec{B}_L, \\vec{B}_M \\rangle = \\vec{X}_L \\vec{Z}_M^\\top + \\vec{Z}_L \\vec{X}_M^\\top \\mod 2.    \n",
    "\\end{equation}\n",
    "The resulting matrix will be of size $T_L \\times T_M$ and the ($l,m$)-th entry is zero (one) when $[P_l, Q_m] = 0$ ($\\{P_l, Q_m\\} = 0$).  "
   ]
  },
  {
   "cell_type": "code",
   "execution_count": 83,
   "id": "84c31e79",
   "metadata": {},
   "outputs": [
    {
     "name": "stdout",
     "output_type": "stream",
     "text": [
      "[[ True  True False]\n",
      " [ True  True  True]\n",
      " [False  True  True]]\n"
     ]
    }
   ],
   "source": [
    "# adjacency matrix of commuting terms within a defined operator\n",
    "P = PauliwordOp.from_list(['XX', 'YY', 'ZX'])\n",
    "print(P.adjacency_matrix)"
   ]
  },
  {
   "cell_type": "code",
   "execution_count": 84,
   "id": "4668c8be",
   "metadata": {},
   "outputs": [
    {
     "name": "stdout",
     "output_type": "stream",
     "text": [
      "True\n",
      "False\n"
     ]
    }
   ],
   "source": [
    "# commutativity between operators\n",
    "P1 = PauliwordOp.from_list(['XX'])\n",
    "P2 = PauliwordOp.from_list(['ZZ'])\n",
    "P3 = PauliwordOp.from_list(['IY'])\n",
    "\n",
    "print(P1.commutes(P2))\n",
    "print(P1.commutes(P3))"
   ]
  },
  {
   "cell_type": "code",
   "execution_count": 85,
   "id": "32ba5676",
   "metadata": {},
   "outputs": [
    {
     "name": "stdout",
     "output_type": "stream",
     "text": [
      "[[ True  True False]]\n"
     ]
    }
   ],
   "source": [
    "# termwise commutativy\n",
    "P1 = PauliwordOp.from_list(['ZZ'])\n",
    "P2 = PauliwordOp.from_list(['XX', 'YY', 'ZX'])\n",
    "\n",
    "\n",
    "print(P1.commutes_termwise(P2))"
   ]
  },
  {
   "cell_type": "markdown",
   "id": "b6b19b62",
   "metadata": {},
   "source": [
    "## 1.4 Tensoring PauliwordOps\n",
    "\n",
    "We can tensor PauliwordOps together..."
   ]
  },
  {
   "cell_type": "code",
   "execution_count": 95,
   "id": "46de4925",
   "metadata": {},
   "outputs": [
    {
     "name": "stdout",
     "output_type": "stream",
     "text": [
      " 0.000+2.000j XZ\n"
     ]
    }
   ],
   "source": [
    "P1 = PauliwordOp.from_list(['X'], [1j])\n",
    "P2 = PauliwordOp.from_list(['Z'], [2])\n",
    "\n",
    "print(P1.tensor(P2))"
   ]
  },
  {
   "cell_type": "markdown",
   "id": "24a2760a",
   "metadata": {},
   "source": [
    "... which includes linear combinations defined over different numbers of qubits:"
   ]
  },
  {
   "cell_type": "code",
   "execution_count": 96,
   "id": "8a1f206f",
   "metadata": {},
   "outputs": [
    {
     "name": "stdout",
     "output_type": "stream",
     "text": [
      "-1.000+21.000j ZXYZZ +\n",
      "-37.000+29.000j ZXYXY +\n",
      " 4.000+7.000j XIYZZ +\n",
      "-6.000+17.000j XIYXY\n"
     ]
    }
   ],
   "source": [
    "P1 = PauliwordOp.from_list(['XIY', 'ZXY'], [2+1j, 3+5j])\n",
    "P2 = PauliwordOp.from_list(['ZZ', 'XY'], [3+2j, 1+8j])\n",
    "\n",
    "print(P1.tensor(P2))"
   ]
  },
  {
   "cell_type": "markdown",
   "id": "8bca19f3",
   "metadata": {},
   "source": [
    "# 2. Exporting PauliwordOps to different representations"
   ]
  },
  {
   "cell_type": "code",
   "execution_count": 112,
   "id": "5065cdeb",
   "metadata": {},
   "outputs": [
    {
     "name": "stdout",
     "output_type": "stream",
     "text": [
      " 1.000+0.000j XX +\n",
      " 2.000+0.000j ZZ +\n",
      " 3.000+0.000j II\n"
     ]
    }
   ],
   "source": [
    "op = PauliwordOp.from_dictionary(\n",
    "    {\n",
    "        'XX':1,\n",
    "        'ZZ':2,\n",
    "        'II':3\n",
    "    }\n",
    ")\n",
    "print(op)"
   ]
  },
  {
   "cell_type": "markdown",
   "id": "6c2fb88d",
   "metadata": {},
   "source": [
    "## 2.1 Convert to sparse matrix"
   ]
  },
  {
   "cell_type": "code",
   "execution_count": 114,
   "id": "cb6eb284",
   "metadata": {
    "scrolled": true
   },
   "outputs": [
    {
     "name": "stdout",
     "output_type": "stream",
     "text": [
      "<class 'scipy.sparse.csr.csr_matrix'>\n",
      "[[5.+0.j 0.+0.j 0.+0.j 1.+0.j]\n",
      " [0.+0.j 1.+0.j 1.+0.j 0.+0.j]\n",
      " [0.+0.j 1.+0.j 1.+0.j 0.+0.j]\n",
      " [1.+0.j 0.+0.j 0.+0.j 5.+0.j]]\n"
     ]
    }
   ],
   "source": [
    "op_sparse_matrix = op.to_sparse_matrix\n",
    "\n",
    "print(type(op_sparse_matrix))\n",
    "print(op_sparse_matrix.toarray())"
   ]
  },
  {
   "cell_type": "markdown",
   "id": "b3cce8ce",
   "metadata": {},
   "source": [
    "## 2.2 Pandas DataFrame"
   ]
  },
  {
   "cell_type": "code",
   "execution_count": 115,
   "id": "b484f197",
   "metadata": {},
   "outputs": [
    {
     "data": {
      "text/html": [
       "<div>\n",
       "<style scoped>\n",
       "    .dataframe tbody tr th:only-of-type {\n",
       "        vertical-align: middle;\n",
       "    }\n",
       "\n",
       "    .dataframe tbody tr th {\n",
       "        vertical-align: top;\n",
       "    }\n",
       "\n",
       "    .dataframe thead th {\n",
       "        text-align: right;\n",
       "    }\n",
       "</style>\n",
       "<table border=\"1\" class=\"dataframe\">\n",
       "  <thead>\n",
       "    <tr style=\"text-align: right;\">\n",
       "      <th></th>\n",
       "      <th>Pauli terms</th>\n",
       "      <th>Coefficients (real)</th>\n",
       "    </tr>\n",
       "  </thead>\n",
       "  <tbody>\n",
       "    <tr>\n",
       "      <th>0</th>\n",
       "      <td>II</td>\n",
       "      <td>1.0</td>\n",
       "    </tr>\n",
       "    <tr>\n",
       "      <th>1</th>\n",
       "      <td>ZZ</td>\n",
       "      <td>2.0</td>\n",
       "    </tr>\n",
       "    <tr>\n",
       "      <th>2</th>\n",
       "      <td>XX</td>\n",
       "      <td>3.0</td>\n",
       "    </tr>\n",
       "  </tbody>\n",
       "</table>\n",
       "</div>"
      ],
      "text/plain": [
       "  Pauli terms  Coefficients (real)\n",
       "0          II                  1.0\n",
       "1          ZZ                  2.0\n",
       "2          XX                  3.0"
      ]
     },
     "execution_count": 115,
     "metadata": {},
     "output_type": "execute_result"
    }
   ],
   "source": [
    "op.to_dataframe"
   ]
  },
  {
   "cell_type": "markdown",
   "id": "f1669095",
   "metadata": {},
   "source": [
    "## 2.3 OpenFermion"
   ]
  },
  {
   "cell_type": "code",
   "execution_count": 117,
   "id": "57261e6f",
   "metadata": {},
   "outputs": [
    {
     "data": {
      "text/plain": [
       "(3+0j) [] +\n",
       "(1+0j) [X0 X1] +\n",
       "(2+0j) [Z0 Z1]"
      ]
     },
     "execution_count": 117,
     "metadata": {},
     "output_type": "execute_result"
    }
   ],
   "source": [
    "op.to_openfermion"
   ]
  },
  {
   "cell_type": "markdown",
   "id": "1c7438bf",
   "metadata": {},
   "source": [
    "## 2.3 Qiskit"
   ]
  },
  {
   "cell_type": "code",
   "execution_count": 118,
   "id": "cda97c5e",
   "metadata": {},
   "outputs": [
    {
     "data": {
      "text/plain": [
       "PauliSumOp(SparsePauliOp(['II', 'ZZ', 'XX'],\n",
       "              coeffs=[3.+0.j, 2.+0.j, 1.+0.j]), coeff=1.0)"
      ]
     },
     "execution_count": 118,
     "metadata": {},
     "output_type": "execute_result"
    }
   ],
   "source": [
    "op.to_qiskit"
   ]
  }
 ],
 "metadata": {
  "kernelspec": {
   "display_name": "Python 3 (ipykernel)",
   "language": "python",
   "name": "python3"
  },
  "language_info": {
   "codemirror_mode": {
    "name": "ipython",
    "version": 3
   },
   "file_extension": ".py",
   "mimetype": "text/x-python",
   "name": "python",
   "nbconvert_exporter": "python",
   "pygments_lexer": "ipython3",
   "version": "3.8.13"
  }
 },
 "nbformat": 4,
 "nbformat_minor": 5
}
