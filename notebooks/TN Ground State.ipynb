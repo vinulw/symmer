{
 "cells": [
  {
   "cell_type": "code",
   "execution_count": 1,
   "id": "f018bba0-02bf-473f-921b-d23d2e9fa5f4",
   "metadata": {},
   "outputs": [
    {
     "ename": "ModuleNotFoundError",
     "evalue": "No module named 'symmer'",
     "output_type": "error",
     "traceback": [
      "\u001b[0;31m---------------------------------------------------------------------------\u001b[0m",
      "\u001b[0;31mModuleNotFoundError\u001b[0m                       Traceback (most recent call last)",
      "Input \u001b[0;32mIn [1]\u001b[0m, in \u001b[0;36m<cell line: 2>\u001b[0;34m()\u001b[0m\n\u001b[1;32m      1\u001b[0m \u001b[38;5;28;01mimport\u001b[39;00m \u001b[38;5;21;01mos\u001b[39;00m\n\u001b[0;32m----> 2\u001b[0m \u001b[38;5;28;01mfrom\u001b[39;00m \u001b[38;5;21;01msymmer\u001b[39;00m\u001b[38;5;21;01m.\u001b[39;00m\u001b[38;5;21;01msymplectic\u001b[39;00m\u001b[38;5;21;01m.\u001b[39;00m\u001b[38;5;21;01mbase\u001b[39;00m \u001b[38;5;28;01mimport\u001b[39;00m PauliwordOp\n\u001b[1;32m      3\u001b[0m \u001b[38;5;28;01mimport\u001b[39;00m \u001b[38;5;21;01mjson\u001b[39;00m\n\u001b[1;32m      4\u001b[0m \u001b[38;5;28;01mimport\u001b[39;00m \u001b[38;5;21;01mnumpy\u001b[39;00m \u001b[38;5;28;01mas\u001b[39;00m \u001b[38;5;21;01mnp\u001b[39;00m\n",
      "\u001b[0;31mModuleNotFoundError\u001b[0m: No module named 'symmer'"
     ]
    }
   ],
   "source": [
    "import os\n",
    "from symmer.symplectic.base import PauliwordOp\n",
    "import json\n",
    "import numpy as np\n",
    "from ncon import ncon"
   ]
  },
  {
   "cell_type": "code",
   "execution_count": 2,
   "id": "b80c82bd-6f48-42fb-8d3c-dc9ec5403805",
   "metadata": {},
   "outputs": [],
   "source": [
    "def expand_local_basis(H):\n",
    "    i, _ = H.shape\n",
    "    i = int(np.log2(i))\n",
    "    \n",
    "    H_ = H.reshape([2]*(i*2))\n",
    "    return H_"
   ]
  },
  {
   "cell_type": "code",
   "execution_count": 3,
   "id": "a7eb55df-75eb-4ef2-9fc5-11351d19ddfb",
   "metadata": {},
   "outputs": [],
   "source": [
    "from functools import reduce\n",
    "from operator import iconcat\n",
    "\n",
    "def group_opposite_legs(H_exp):\n",
    "    l = len(H_exp.shape)\n",
    "    offset = int(l / 2)\n",
    "    tlist = [[i, i+offset] for i in range(offset)]\n",
    "    tlist = reduce(iconcat, tlist, [])\n",
    "    return H_exp.transpose(tlist)\n",
    "    "
   ]
  },
  {
   "cell_type": "code",
   "execution_count": 4,
   "id": "98452c5e-9709-4121-a240-9935a42c762f",
   "metadata": {},
   "outputs": [],
   "source": [
    "def mpo_decomp_step(H_curr, Dmax=8):\n",
    "    l = len(H_curr.shape)\n",
    "    a, i, j = H_curr.shape[:3]\n",
    "    \n",
    "    M = H_curr.reshape(a*i*j, -1)\n",
    "    \n",
    "    U, S, V = truncated_SVD(M, Dmax=Dmax)\n",
    "    \n",
    "    D = len(S)\n",
    "\n",
    "    A = U.reshape(a, i, j, D)\n",
    "    M = np.diag(S) @ V\n",
    "\n",
    "    M = M.reshape(D, *[2]*(l-4), 1)\n",
    "    return A, M"
   ]
  },
  {
   "cell_type": "code",
   "execution_count": 5,
   "id": "5e5811a5-a1e9-4b4b-a755-34ff8a6042a4",
   "metadata": {},
   "outputs": [],
   "source": [
    "def truncated_SVD(M, Dmax=None):\n",
    "    U, S, V = np.linalg.svd(M, full_matrices=False)\n",
    "    \n",
    "    if Dmax is not None and len(S) > Dmax:\n",
    "        S = S[:Dmax]\n",
    "        U = U[:, :Dmax]\n",
    "        V = V[:Dmax, :]\n",
    "    \n",
    "    return U, S, V"
   ]
  },
  {
   "cell_type": "code",
   "execution_count": 6,
   "id": "6c44b19a-370a-4cd2-86ef-3d62b0932470",
   "metadata": {},
   "outputs": [],
   "source": [
    "def construct_MPO(H_local, Dmax=8, debug=False):\n",
    "    l = int(len(H_local.shape) / 2) - 1\n",
    "    As = []\n",
    "    M = H_local\n",
    "    for i in range(l-1):\n",
    "        A, M = mpo_decomp_step(M, Dmax)\n",
    "        if debug:\n",
    "            print(i)\n",
    "            print('  A shape: {}'.format(A.shape))\n",
    "            print('  M shape: {}'.format(M.shape))\n",
    "        As.append(A)\n",
    "    if debug:\n",
    "        print(i+1)\n",
    "        print('  A shape: {}'.format(M.shape))\n",
    "    As.append(M)\n",
    "    #As[-1] = ncon([As[-1], M], ((-1, -2, -3, 1), (1, -4)))\n",
    "    return As"
   ]
  },
  {
   "cell_type": "code",
   "execution_count": 7,
   "id": "4dfec858-c7bc-4a50-a2ae-b0288caa8e4e",
   "metadata": {},
   "outputs": [],
   "source": [
    "test_dir = os.path.join(os.path.dirname(os.getcwd()), 'tests')\n",
    "ham_data_dir = os.path.join(test_dir, 'hamiltonian_data')"
   ]
  },
  {
   "cell_type": "code",
   "execution_count": 8,
   "id": "f1158cd2-55bb-4326-a396-4ab615b8f012",
   "metadata": {},
   "outputs": [],
   "source": [
    "filename = 'H4_STO-3G_SINGLET_JW.json'\n",
    "\n",
    "if filename not in os.listdir(ham_data_dir):\n",
    "    raise ValueError('unknown file')\n",
    "    \n",
    "with open(os.path.join(ham_data_dir, filename), 'r') as infile:\n",
    "    data_dict = json.load(infile)"
   ]
  },
  {
   "cell_type": "markdown",
   "id": "334c9f93-19a1-422e-829e-bc9c7333eae0",
   "metadata": {
    "jp-MarkdownHeadingCollapsed": true,
    "tags": []
   },
   "source": [
    "### Test MPO Quimb with built in Ising Hamiltonian"
   ]
  },
  {
   "cell_type": "code",
   "execution_count": 9,
   "id": "a982a592-02a3-4da9-a32a-8e1f964dbf44",
   "metadata": {},
   "outputs": [],
   "source": [
    "from quimb.tensor.tensor_1d import MatrixProductOperator\n",
    "from quimb.tensor.tensor_gen import MPO_ham_ising\n",
    "from quimb.tensor.tensor_dmrg import DMRG2\n",
    "from quimb.tensor.tensor_gen import SpinHam1D"
   ]
  },
  {
   "cell_type": "code",
   "execution_count": 10,
   "id": "794aa051-37ac-40e0-9528-22549eccf2c9",
   "metadata": {},
   "outputs": [],
   "source": [
    "def Ham_Ising(j=1.0, bx=0.0, S=1/2, cyclic=False):\n",
    "    H = SpinHam1D(S=S, cyclic=cyclic)\n",
    "    H += j, 'Z', 'Z'\n",
    "    H -= bx, 'X'\n",
    "    return H"
   ]
  },
  {
   "cell_type": "code",
   "execution_count": 11,
   "id": "8a222cbd-e714-4299-b738-10ae0368c6fb",
   "metadata": {},
   "outputs": [],
   "source": [
    "mpo_ising = MPO_ham_ising(L = 4, bx=0.0)"
   ]
  },
  {
   "cell_type": "code",
   "execution_count": 12,
   "id": "f326c974-c15f-43f9-995f-29c94795a80e",
   "metadata": {},
   "outputs": [
    {
     "name": "stdout",
     "output_type": "stream",
     "text": [
      "MatrixProductOperator([\n",
      "    Tensor(shape=(3, 2, 2), inds=('_20d2e3AAAAA', 'k0', 'b0'), tags=oset(['I0'])),\n",
      "    Tensor(shape=(3, 3, 2, 2), inds=('_20d2e3AAAAA', '_20d2e3AAAAB', 'k1', 'b1'), tags=oset(['I1'])),\n",
      "    Tensor(shape=(3, 3, 2, 2), inds=('_20d2e3AAAAB', '_20d2e3AAAAC', 'k2', 'b2'), tags=oset(['I2'])),\n",
      "    Tensor(shape=(3, 2, 2), inds=('_20d2e3AAAAC', 'k3', 'b3'), tags=oset(['I3'])),\n",
      "], L=4, max_bond=3)\n"
     ]
    }
   ],
   "source": [
    "print(mpo_ising)"
   ]
  },
  {
   "cell_type": "code",
   "execution_count": 13,
   "id": "10f54374-e708-4920-913d-2f6a13f0ddae",
   "metadata": {},
   "outputs": [],
   "source": [
    "dmrg = DMRG2(mpo_ising, bond_dims=[10, 20, 100, 100, 200], cutoffs=1e-10)"
   ]
  },
  {
   "cell_type": "code",
   "execution_count": 14,
   "id": "99b7ac8c-25b1-4102-85b1-2ae5ea59090b",
   "metadata": {},
   "outputs": [
    {
     "name": "stdout",
     "output_type": "stream",
     "text": [
      "SWEEP-1, direction=R, max_bond=(10/10), cutoff:1e-10\n"
     ]
    },
    {
     "name": "stderr",
     "output_type": "stream",
     "text": [
      "100%|############################################| 3/3 [00:00<00:00, 132.57it/s]"
     ]
    },
    {
     "name": "stdout",
     "output_type": "stream",
     "text": [
      "Energy: -0.7500000000000003 ... not converged.\n",
      "SWEEP-2, direction=R, max_bond=(2/20), cutoff:1e-10\n"
     ]
    },
    {
     "name": "stderr",
     "output_type": "stream",
     "text": [
      "\n",
      "100%|############################################| 3/3 [00:00<00:00, 422.87it/s]"
     ]
    },
    {
     "name": "stdout",
     "output_type": "stream",
     "text": [
      "Energy: -0.75 ... converged!\n"
     ]
    },
    {
     "name": "stderr",
     "output_type": "stream",
     "text": [
      "\n"
     ]
    },
    {
     "data": {
      "text/plain": [
       "True"
      ]
     },
     "execution_count": 14,
     "metadata": {},
     "output_type": "execute_result"
    }
   ],
   "source": [
    "dmrg.solve(tol=1e-6, verbosity=1)"
   ]
  },
  {
   "cell_type": "code",
   "execution_count": 15,
   "id": "d21c1a0f-5d26-4f2c-8132-0dcd765e9ee3",
   "metadata": {},
   "outputs": [
    {
     "name": "stdout",
     "output_type": "stream",
     "text": [
      " 1 1 1 \n",
      ">─>─>─<\n",
      "│ │ │ │\n"
     ]
    }
   ],
   "source": [
    "dmrg.state.show(max_width=80)"
   ]
  },
  {
   "cell_type": "code",
   "execution_count": 16,
   "id": "f6306741-4538-4ef0-93c5-a2786bab2234",
   "metadata": {},
   "outputs": [],
   "source": [
    "matrix_ising = Ham_Ising().build_sparse(4)\n",
    "matrix_ising = matrix_ising.toarray()"
   ]
  },
  {
   "cell_type": "code",
   "execution_count": 17,
   "id": "19538059-5df5-49c8-a27c-b6394c4777a9",
   "metadata": {},
   "outputs": [],
   "source": [
    "matrix_exp = expand_local_basis(matrix_ising)\n",
    "matrix_grouped = group_opposite_legs(matrix_exp)\n",
    "matrix_grouped = np.expand_dims(matrix_grouped, axis=(0, -1))\n",
    "As = construct_MPO(matrix_grouped, Dmax=16, debug=False)\n",
    "As = [np.squeeze(A) for A in As]\n",
    "my_MPO = MatrixProductOperator(As, 'ldur')"
   ]
  },
  {
   "cell_type": "code",
   "execution_count": 18,
   "id": "50a1dfa9-bad9-4593-b62b-132806459d67",
   "metadata": {},
   "outputs": [
    {
     "name": "stdout",
     "output_type": "stream",
     "text": [
      "MatrixProductOperator([\n",
      "    Tensor(shape=(4, 2, 2), inds=('_20d2e3AAAAV', 'k0', 'b0'), tags=oset(['I0'])),\n",
      "    Tensor(shape=(4, 16, 2, 2), inds=('_20d2e3AAAAV', '_20d2e3AAAAW', 'k1', 'b1'), tags=oset(['I1'])),\n",
      "    Tensor(shape=(16, 4, 2, 2), inds=('_20d2e3AAAAW', '_20d2e3AAAAX', 'k2', 'b2'), tags=oset(['I2'])),\n",
      "    Tensor(shape=(4, 2, 2), inds=('_20d2e3AAAAX', 'k3', 'b3'), tags=oset(['I3'])),\n",
      "], L=4, max_bond=16)\n"
     ]
    }
   ],
   "source": [
    "print(my_MPO)"
   ]
  },
  {
   "cell_type": "code",
   "execution_count": 19,
   "id": "479453a7-2765-4900-a87f-215e30a9a75f",
   "metadata": {},
   "outputs": [],
   "source": [
    "mydmrg = DMRG2(my_MPO, bond_dims=10, cutoffs=1e-10)"
   ]
  },
  {
   "cell_type": "code",
   "execution_count": 20,
   "id": "f3f7a5d8-848f-491e-abf6-b3fe28df29cb",
   "metadata": {},
   "outputs": [
    {
     "name": "stdout",
     "output_type": "stream",
     "text": [
      "SWEEP-1, direction=R, max_bond=(10/10), cutoff:1e-10\n"
     ]
    },
    {
     "name": "stderr",
     "output_type": "stream",
     "text": [
      "100%|############################################| 3/3 [00:00<00:00, 171.10it/s]"
     ]
    },
    {
     "name": "stdout",
     "output_type": "stream",
     "text": [
      "Energy: (-0.7499999999999998+1.2920900269473413e-17j) ... not converged.\n",
      "SWEEP-2, direction=R, max_bond=(2/10), cutoff:1e-10\n"
     ]
    },
    {
     "name": "stderr",
     "output_type": "stream",
     "text": [
      "\n",
      "100%|############################################| 3/3 [00:00<00:00, 444.45it/s]"
     ]
    },
    {
     "name": "stdout",
     "output_type": "stream",
     "text": [
      "Energy: (-0.75+0j) ... converged!\n"
     ]
    },
    {
     "name": "stderr",
     "output_type": "stream",
     "text": [
      "\n"
     ]
    },
    {
     "data": {
      "text/plain": [
       "True"
      ]
     },
     "execution_count": 20,
     "metadata": {},
     "output_type": "execute_result"
    }
   ],
   "source": [
    "mydmrg.solve(tol=1e-6, verbosity=1)"
   ]
  },
  {
   "cell_type": "markdown",
   "id": "0e684d82-1999-427a-b2f4-c37eac91bf77",
   "metadata": {},
   "source": [
    "### Constructing and MPO representation of H"
   ]
  },
  {
   "cell_type": "code",
   "execution_count": 21,
   "id": "d6dd18d7-5bc9-49ee-83db-f8e9f5855c2e",
   "metadata": {},
   "outputs": [],
   "source": [
    "H_op = PauliwordOp.from_dictionary(data_dict['hamiltonian'])"
   ]
  },
  {
   "cell_type": "code",
   "execution_count": 22,
   "id": "278d1315-6169-47a3-86ce-6f8b54a6adb1",
   "metadata": {},
   "outputs": [],
   "source": [
    "# list(data_dict['hamiltonian'].keys())"
   ]
  },
  {
   "cell_type": "code",
   "execution_count": 23,
   "id": "c2316994-6230-4841-b7c3-dbfb90268bec",
   "metadata": {},
   "outputs": [],
   "source": [
    "H_sparse = H_op.to_sparse_matrix"
   ]
  },
  {
   "cell_type": "code",
   "execution_count": 24,
   "id": "ba14cc74-b3d1-4852-862b-18b2f33b23d7",
   "metadata": {},
   "outputs": [],
   "source": [
    "H = H_sparse.toarray()"
   ]
  },
  {
   "cell_type": "code",
   "execution_count": 25,
   "id": "cea799d0-0969-4a31-8e46-9077dbe31c76",
   "metadata": {},
   "outputs": [],
   "source": [
    "H_exp = expand_local_basis(H)"
   ]
  },
  {
   "cell_type": "code",
   "execution_count": 26,
   "id": "8ae4a058-d388-4cf5-a555-c2c6fd4433fa",
   "metadata": {},
   "outputs": [],
   "source": [
    "H_grouped = group_opposite_legs(H_exp)"
   ]
  },
  {
   "cell_type": "code",
   "execution_count": 27,
   "id": "7ae8a658-be60-49b8-ac21-62eac616380d",
   "metadata": {},
   "outputs": [
    {
     "data": {
      "text/plain": [
       "(2, 2, 2, 2, 2, 2, 2, 2, 2, 2, 2, 2, 2, 2, 2, 2)"
      ]
     },
     "execution_count": 27,
     "metadata": {},
     "output_type": "execute_result"
    }
   ],
   "source": [
    "H_grouped.shape"
   ]
  },
  {
   "cell_type": "code",
   "execution_count": 28,
   "id": "38eadbe7-717a-485d-9445-6b80a5b78fb8",
   "metadata": {},
   "outputs": [],
   "source": [
    "H_grouped = np.expand_dims(H_grouped, axis=(0, -1))"
   ]
  },
  {
   "cell_type": "code",
   "execution_count": 29,
   "id": "3508011b-9691-4d87-9db0-73182124a9ea",
   "metadata": {},
   "outputs": [
    {
     "data": {
      "text/plain": [
       "(1, 2, 2, 2, 2, 2, 2, 2, 2, 2, 2, 2, 2, 2, 2, 2, 2, 1)"
      ]
     },
     "execution_count": 29,
     "metadata": {},
     "output_type": "execute_result"
    }
   ],
   "source": [
    "H_grouped.shape"
   ]
  },
  {
   "cell_type": "code",
   "execution_count": 30,
   "id": "a03b8f38-735c-4dee-a75c-e397df12c81d",
   "metadata": {},
   "outputs": [
    {
     "name": "stdout",
     "output_type": "stream",
     "text": [
      "0\n",
      "  A shape: (1, 2, 2, 4)\n",
      "  M shape: (4, 2, 2, 2, 2, 2, 2, 2, 2, 2, 2, 2, 2, 2, 2, 1)\n",
      "1\n",
      "  A shape: (4, 2, 2, 16)\n",
      "  M shape: (16, 2, 2, 2, 2, 2, 2, 2, 2, 2, 2, 2, 2, 1)\n",
      "2\n",
      "  A shape: (16, 2, 2, 32)\n",
      "  M shape: (32, 2, 2, 2, 2, 2, 2, 2, 2, 2, 2, 1)\n",
      "3\n",
      "  A shape: (32, 2, 2, 32)\n",
      "  M shape: (32, 2, 2, 2, 2, 2, 2, 2, 2, 1)\n",
      "4\n",
      "  A shape: (32, 2, 2, 32)\n",
      "  M shape: (32, 2, 2, 2, 2, 2, 2, 1)\n",
      "5\n",
      "  A shape: (32, 2, 2, 16)\n",
      "  M shape: (16, 2, 2, 2, 2, 1)\n",
      "6\n",
      "  A shape: (16, 2, 2, 4)\n",
      "  M shape: (4, 2, 2, 1)\n",
      "7\n",
      "  A shape: (4, 2, 2, 1)\n"
     ]
    }
   ],
   "source": [
    "As = construct_MPO(H_grouped, Dmax=32, debug=True)\n",
    "As = [np.squeeze(A) for A in As]"
   ]
  },
  {
   "cell_type": "markdown",
   "id": "6067eb0c-d22f-4c73-b8d3-94992f36d6b2",
   "metadata": {},
   "source": [
    "### Groundstate Optimisation Using Quimb"
   ]
  },
  {
   "cell_type": "code",
   "execution_count": 31,
   "id": "a121245a-4653-4a6f-844d-b8aca7435efc",
   "metadata": {},
   "outputs": [],
   "source": [
    "from quimb.tensor.tensor_1d import MatrixProductOperator\n",
    "from quimb.tensor.tensor_dmrg import DMRG2"
   ]
  },
  {
   "cell_type": "code",
   "execution_count": 32,
   "id": "74c7b78a-02e2-4347-8d79-ee9c5411dcc4",
   "metadata": {},
   "outputs": [],
   "source": [
    "def WordOpToMPO(wordop, max_bond_dim=16):\n",
    "    H_sparse = H_op.to_sparse_matrix\n",
    "    H = H_sparse.toarray()\n",
    "    H_exp = expand_local_basis(H)\n",
    "    H_grouped = group_opposite_legs(H_exp)\n",
    "    H_grouped = np.expand_dims(H_grouped, axis=(0, -1))\n",
    "    As = construct_MPO(H_grouped, Dmax=max_bond_dim, debug=False)\n",
    "    As = [np.squeeze(A) for A in As]\n",
    "    return MatrixProductOperator(As, 'ldur')"
   ]
  },
  {
   "cell_type": "code",
   "execution_count": 33,
   "id": "43fdb17f-c1cf-48b3-9773-50774cde4f32",
   "metadata": {},
   "outputs": [],
   "source": [
    "H_MPO = MatrixProductOperator(As, 'ldur')"
   ]
  },
  {
   "cell_type": "code",
   "execution_count": 34,
   "id": "8072acc6-3ade-4db0-8588-a3ca8fec819f",
   "metadata": {},
   "outputs": [
    {
     "name": "stdout",
     "output_type": "stream",
     "text": [
      "MatrixProductOperator([\n",
      "    Tensor(shape=(4, 2, 2), inds=('_20d2e3AAAAn', 'k0', 'b0'), tags=oset(['I0'])),\n",
      "    Tensor(shape=(4, 16, 2, 2), inds=('_20d2e3AAAAn', '_20d2e3AAAAo', 'k1', 'b1'), tags=oset(['I1'])),\n",
      "    Tensor(shape=(16, 32, 2, 2), inds=('_20d2e3AAAAo', '_20d2e3AAAAp', 'k2', 'b2'), tags=oset(['I2'])),\n",
      "    Tensor(shape=(32, 32, 2, 2), inds=('_20d2e3AAAAp', '_20d2e3AAAAq', 'k3', 'b3'), tags=oset(['I3'])),\n",
      "    Tensor(shape=(32, 32, 2, 2), inds=('_20d2e3AAAAq', '_20d2e3AAAAr', 'k4', 'b4'), tags=oset(['I4'])),\n",
      "    Tensor(shape=(32, 16, 2, 2), inds=('_20d2e3AAAAr', '_20d2e3AAAAs', 'k5', 'b5'), tags=oset(['I5'])),\n",
      "    Tensor(shape=(16, 4, 2, 2), inds=('_20d2e3AAAAs', '_20d2e3AAAAt', 'k6', 'b6'), tags=oset(['I6'])),\n",
      "    Tensor(shape=(4, 2, 2), inds=('_20d2e3AAAAt', 'k7', 'b7'), tags=oset(['I7'])),\n",
      "], L=8, max_bond=32)\n"
     ]
    }
   ],
   "source": [
    "print(H_MPO)"
   ]
  },
  {
   "cell_type": "code",
   "execution_count": 35,
   "id": "6678c053-8aa3-4be8-8e9a-851d548d6196",
   "metadata": {},
   "outputs": [],
   "source": [
    "dmrg = DMRG2(H_MPO, bond_dims=[10, 20, 100, 100, 200], cutoffs=1e-10)"
   ]
  },
  {
   "cell_type": "code",
   "execution_count": 36,
   "id": "19195f8c-e77b-48ca-ae96-c3eb632a7132",
   "metadata": {},
   "outputs": [
    {
     "name": "stdout",
     "output_type": "stream",
     "text": [
      "SWEEP-1, direction=R, max_bond=(10/10), cutoff:1e-10\n"
     ]
    },
    {
     "name": "stderr",
     "output_type": "stream",
     "text": [
      "100%|#############################################| 7/7 [00:00<00:00, 63.42it/s]"
     ]
    },
    {
     "name": "stdout",
     "output_type": "stream",
     "text": [
      "Energy: (-1.8742847352978442-5.551115123125783e-17j) ... not converged.\n",
      "SWEEP-2, direction=R, max_bond=(10/20), cutoff:1e-10\n"
     ]
    },
    {
     "name": "stderr",
     "output_type": "stream",
     "text": [
      "\n",
      "100%|############################################| 7/7 [00:00<00:00, 194.32it/s]"
     ]
    },
    {
     "name": "stdout",
     "output_type": "stream",
     "text": [
      "Energy: (-1.874298515459389+1.1102230246251565e-16j) ... not converged.\n",
      "SWEEP-3, direction=R, max_bond=(11/100), cutoff:1e-10\n"
     ]
    },
    {
     "name": "stderr",
     "output_type": "stream",
     "text": [
      "\n",
      "100%|############################################| 7/7 [00:00<00:00, 119.46it/s]"
     ]
    },
    {
     "name": "stdout",
     "output_type": "stream",
     "text": [
      "Energy: (-1.874299926360662+0j) ... not converged.\n",
      "SWEEP-4, direction=R, max_bond=(11/100), cutoff:1e-10\n"
     ]
    },
    {
     "name": "stderr",
     "output_type": "stream",
     "text": [
      "\n",
      "100%|############################################| 7/7 [00:00<00:00, 141.52it/s]"
     ]
    },
    {
     "name": "stdout",
     "output_type": "stream",
     "text": [
      "Energy: (-1.8743003458526968+0j) ... converged!\n"
     ]
    },
    {
     "name": "stderr",
     "output_type": "stream",
     "text": [
      "\n"
     ]
    },
    {
     "data": {
      "text/plain": [
       "True"
      ]
     },
     "execution_count": 36,
     "metadata": {},
     "output_type": "execute_result"
    }
   ],
   "source": [
    "dmrg.solve(verbosity=1, tol=1e-6)"
   ]
  },
  {
   "cell_type": "code",
   "execution_count": 37,
   "id": "a03abca5-9381-473e-8645-9e7d67d47240",
   "metadata": {},
   "outputs": [],
   "source": [
    "energies = dmrg.energies"
   ]
  },
  {
   "cell_type": "code",
   "execution_count": 38,
   "id": "4f531ece-a28c-4711-9ade-8194894e58b9",
   "metadata": {},
   "outputs": [
    {
     "name": "stdout",
     "output_type": "stream",
     "text": [
      "[(-1.8742847352978442-5.551115123125783e-17j), (-1.874298515459389+1.1102230246251565e-16j), (-1.874299926360662+0j), (-1.8743003458526968+0j)]\n"
     ]
    }
   ],
   "source": [
    "print(energies)"
   ]
  },
  {
   "cell_type": "code",
   "execution_count": 39,
   "id": "393d6322-4925-45ff-8c5b-2c2fddef4b2b",
   "metadata": {},
   "outputs": [],
   "source": [
    "import matplotlib.pyplot as plt"
   ]
  },
  {
   "cell_type": "code",
   "execution_count": 40,
   "id": "a2884803-552b-40e5-ab8e-b8e219378256",
   "metadata": {},
   "outputs": [
    {
     "data": {
      "text/plain": [
       "[<matplotlib.lines.Line2D at 0x7f6b9528ba90>]"
      ]
     },
     "execution_count": 40,
     "metadata": {},
     "output_type": "execute_result"
    },
    {
     "data": {
      "image/png": "[encoded data removed]",
      "text/plain": [
       "<Figure size 640x480 with 1 Axes>"
      ]
     },
     "metadata": {},
     "output_type": "display_data"
    }
   ],
   "source": [
    "plt.plot(np.real(energies))"
   ]
  },
  {
   "cell_type": "code",
   "execution_count": 41,
   "id": "1ab92959-5280-4465-b747-98b401b74b9b",
   "metadata": {},
   "outputs": [
    {
     "name": "stdout",
     "output_type": "stream",
     "text": [
      " 2 4 8 10 8 4 2 \n",
      ">─>─>─>──>─>─>─●\n",
      "│ │ │ │  │ │ │ │\n"
     ]
    }
   ],
   "source": [
    "dmrg.state.show()"
   ]
  },
  {
   "cell_type": "markdown",
   "id": "0a16df76-6a7a-43ba-a7d3-90fbb30c7a63",
   "metadata": {},
   "source": [
    "### Prepare exact ground state energy and state for example state"
   ]
  },
  {
   "cell_type": "code",
   "execution_count": 42,
   "id": "1f57b8e2-5485-498f-b606-32d391f5e106",
   "metadata": {},
   "outputs": [],
   "source": [
    "from symmer.utils import exact_gs_energy\n",
    "from symmer.symplectic import QuantumState"
   ]
  },
  {
   "cell_type": "code",
   "execution_count": 43,
   "id": "a708e7a9-354c-4bc9-9307-4e73a35cc10e",
   "metadata": {},
   "outputs": [],
   "source": [
    "meta = data_dict['data']"
   ]
  },
  {
   "cell_type": "code",
   "execution_count": 44,
   "id": "9f0d8c3a-0153-4056-8223-5fde712db93c",
   "metadata": {},
   "outputs": [
    {
     "data": {
      "text/plain": [
       "dict_keys(['qubit_encoding', 'unit', 'geometry', 'basis', 'charge', 'spin', 'hf_array', 'n_particles', 'n_qubits', 'convergence_threshold', 'point_group', 'calculated_properties', 'auxiliary_operators'])"
      ]
     },
     "execution_count": 44,
     "metadata": {},
     "output_type": "execute_result"
    }
   ],
   "source": [
    "meta.keys()"
   ]
  },
  {
   "cell_type": "code",
   "execution_count": 45,
   "id": "137d1797-0488-4801-988b-d01a821b5d94",
   "metadata": {},
   "outputs": [
    {
     "data": {
      "text/plain": [
       "{'HF': {'energy': -1.333349777097312, 'converged': True},\n",
       " 'MP2': {'energy': -1.6161399127016058, 'converged': True},\n",
       " 'CCSD': {'energy': -1.8261847366338488, 'converged': True},\n",
       " 'FCI': {'energy': -1.86439214542294, 'converged': True}}"
      ]
     },
     "execution_count": 45,
     "metadata": {},
     "output_type": "execute_result"
    }
   ],
   "source": [
    "meta['calculated_properties']"
   ]
  },
  {
   "cell_type": "code",
   "execution_count": 46,
   "id": "45f357ab-26fe-4088-896c-44585ea457f5",
   "metadata": {},
   "outputs": [],
   "source": [
    "gs_energy, gs_vec = exact_gs_energy(H_sparse)"
   ]
  },
  {
   "cell_type": "code",
   "execution_count": 47,
   "id": "0fb51294-2829-40bd-977a-dedcfd720b87",
   "metadata": {},
   "outputs": [
    {
     "data": {
      "text/plain": [
       "-1.8743019741837266"
      ]
     },
     "execution_count": 47,
     "metadata": {},
     "output_type": "execute_result"
    }
   ],
   "source": [
    "gs_energy"
   ]
  },
  {
   "cell_type": "code",
   "execution_count": 48,
   "id": "33b86ac9-adf2-4e03-9c68-51e2a1721928",
   "metadata": {},
   "outputs": [],
   "source": [
    "gs_state = QuantumState.from_array(gs_vec).cleanup(zero_threshold=1e-5)"
   ]
  },
  {
   "cell_type": "code",
   "execution_count": 49,
   "id": "e67dd7d4-0cd0-4a27-a46b-61ea87344d54",
   "metadata": {},
   "outputs": [
    {
     "data": {
      "text/plain": [
       "-0.084-0.274j |00011011> +\n",
       " 0.084+0.274j |00100111> +\n",
       "-0.021-0.067j |01011010> +\n",
       " 0.103+0.335j |01100110> +\n",
       "-0.082-0.268j |01101001> +\n",
       "-0.082-0.268j |10010110> +\n",
       " 0.103+0.335j |10011001> +\n",
       "-0.021-0.067j |10100101> +\n",
       " 0.135+0.439j |11011000> +\n",
       "-0.135-0.439j |11100100>"
      ]
     },
     "execution_count": 49,
     "metadata": {},
     "output_type": "execute_result"
    }
   ],
   "source": [
    "gs_state"
   ]
  },
  {
   "cell_type": "code",
   "execution_count": 50,
   "id": "eeaa69bd-4249-4715-9aac-f5c2a405c089",
   "metadata": {},
   "outputs": [
    {
     "data": {
      "text/plain": [
       "(1.0000000000000013+0j)"
      ]
     },
     "execution_count": 50,
     "metadata": {},
     "output_type": "execute_result"
    }
   ],
   "source": [
    "gs_state.dagger * gs_state"
   ]
  },
  {
   "cell_type": "markdown",
   "id": "b1559da2-525e-4578-a5a1-80feb7cdf477",
   "metadata": {},
   "source": [
    "### Compare DMRG state to exact ground state"
   ]
  },
  {
   "cell_type": "code",
   "execution_count": 51,
   "id": "111b213a-039f-4327-8216-6af7f58988b7",
   "metadata": {},
   "outputs": [],
   "source": [
    "dmrg_state = dmrg.state.to_dense()"
   ]
  },
  {
   "cell_type": "code",
   "execution_count": 52,
   "id": "8753dfbc-e32a-4671-83ea-f516e2a6a8e9",
   "metadata": {},
   "outputs": [],
   "source": [
    "dmrg_state = QuantumState.from_array(dmrg_state).cleanup(zero_threshold=1e-5)"
   ]
  },
  {
   "cell_type": "code",
   "execution_count": 53,
   "id": "7ccc05bf-14e0-47dd-a180-d01424e06d42",
   "metadata": {},
   "outputs": [
    {
     "data": {
      "text/plain": [
       "(0.999999998943531+0j)"
      ]
     },
     "execution_count": 53,
     "metadata": {},
     "output_type": "execute_result"
    }
   ],
   "source": [
    "dmrg_state.dagger * dmrg_state # Close to normalised"
   ]
  },
  {
   "cell_type": "markdown",
   "id": "670e61e1-26ab-45bc-85e0-33cddf254bef",
   "metadata": {},
   "source": [
    "Checking overlap with the exact gs and comparing the ground state energy. "
   ]
  },
  {
   "cell_type": "code",
   "execution_count": 54,
   "id": "8e51c726-9f23-48d5-8361-9c41f7e60128",
   "metadata": {},
   "outputs": [
    {
     "name": "stdout",
     "output_type": "stream",
     "text": [
      "DMRG state overlap with GS: 0.9998332710287409\n"
     ]
    }
   ],
   "source": [
    "gs_overlap = np.linalg.norm(gs_state.dagger * dmrg_state)\n",
    "\n",
    "print(f\"DMRG state overlap with GS: {gs_overlap}\")"
   ]
  },
  {
   "cell_type": "code",
   "execution_count": 55,
   "id": "49773076-5a61-4413-a466-a90f031a95cd",
   "metadata": {},
   "outputs": [
    {
     "name": "stdout",
     "output_type": "stream",
     "text": [
      "GS energy: -1.8743019741837204 (no particle conservation)\n",
      "HF energy: -1.333349777097312\n",
      "DMRG energy: -1.874300344442988\n"
     ]
    }
   ],
   "source": [
    "gs_energy = -1*np.linalg.norm(gs_state.dagger * H_op * gs_state)\n",
    "dmrg_energy = -1*np.linalg.norm(dmrg_state.dagger * H_op * dmrg_state)\n",
    "hf_energy = meta['calculated_properties']['HF']['energy']\n",
    "\n",
    "print(f\"GS energy: {gs_energy} (no particle conservation)\")\n",
    "print(f\"HF energy: {hf_energy}\")\n",
    "print(f\"DMRG energy: {dmrg_energy}\")"
   ]
  },
  {
   "cell_type": "markdown",
   "id": "b148bd0c-5b49-420e-9cd8-c295c225007b",
   "metadata": {},
   "source": [
    "Note that the closeness to the exact GS energy can be tuned by the truncation of the MPO to represent the Hamiltonian. \n",
    "\n",
    "For example:\n",
    "\n",
    "- Bond dim = 16 $\\rightarrow$ GS overlap $\\approx$ 0.2\n",
    "- Bond dim = 32 $\\rightarrow$ GS overlap $\\approx$ 0.9998537440310613"
   ]
  },
  {
   "cell_type": "markdown",
   "id": "f13e33a4-42c3-40cf-b0f6-b25e06dd08bf",
   "metadata": {},
   "source": [
    "### Partial Reconstruction of Operator\n",
    "\n",
    "- We want to initially build and MPO to represent the HF terms of Pauli Word Op\n",
    "- Once this is done we will sequentially add the off diagional terms starting with the terms of the largest magnitude. "
   ]
  },
  {
   "cell_type": "code",
   "execution_count": 56,
   "id": "1a72c79c-1d2b-486a-94a7-9ded20fa1c9a",
   "metadata": {},
   "outputs": [],
   "source": [
    "ham_dict = data_dict['hamiltonian']"
   ]
  },
  {
   "cell_type": "code",
   "execution_count": 57,
   "id": "e72cae9d-43d5-435a-9afa-229b78cab3c2",
   "metadata": {},
   "outputs": [],
   "source": [
    "sorted_dict = dict(sorted(ham_dict.items(), key=lambda x: np.linalg.norm(x[1]), reverse=True))"
   ]
  },
  {
   "cell_type": "code",
   "execution_count": 58,
   "id": "532b175e-92fe-41da-a3b4-907916ca262b",
   "metadata": {},
   "outputs": [],
   "source": [
    "import re\n",
    "def filter_dict(op_dict, regex=\"Z\"):\n",
    "    def has_match(test, reg):\n",
    "        match = re.search(reg, test)\n",
    "        if match is None:\n",
    "            return False\n",
    "        return True\n",
    "    \n",
    "    newDict = dict(filter(lambda x: has_match(x[0], regex), op_dict.items()))\n",
    "    return newDict\n",
    "        "
   ]
  },
  {
   "cell_type": "code",
   "execution_count": 59,
   "id": "90407647-6f91-490b-b559-015210cd8bc5",
   "metadata": {},
   "outputs": [],
   "source": [
    "new_dict = filter_dict(sorted_dict, \"^[^XY]+$\")"
   ]
  },
  {
   "cell_type": "code",
   "execution_count": 60,
   "id": "934ad4d1-0e0e-4954-957f-994b178f3472",
   "metadata": {},
   "outputs": [],
   "source": [
    "H_truncated_op = PauliwordOp.from_dictionary(new_dict)"
   ]
  },
  {
   "cell_type": "code",
   "execution_count": 61,
   "id": "51ec2d4b-a83d-4eeb-816c-22ebcd4ed871",
   "metadata": {},
   "outputs": [
    {
     "data": {
      "text/plain": [
       "-1.081+0.000j IIIIIIII +\n",
       " 0.116+0.000j IIIIZZII +\n",
       " 0.116+0.000j IIZZIIII +\n",
       " 0.101+0.000j IIIZIIZI +\n",
       " 0.101+0.000j IIZIIIIZ +\n",
       " 0.099+0.000j IZIIZIII +\n",
       " 0.099+0.000j ZIIIIZII +\n",
       " 0.094+0.000j IIIIIIZZ +\n",
       " 0.091+0.000j ZZIIIIII +\n",
       " 0.077+0.000j IZIIIIZI +\n",
       " 0.077+0.000j ZIIIIIIZ +\n",
       " 0.071+0.000j IIIIIZZI +\n",
       " 0.071+0.000j IIIIZIIZ +\n",
       " 0.069+0.000j IZZIIIII +\n",
       " 0.069+0.000j ZIIZIIII +\n",
       " 0.065+0.000j IZIIIIII +\n",
       " 0.065+0.000j ZIIIIIII +\n",
       " 0.054+0.000j IZIIIIIZ +\n",
       " 0.054+0.000j ZIIIIIZI +\n",
       " 0.054+0.000j IIIZZIII +\n",
       " 0.054+0.000j IIZIIZII +\n",
       " 0.054+0.000j IIIZIZII +\n",
       " 0.054+0.000j IIZIZIII +\n",
       " 0.050+0.000j IZIZIIII +\n",
       " 0.050+0.000j ZIZIIIII +\n",
       " 0.050+0.000j IIIIIZIZ +\n",
       " 0.050+0.000j IIIIZIZI +\n",
       " 0.042+0.000j IZIIIZII +\n",
       " 0.042+0.000j ZIIIZIII +\n",
       " 0.042+0.000j IIIZIIIZ +\n",
       " 0.042+0.000j IIZIIIZI +\n",
       " 0.038+0.000j IIIIZIII +\n",
       " 0.038+0.000j IIIIIZII +\n",
       " 0.038+0.000j IIZIIIII +\n",
       " 0.038+0.000j IIIZIIII +\n",
       " 0.014+0.000j IIIIIIIZ +\n",
       " 0.014+0.000j IIIIIIZI"
      ]
     },
     "execution_count": 61,
     "metadata": {},
     "output_type": "execute_result"
    }
   ],
   "source": [
    "H_truncated_op"
   ]
  },
  {
   "cell_type": "code",
   "execution_count": 62,
   "id": "3f7b7afc-0322-4055-9d88-acd20187027a",
   "metadata": {},
   "outputs": [],
   "source": [
    "MPO_trunc = WordOpToMPO(H_truncated_op)"
   ]
  },
  {
   "cell_type": "code",
   "execution_count": 63,
   "id": "3ddc0651-8dee-492b-983f-02f0c7aa3077",
   "metadata": {},
   "outputs": [],
   "source": [
    "dmrg = DMRG2(MPO_trunc, bond_dims=[10, 20, 100, 100, 200], cutoffs=1e-10)"
   ]
  },
  {
   "cell_type": "code",
   "execution_count": 64,
   "id": "c11f23b6-52f3-4d55-8a6b-2e944f2f9fcf",
   "metadata": {},
   "outputs": [
    {
     "name": "stdout",
     "output_type": "stream",
     "text": [
      "SWEEP-1, direction=R, max_bond=(10/10), cutoff:1e-10\n"
     ]
    },
    {
     "name": "stderr",
     "output_type": "stream",
     "text": [
      "100%|#############################################| 7/7 [00:00<00:00, 96.63it/s]"
     ]
    },
    {
     "name": "stdout",
     "output_type": "stream",
     "text": [
      "Energy: (-1.9046517608857467+7.771756818902419e-07j) ... not converged.\n",
      "SWEEP-2, direction=R, max_bond=(10/20), cutoff:1e-10\n"
     ]
    },
    {
     "name": "stderr",
     "output_type": "stream",
     "text": [
      "\n",
      "100%|############################################| 7/7 [00:00<00:00, 152.80it/s]"
     ]
    },
    {
     "name": "stdout",
     "output_type": "stream",
     "text": [
      "Energy: (-1.904653311945034+7.146443765178225e-07j) ... not converged.\n",
      "SWEEP-3, direction=R, max_bond=(10/100), cutoff:1e-10\n"
     ]
    },
    {
     "name": "stderr",
     "output_type": "stream",
     "text": [
      "\n",
      "100%|############################################| 7/7 [00:00<00:00, 195.77it/s]"
     ]
    },
    {
     "name": "stdout",
     "output_type": "stream",
     "text": [
      "Energy: (-1.9046552725410468+8.246192592755493e-07j) ... not converged.\n",
      "SWEEP-4, direction=R, max_bond=(9/100), cutoff:1e-10\n"
     ]
    },
    {
     "name": "stderr",
     "output_type": "stream",
     "text": [
      "\n",
      "100%|############################################| 7/7 [00:00<00:00, 282.43it/s]"
     ]
    },
    {
     "name": "stdout",
     "output_type": "stream",
     "text": [
      "Energy: (-1.904657620859284+9.156104068793261e-07j) ... not converged.\n",
      "SWEEP-5, direction=R, max_bond=(9/200), cutoff:1e-10\n"
     ]
    },
    {
     "name": "stderr",
     "output_type": "stream",
     "text": [
      "\n",
      "100%|############################################| 7/7 [00:00<00:00, 146.71it/s]"
     ]
    },
    {
     "name": "stdout",
     "output_type": "stream",
     "text": [
      "Energy: (-1.904660838770116+1.0530602546350945e-06j) ... not converged.\n",
      "SWEEP-6, direction=R, max_bond=(9/200), cutoff:1e-10\n"
     ]
    },
    {
     "name": "stderr",
     "output_type": "stream",
     "text": [
      "\n",
      "100%|############################################| 7/7 [00:00<00:00, 178.68it/s]"
     ]
    },
    {
     "name": "stdout",
     "output_type": "stream",
     "text": [
      "Energy: (-1.9046656941155615+1.2165350286742066e-06j) ... not converged.\n",
      "SWEEP-7, direction=R, max_bond=(9/200), cutoff:1e-10\n"
     ]
    },
    {
     "name": "stderr",
     "output_type": "stream",
     "text": [
      "\n",
      "100%|############################################| 7/7 [00:00<00:00, 306.56it/s]\n"
     ]
    },
    {
     "name": "stdout",
     "output_type": "stream",
     "text": [
      "Energy: (-1.9046736838999485+1.4825955353785225e-06j) ... not converged.\n",
      "SWEEP-8, direction=R, max_bond=(9/200), cutoff:1e-10\n"
     ]
    },
    {
     "name": "stderr",
     "output_type": "stream",
     "text": [
      "100%|############################################| 7/7 [00:00<00:00, 163.23it/s]"
     ]
    },
    {
     "name": "stdout",
     "output_type": "stream",
     "text": [
      "Energy: (-1.904687996584115+1.8688115800231594e-06j) ... not converged.\n",
      "SWEEP-9, direction=R, max_bond=(10/200), cutoff:1e-10\n"
     ]
    },
    {
     "name": "stderr",
     "output_type": "stream",
     "text": [
      "\n",
      "100%|############################################| 7/7 [00:00<00:00, 201.95it/s]"
     ]
    },
    {
     "name": "stdout",
     "output_type": "stream",
     "text": [
      "Energy: (-1.90471647835081+2.6091298825151044e-06j) ... not converged.\n",
      "SWEEP-10, direction=R, max_bond=(9/200), cutoff:1e-10\n"
     ]
    },
    {
     "name": "stderr",
     "output_type": "stream",
     "text": [
      "\n",
      "100%|############################################| 7/7 [00:00<00:00, 334.40it/s]"
     ]
    },
    {
     "name": "stdout",
     "output_type": "stream",
     "text": [
      "Energy: (-1.9047974911668306+4.538026354472535e-06j) ... not converged.\n"
     ]
    },
    {
     "name": "stderr",
     "output_type": "stream",
     "text": [
      "\n"
     ]
    },
    {
     "data": {
      "text/plain": [
       "False"
      ]
     },
     "execution_count": 64,
     "metadata": {},
     "output_type": "execute_result"
    }
   ],
   "source": [
    "dmrg.solve(verbosity=1, tol=1e-6)"
   ]
  },
  {
   "cell_type": "code",
   "execution_count": 65,
   "id": "f3fa0305-a0b2-4d7a-b21d-ef0cb5651a91",
   "metadata": {},
   "outputs": [],
   "source": [
    "energies = dmrg.energies"
   ]
  },
  {
   "cell_type": "code",
   "execution_count": 66,
   "id": "16e4380c-71ec-4568-8087-d55f4e5f1ff5",
   "metadata": {},
   "outputs": [
    {
     "data": {
      "text/plain": [
       "[<matplotlib.lines.Line2D at 0x7f6b94e6f760>]"
      ]
     },
     "execution_count": 66,
     "metadata": {},
     "output_type": "execute_result"
    },
    {
     "data": {
      "image/png": "[encoded data removed]",
      "text/plain": [
       "<Figure size 640x480 with 1 Axes>"
      ]
     },
     "metadata": {},
     "output_type": "display_data"
    }
   ],
   "source": [
    "plt.plot(np.real(energies))"
   ]
  },
  {
   "cell_type": "code",
   "execution_count": 67,
   "id": "af991536-3ee1-4c0f-9531-7cfaa55660d7",
   "metadata": {},
   "outputs": [],
   "source": [
    "trunc_state = dmrg.state.to_dense()\n",
    "trunc_mps = dmrg.state"
   ]
  },
  {
   "cell_type": "code",
   "execution_count": 68,
   "id": "4901e970-7789-45c2-9b21-4cd5dbae9b3e",
   "metadata": {},
   "outputs": [],
   "source": [
    "trunc_state = QuantumState.from_array(trunc_state).cleanup(zero_threshold=1e-5)"
   ]
  },
  {
   "cell_type": "code",
   "execution_count": 69,
   "id": "92dcd720-a080-4710-98b8-58342ee8a866",
   "metadata": {},
   "outputs": [
    {
     "data": {
      "text/plain": [
       "(0.9999999988394837+0j)"
      ]
     },
     "execution_count": 69,
     "metadata": {},
     "output_type": "execute_result"
    }
   ],
   "source": [
    "trunc_state.dagger * trunc_state # Close to normalised"
   ]
  },
  {
   "cell_type": "code",
   "execution_count": 70,
   "id": "d4094c4e-dd31-40a4-b1a0-1c83f3d072ea",
   "metadata": {},
   "outputs": [
    {
     "name": "stdout",
     "output_type": "stream",
     "text": [
      "Truncated state overlap with GS: 0.07531738520015971\n"
     ]
    }
   ],
   "source": [
    "trunc_overlap = np.linalg.norm(gs_state.dagger * trunc_state)\n",
    "\n",
    "print(f\"Truncated state overlap with GS: {trunc_overlap}\")"
   ]
  },
  {
   "cell_type": "code",
   "execution_count": 71,
   "id": "0fe2cc5a-598d-40cb-9303-036404f50e2e",
   "metadata": {},
   "outputs": [
    {
     "name": "stdout",
     "output_type": "stream",
     "text": [
      "GS energy: -1.8743019741837204 (no particle conservation)\n",
      "Trunc energy: -1.858447297106388\n"
     ]
    }
   ],
   "source": [
    "gs_energy = -1*np.linalg.norm(gs_state.dagger * H_op * gs_state)\n",
    "trunc_energy = -1*np.linalg.norm(trunc_state.dagger * H_op * trunc_state)\n",
    "\n",
    "print(f\"GS energy: {gs_energy} (no particle conservation)\")\n",
    "print(f\"Trunc energy: {trunc_energy}\")"
   ]
  },
  {
   "cell_type": "code",
   "execution_count": 72,
   "id": "85ee4d9e-53c2-469c-938d-6183bb72a10b",
   "metadata": {},
   "outputs": [
    {
     "name": "stdout",
     "output_type": "stream",
     "text": [
      "-0.059+0.000j IIXXIIYY +\n",
      " 0.059+0.000j IIXYIIYX +\n",
      " 0.059+0.000j IIYXIIXY +\n",
      "-0.059+0.000j IIYYIIXX +\n",
      "-0.057+0.000j XXIIYYII +\n",
      " 0.057+0.000j XYIIYXII +\n",
      " 0.057+0.000j YXIIXYII +\n",
      "-0.057+0.000j YYIIXXII +\n",
      " 0.035+0.000j IXZZXYYI +\n",
      "-0.035+0.000j IXZZYYXI +\n",
      "-0.035+0.000j IYZZXXYI +\n",
      " 0.035+0.000j IYZZYXXI +\n",
      "-0.035+0.000j XZZZXXZX +\n",
      "-0.035+0.000j XZZZXYZY +\n",
      "-0.035+0.000j YZZZYXZX +\n",
      "-0.035+0.000j YZZZYYZY +\n",
      "-0.033+0.000j IXXYZZYI +\n",
      " 0.033+0.000j IXYYZZXI +\n",
      " 0.033+0.000j IYXXZZYI +\n",
      "-0.033+0.000j IYYXZZXI +\n",
      " 0.033+0.000j XZXXZZZX +\n",
      " 0.033+0.000j XZXYZZZY +\n",
      " 0.033+0.000j YZYXZZZX +\n",
      " 0.033+0.000j YZYYZZZY +\n",
      " 0.028+0.000j IXZZIZZX +\n",
      " 0.028+0.000j IYZZIZZY +\n",
      " 0.028+0.000j XZZZZIXI +\n",
      " 0.028+0.000j YZZZZIYI +\n",
      "-0.027+0.000j IXIZZZZX +\n",
      "-0.027+0.000j IYIZZZZY +\n",
      "-0.027+0.000j XZZIZZXI +\n",
      "-0.027+0.000j YZZIZZYI +\n",
      "-0.024+0.000j XXIIIIYY +\n",
      " 0.024+0.000j XYIIIIYX +\n",
      " 0.024+0.000j YXIIIIXY +\n",
      "-0.024+0.000j YYIIIIXX +\n",
      "-0.021+0.000j IIIIXXYY +\n",
      " 0.021+0.000j IIIIXYYX +\n",
      " 0.021+0.000j IIIIYXXY +\n",
      "-0.021+0.000j IIIIYYXX +\n",
      "-0.019+0.000j XXYYIIII +\n",
      " 0.019+0.000j XYYXIIII +\n",
      " 0.019+0.000j YXXYIIII +\n",
      "-0.019+0.000j YYXXIIII +\n",
      "-0.014+0.000j IXZZZZZX +\n",
      "-0.014+0.000j IYZZZZZY +\n",
      "-0.014+0.000j XZZZZZXI +\n",
      "-0.014+0.000j YZZZZZYI +\n",
      " 0.014+0.000j ZXZZZZZX +\n",
      " 0.014+0.000j ZYZZZZZY +\n",
      " 0.014+0.000j XIZZZZXI +\n",
      " 0.014+0.000j YIZZZZYI +\n",
      "-0.013+0.000j IXZZZZIX +\n",
      "-0.013+0.000j IYZZZZIY +\n",
      "-0.013+0.000j XZZZZZXZ +\n",
      "-0.013+0.000j YZZZZZYZ +\n",
      "-0.007+0.000j IXZZZIZX +\n",
      "-0.007+0.000j IYZZZIZY +\n",
      "-0.007+0.000j XZZZIZXI +\n",
      "-0.007+0.000j YZZZIZYI +\n",
      " 0.007+0.000j IXZIZZZX +\n",
      " 0.007+0.000j IYZIZZZY +\n",
      " 0.007+0.000j XZIZZZXI +\n",
      " 0.007+0.000j YZIZZZYI +\n",
      "-0.000+0.000j IIXXYYII +\n",
      " 0.000+0.000j IIXYYXII +\n",
      " 0.000+0.000j IIYXXYII +\n",
      "-0.000+0.000j IIYYXXII\n"
     ]
    }
   ],
   "source": [
    "missing_dict = filter_dict(sorted_dict, \"[XY]\")\n",
    "missing_word_op = PauliwordOp.from_dictionary(missing_dict)\n",
    "print(missing_word_op)"
   ]
  },
  {
   "cell_type": "code",
   "execution_count": 73,
   "id": "4985271a-5783-4a5f-b0bb-633a7861cf7b",
   "metadata": {},
   "outputs": [],
   "source": [
    "MPO_missing = WordOpToMPO(missing_word_op, max_bond_dim=16)"
   ]
  },
  {
   "cell_type": "code",
   "execution_count": 74,
   "id": "ab025568-0841-460b-b58d-362b156dc699",
   "metadata": {},
   "outputs": [],
   "source": [
    "MPO_recons = MPO_trunc + MPO_missing "
   ]
  },
  {
   "cell_type": "code",
   "execution_count": 75,
   "id": "d4050f37-b7d9-41ae-a494-3579dfd362f0",
   "metadata": {},
   "outputs": [],
   "source": [
    "dmrg = DMRG2(MPO_recons, bond_dims=[10, 20, 100, 100, 200], cutoffs=1e-10, p0=trunc_mps)"
   ]
  },
  {
   "cell_type": "code",
   "execution_count": 76,
   "id": "0454da5d-ee63-4898-943b-29d79b17c2c0",
   "metadata": {},
   "outputs": [
    {
     "name": "stdout",
     "output_type": "stream",
     "text": [
      "SWEEP-1, direction=R, max_bond=(9/10), cutoff:1e-10\n"
     ]
    },
    {
     "name": "stderr",
     "output_type": "stream",
     "text": [
      "100%|############################################| 7/7 [00:00<00:00, 141.62it/s]"
     ]
    },
    {
     "name": "stdout",
     "output_type": "stream",
     "text": [
      "Energy: (-3.814809751122256-1.6074253572639918e-07j) ... not converged.\n",
      "SWEEP-2, direction=R, max_bond=(9/20), cutoff:1e-10\n"
     ]
    },
    {
     "name": "stderr",
     "output_type": "stream",
     "text": [
      "\n",
      "100%|#############################################| 7/7 [00:00<00:00, 65.80it/s]"
     ]
    },
    {
     "name": "stdout",
     "output_type": "stream",
     "text": [
      "Energy: (-3.8148100162231895+9.205467210726681e-08j) ... converged!\n"
     ]
    },
    {
     "name": "stderr",
     "output_type": "stream",
     "text": [
      "\n"
     ]
    },
    {
     "data": {
      "text/plain": [
       "True"
      ]
     },
     "execution_count": 76,
     "metadata": {},
     "output_type": "execute_result"
    }
   ],
   "source": [
    "dmrg.solve(verbosity=1, tol=1e-6)"
   ]
  },
  {
   "cell_type": "code",
   "execution_count": 77,
   "id": "83c6da0c-9850-49f1-8492-b2b13fd898f6",
   "metadata": {},
   "outputs": [],
   "source": [
    "energies = dmrg.energies"
   ]
  },
  {
   "cell_type": "code",
   "execution_count": 78,
   "id": "8939fbeb-efca-4d17-afd0-576582484a02",
   "metadata": {},
   "outputs": [
    {
     "data": {
      "text/plain": [
       "[<matplotlib.lines.Line2D at 0x7f6b94da2a30>]"
      ]
     },
     "execution_count": 78,
     "metadata": {},
     "output_type": "execute_result"
    },
    {
     "data": {
      "image/png": "[encoded data removed]",
      "text/plain": [
       "<Figure size 640x480 with 1 Axes>"
      ]
     },
     "metadata": {},
     "output_type": "display_data"
    }
   ],
   "source": [
    "plt.plot(np.real(energies))"
   ]
  },
  {
   "cell_type": "code",
   "execution_count": 79,
   "id": "017465e3-cd1e-46f7-987d-1176e27b2e02",
   "metadata": {},
   "outputs": [],
   "source": [
    "recons_state = dmrg.state.to_dense()"
   ]
  },
  {
   "cell_type": "code",
   "execution_count": 80,
   "id": "d4078801-2914-494d-b77f-32b0870811cd",
   "metadata": {},
   "outputs": [],
   "source": [
    "recons_state = QuantumState.from_array(recons_state).cleanup(zero_threshold=1e-5)"
   ]
  },
  {
   "cell_type": "code",
   "execution_count": 81,
   "id": "e9f4f690-2384-49d3-93ab-dce6546e6243",
   "metadata": {},
   "outputs": [
    {
     "name": "stdout",
     "output_type": "stream",
     "text": [
      "Truncated state overlap with GS: 0.027561576284541586\n"
     ]
    }
   ],
   "source": [
    "recons_overlap = np.linalg.norm(gs_state.dagger * recons_state)\n",
    "\n",
    "print(f\"Truncated state overlap with GS: {recons_overlap}\")"
   ]
  },
  {
   "cell_type": "code",
   "execution_count": 82,
   "id": "d0e4adf0-5508-49ba-9596-bcd347ae5146",
   "metadata": {},
   "outputs": [
    {
     "name": "stdout",
     "output_type": "stream",
     "text": [
      "GS energy: -1.8743019741837204 (no particle conservation)\n",
      "Trunc energy: -1.8589081649298251\n"
     ]
    }
   ],
   "source": [
    "gs_energy = -1*np.linalg.norm(gs_state.dagger * H_op * gs_state)\n",
    "recons_energy = -1*np.linalg.norm(recons_state.dagger * H_op * recons_state)\n",
    "\n",
    "print(f\"GS energy: {gs_energy} (no particle conservation)\")\n",
    "print(f\"Trunc energy: {recons_energy}\")"
   ]
  },
  {
   "cell_type": "markdown",
   "id": "44e1a502-0d46-42b3-a1c8-d06ec2184a46",
   "metadata": {},
   "source": [
    "For some reason the reconstruction of the MPO by sequential adding terms does not seem to improve performance. At least in this case where we separate the terms containing only `Z` and `I` from the other terms and construct a state from them first. \n",
    "\n",
    "Not sure why this is. "
   ]
  },
  {
   "cell_type": "code",
   "execution_count": null,
   "id": "0af83879-cc60-4608-9c71-573e8609813f",
   "metadata": {},
   "outputs": [],
   "source": []
  }
 ],
 "metadata": {
  "kernelspec": {
   "display_name": "Python 3",
   "language": "python",
   "name": "python3"
  },
  "language_info": {
   "codemirror_mode": {
    "name": "ipython",
    "version": 3
   },
   "file_extension": ".py",
   "mimetype": "text/x-python",
   "name": "python",
   "nbconvert_exporter": "python",
   "pygments_lexer": "ipython3",
   "version": "3.8.14"
  }
 },
 "nbformat": 4,
 "nbformat_minor": 5
}
