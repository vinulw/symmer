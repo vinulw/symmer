{
 "cells": [
  {
   "cell_type": "code",
   "execution_count": 1,
   "id": "f018bba0-02bf-473f-921b-d23d2e9fa5f4",
   "metadata": {},
   "outputs": [],
   "source": [
    "import os\n",
    "from symmer.symplectic.base import PauliwordOp\n",
    "import json\n",
    "import numpy as np\n",
    "from ncon import ncon"
   ]
  },
  {
   "cell_type": "code",
   "execution_count": 2,
   "id": "b80c82bd-6f48-42fb-8d3c-dc9ec5403805",
   "metadata": {},
   "outputs": [],
   "source": [
    "def expand_local_basis(H):\n",
    "    i, _ = H.shape\n",
    "    i = int(np.log2(i))\n",
    "    \n",
    "    H_ = H.reshape([2]*(i*2))\n",
    "    return H_"
   ]
  },
  {
   "cell_type": "code",
   "execution_count": 3,
   "id": "a7eb55df-75eb-4ef2-9fc5-11351d19ddfb",
   "metadata": {},
   "outputs": [],
   "source": [
    "from functools import reduce\n",
    "from operator import iconcat\n",
    "\n",
    "def group_opposite_legs(H_exp):\n",
    "    l = len(H_exp.shape)\n",
    "    offset = int(l / 2)\n",
    "    tlist = [[i, i+offset] for i in range(offset)]\n",
    "    tlist = reduce(iconcat, tlist, [])\n",
    "    return H_exp.transpose(tlist)\n",
    "    "
   ]
  },
  {
   "cell_type": "code",
   "execution_count": 4,
   "id": "98452c5e-9709-4121-a240-9935a42c762f",
   "metadata": {},
   "outputs": [],
   "source": [
    "def mpo_decomp_step(H_curr, Dmax=8):\n",
    "    l = len(H_curr.shape)\n",
    "    a, i, j = H_curr.shape[:3]\n",
    "    \n",
    "    M = H_curr.reshape(a*i*j, -1)\n",
    "    \n",
    "    U, S, V = truncated_SVD(M, Dmax=Dmax)\n",
    "    \n",
    "    D = len(S)\n",
    "\n",
    "    A = U.reshape(a, i, j, D)\n",
    "    M = np.diag(S) @ V\n",
    "\n",
    "    M = M.reshape(D, *[2]*(l-4), 1)\n",
    "    return A, M"
   ]
  },
  {
   "cell_type": "code",
   "execution_count": 5,
   "id": "5e5811a5-a1e9-4b4b-a755-34ff8a6042a4",
   "metadata": {},
   "outputs": [],
   "source": [
    "def truncated_SVD(M, Dmax=None):\n",
    "    U, S, V = np.linalg.svd(M, full_matrices=False)\n",
    "    \n",
    "    if Dmax is not None and len(S) > Dmax:\n",
    "        S = S[:Dmax]\n",
    "        U = U[:, :Dmax]\n",
    "        V = V[:Dmax, :]\n",
    "    \n",
    "    return U, S, V"
   ]
  },
  {
   "cell_type": "code",
   "execution_count": 6,
   "id": "6c44b19a-370a-4cd2-86ef-3d62b0932470",
   "metadata": {},
   "outputs": [],
   "source": [
    "def construct_MPO(H_local, Dmax=8, debug=False):\n",
    "    l = int(len(H_local.shape) / 2) - 1\n",
    "    As = []\n",
    "    M = H_local\n",
    "    for i in range(l-1):\n",
    "        A, M = mpo_decomp_step(M, Dmax)\n",
    "        if debug:\n",
    "            print(i)\n",
    "            print('  A shape: {}'.format(A.shape))\n",
    "            print('  M shape: {}'.format(M.shape))\n",
    "        As.append(A)\n",
    "    if debug:\n",
    "        print(i+1)\n",
    "        print('  A shape: {}'.format(M.shape))\n",
    "    As.append(M)\n",
    "    #As[-1] = ncon([As[-1], M], ((-1, -2, -3, 1), (1, -4)))\n",
    "    return As"
   ]
  },
  {
   "cell_type": "code",
   "execution_count": 7,
   "id": "4dfec858-c7bc-4a50-a2ae-b0288caa8e4e",
   "metadata": {},
   "outputs": [],
   "source": [
    "test_dir = os.path.join(os.path.dirname(os.getcwd()), 'tests')\n",
    "ham_data_dir = os.path.join(test_dir, 'hamiltonian_data')"
   ]
  },
  {
   "cell_type": "code",
   "execution_count": 8,
   "id": "f1158cd2-55bb-4326-a396-4ab615b8f012",
   "metadata": {},
   "outputs": [],
   "source": [
    "filename = 'H4_STO-3G_SINGLET_JW.json'\n",
    "\n",
    "if filename not in os.listdir(ham_data_dir):\n",
    "    raise ValueError('unknown file')\n",
    "    \n",
    "with open(os.path.join(ham_data_dir, filename), 'r') as infile:\n",
    "    data_dict = json.load(infile)"
   ]
  },
  {
   "cell_type": "code",
   "execution_count": 9,
   "id": "d6dd18d7-5bc9-49ee-83db-f8e9f5855c2e",
   "metadata": {},
   "outputs": [],
   "source": [
    "H_op = PauliwordOp.from_dictionary(data_dict['hamiltonian'])"
   ]
  },
  {
   "cell_type": "code",
   "execution_count": 10,
   "id": "278d1315-6169-47a3-86ce-6f8b54a6adb1",
   "metadata": {},
   "outputs": [],
   "source": [
    "# list(data_dict['hamiltonian'].keys())"
   ]
  },
  {
   "cell_type": "markdown",
   "id": "0e684d82-1999-427a-b2f4-c37eac91bf77",
   "metadata": {},
   "source": [
    "### Constructing and MPO representation of H"
   ]
  },
  {
   "cell_type": "code",
   "execution_count": 11,
   "id": "c2316994-6230-4841-b7c3-dbfb90268bec",
   "metadata": {},
   "outputs": [],
   "source": [
    "H_sparse = H_op.to_sparse_matrix"
   ]
  },
  {
   "cell_type": "code",
   "execution_count": 12,
   "id": "ba14cc74-b3d1-4852-862b-18b2f33b23d7",
   "metadata": {},
   "outputs": [],
   "source": [
    "H = H_sparse.toarray()"
   ]
  },
  {
   "cell_type": "code",
   "execution_count": 13,
   "id": "cea799d0-0969-4a31-8e46-9077dbe31c76",
   "metadata": {},
   "outputs": [],
   "source": [
    "H_exp = expand_local_basis(H)"
   ]
  },
  {
   "cell_type": "code",
   "execution_count": 14,
   "id": "8ae4a058-d388-4cf5-a555-c2c6fd4433fa",
   "metadata": {},
   "outputs": [],
   "source": [
    "H_grouped = group_opposite_legs(H_exp)"
   ]
  },
  {
   "cell_type": "code",
   "execution_count": 15,
   "id": "7ae8a658-be60-49b8-ac21-62eac616380d",
   "metadata": {},
   "outputs": [
    {
     "data": {
      "text/plain": [
       "(2, 2, 2, 2, 2, 2, 2, 2, 2, 2, 2, 2, 2, 2, 2, 2)"
      ]
     },
     "execution_count": 15,
     "metadata": {},
     "output_type": "execute_result"
    }
   ],
   "source": [
    "H_grouped.shape"
   ]
  },
  {
   "cell_type": "code",
   "execution_count": 16,
   "id": "38eadbe7-717a-485d-9445-6b80a5b78fb8",
   "metadata": {},
   "outputs": [],
   "source": [
    "H_grouped = np.expand_dims(H_grouped, axis=(0, -1))"
   ]
  },
  {
   "cell_type": "code",
   "execution_count": 17,
   "id": "3508011b-9691-4d87-9db0-73182124a9ea",
   "metadata": {},
   "outputs": [
    {
     "data": {
      "text/plain": [
       "(1, 2, 2, 2, 2, 2, 2, 2, 2, 2, 2, 2, 2, 2, 2, 2, 2, 1)"
      ]
     },
     "execution_count": 17,
     "metadata": {},
     "output_type": "execute_result"
    }
   ],
   "source": [
    "H_grouped.shape"
   ]
  },
  {
   "cell_type": "code",
   "execution_count": 18,
   "id": "a03b8f38-735c-4dee-a75c-e397df12c81d",
   "metadata": {},
   "outputs": [
    {
     "name": "stdout",
     "output_type": "stream",
     "text": [
      "0\n",
      "  A shape: (1, 2, 2, 4)\n",
      "  M shape: (4, 2, 2, 2, 2, 2, 2, 2, 2, 2, 2, 2, 2, 2, 2, 1)\n",
      "1\n",
      "  A shape: (4, 2, 2, 16)\n",
      "  M shape: (16, 2, 2, 2, 2, 2, 2, 2, 2, 2, 2, 2, 2, 1)\n",
      "2\n",
      "  A shape: (16, 2, 2, 16)\n",
      "  M shape: (16, 2, 2, 2, 2, 2, 2, 2, 2, 2, 2, 1)\n",
      "3\n",
      "  A shape: (16, 2, 2, 16)\n",
      "  M shape: (16, 2, 2, 2, 2, 2, 2, 2, 2, 1)\n",
      "4\n",
      "  A shape: (16, 2, 2, 16)\n",
      "  M shape: (16, 2, 2, 2, 2, 2, 2, 1)\n",
      "5\n",
      "  A shape: (16, 2, 2, 16)\n",
      "  M shape: (16, 2, 2, 2, 2, 1)\n",
      "6\n",
      "  A shape: (16, 2, 2, 4)\n",
      "  M shape: (4, 2, 2, 1)\n",
      "7\n",
      "  A shape: (4, 2, 2, 1)\n"
     ]
    }
   ],
   "source": [
    "As = construct_MPO(H_grouped, Dmax=16, debug=True)\n",
    "As = [np.squeeze(A) for A in As]"
   ]
  },
  {
   "cell_type": "markdown",
   "id": "6067eb0c-d22f-4c73-b8d3-94992f36d6b2",
   "metadata": {},
   "source": [
    "### Groundstate Optimisation Using Quimb"
   ]
  },
  {
   "cell_type": "code",
   "execution_count": 19,
   "id": "a121245a-4653-4a6f-844d-b8aca7435efc",
   "metadata": {},
   "outputs": [],
   "source": [
    "from quimb.tensor.tensor_1d import MatrixProductOperator\n",
    "from quimb.tensor.tensor_dmrg import DMRG2"
   ]
  },
  {
   "cell_type": "code",
   "execution_count": 20,
   "id": "43fdb17f-c1cf-48b3-9773-50774cde4f32",
   "metadata": {},
   "outputs": [],
   "source": [
    "H_MPO = MatrixProductOperator(As, 'ldur')"
   ]
  },
  {
   "cell_type": "code",
   "execution_count": 21,
   "id": "8072acc6-3ade-4db0-8588-a3ca8fec819f",
   "metadata": {},
   "outputs": [
    {
     "name": "stdout",
     "output_type": "stream",
     "text": [
      "MatrixProductOperator([\n",
      "    Tensor(shape=(4, 2, 2), inds=('_2e6f54AAAAA', 'k0', 'b0'), tags=oset(['I0'])),\n",
      "    Tensor(shape=(4, 16, 2, 2), inds=('_2e6f54AAAAA', '_2e6f54AAAAB', 'k1', 'b1'), tags=oset(['I1'])),\n",
      "    Tensor(shape=(16, 16, 2, 2), inds=('_2e6f54AAAAB', '_2e6f54AAAAC', 'k2', 'b2'), tags=oset(['I2'])),\n",
      "    Tensor(shape=(16, 16, 2, 2), inds=('_2e6f54AAAAC', '_2e6f54AAAAD', 'k3', 'b3'), tags=oset(['I3'])),\n",
      "    Tensor(shape=(16, 16, 2, 2), inds=('_2e6f54AAAAD', '_2e6f54AAAAE', 'k4', 'b4'), tags=oset(['I4'])),\n",
      "    Tensor(shape=(16, 16, 2, 2), inds=('_2e6f54AAAAE', '_2e6f54AAAAF', 'k5', 'b5'), tags=oset(['I5'])),\n",
      "    Tensor(shape=(16, 4, 2, 2), inds=('_2e6f54AAAAF', '_2e6f54AAAAG', 'k6', 'b6'), tags=oset(['I6'])),\n",
      "    Tensor(shape=(4, 2, 2), inds=('_2e6f54AAAAG', 'k7', 'b7'), tags=oset(['I7'])),\n",
      "], L=8, max_bond=16)\n"
     ]
    }
   ],
   "source": [
    "print(H_MPO)"
   ]
  },
  {
   "cell_type": "code",
   "execution_count": 22,
   "id": "6678c053-8aa3-4be8-8e9a-851d548d6196",
   "metadata": {},
   "outputs": [],
   "source": [
    "dmrg = DMRG2(H_MPO, bond_dims=[10, 20, 100, 100, 200], cutoffs=1e-10)"
   ]
  },
  {
   "cell_type": "code",
   "execution_count": 23,
   "id": "19195f8c-e77b-48ca-ae96-c3eb632a7132",
   "metadata": {},
   "outputs": [
    {
     "name": "stdout",
     "output_type": "stream",
     "text": [
      "SWEEP-1, direction=R, max_bond=(10/10), cutoff:1e-10\n"
     ]
    },
    {
     "name": "stderr",
     "output_type": "stream",
     "text": [
      "100%|#############################################| 7/7 [00:00<00:00, 84.89it/s]"
     ]
    },
    {
     "name": "stdout",
     "output_type": "stream",
     "text": [
      "Energy: (-1.9046578661999116+1.5387566386190939e-06j) ... not converged.\n",
      "SWEEP-2, direction=R, max_bond=(10/20), cutoff:1e-10\n"
     ]
    },
    {
     "name": "stderr",
     "output_type": "stream",
     "text": [
      "\n",
      "100%|############################################| 7/7 [00:00<00:00, 248.97it/s]"
     ]
    },
    {
     "name": "stdout",
     "output_type": "stream",
     "text": [
      "Energy: (-1.9046623825473625+2.0632753937777255e-06j) ... not converged.\n",
      "SWEEP-3, direction=R, max_bond=(10/100), cutoff:1e-10\n"
     ]
    },
    {
     "name": "stderr",
     "output_type": "stream",
     "text": [
      "\n",
      "100%|############################################| 7/7 [00:00<00:00, 275.79it/s]"
     ]
    },
    {
     "name": "stdout",
     "output_type": "stream",
     "text": [
      "Energy: (-1.904672144404971+2.3606137187399696e-06j) ... not converged.\n",
      "SWEEP-4, direction=R, max_bond=(9/100), cutoff:1e-10\n"
     ]
    },
    {
     "name": "stderr",
     "output_type": "stream",
     "text": [
      "\n",
      "100%|############################################| 7/7 [00:00<00:00, 228.47it/s]"
     ]
    },
    {
     "name": "stdout",
     "output_type": "stream",
     "text": [
      "Energy: (-1.9046875650696258+3.225046813187804e-06j) ... not converged.\n",
      "SWEEP-5, direction=R, max_bond=(9/200), cutoff:1e-10\n"
     ]
    },
    {
     "name": "stderr",
     "output_type": "stream",
     "text": [
      "\n",
      "100%|############################################| 7/7 [00:00<00:00, 389.69it/s]"
     ]
    },
    {
     "name": "stdout",
     "output_type": "stream",
     "text": [
      "Energy: (-1.9047194587078653+4.776772859597239e-06j) ... not converged.\n",
      "SWEEP-6, direction=R, max_bond=(9/200), cutoff:1e-10\n"
     ]
    },
    {
     "name": "stderr",
     "output_type": "stream",
     "text": [
      "\n",
      "100%|############################################| 7/7 [00:00<00:00, 318.30it/s]"
     ]
    },
    {
     "name": "stdout",
     "output_type": "stream",
     "text": [
      "Energy: (-1.9062345152726003-3.3945434124715845e-06j) ... not converged.\n",
      "SWEEP-7, direction=R, max_bond=(9/200), cutoff:1e-10\n"
     ]
    },
    {
     "name": "stderr",
     "output_type": "stream",
     "text": [
      "\n",
      "100%|############################################| 7/7 [00:00<00:00, 118.10it/s]"
     ]
    },
    {
     "name": "stdout",
     "output_type": "stream",
     "text": [
      "Energy: (-1.9074034251063532+7.22549436837916e-07j) ... not converged.\n",
      "SWEEP-8, direction=R, max_bond=(9/200), cutoff:1e-10\n"
     ]
    },
    {
     "name": "stderr",
     "output_type": "stream",
     "text": [
      "\n",
      "100%|############################################| 7/7 [00:00<00:00, 173.30it/s]"
     ]
    },
    {
     "name": "stdout",
     "output_type": "stream",
     "text": [
      "Energy: (-1.9074034096394072+6.225154554062584e-07j) ... converged!\n"
     ]
    },
    {
     "name": "stderr",
     "output_type": "stream",
     "text": [
      "\n"
     ]
    },
    {
     "data": {
      "text/plain": [
       "True"
      ]
     },
     "execution_count": 23,
     "metadata": {},
     "output_type": "execute_result"
    }
   ],
   "source": [
    "dmrg.solve(verbosity=1, tol=1e-6)"
   ]
  },
  {
   "cell_type": "code",
   "execution_count": 25,
   "id": "a03abca5-9381-473e-8645-9e7d67d47240",
   "metadata": {},
   "outputs": [],
   "source": [
    "energies = dmrg.energies"
   ]
  },
  {
   "cell_type": "code",
   "execution_count": 26,
   "id": "4f531ece-a28c-4711-9ade-8194894e58b9",
   "metadata": {},
   "outputs": [
    {
     "name": "stdout",
     "output_type": "stream",
     "text": [
      "[(-1.9046578661999116+1.5387566386190939e-06j), (-1.9046623825473625+2.0632753937777255e-06j), (-1.904672144404971+2.3606137187399696e-06j), (-1.9046875650696258+3.225046813187804e-06j), (-1.9047194587078653+4.776772859597239e-06j), (-1.9062345152726003-3.3945434124715845e-06j), (-1.9074034251063532+7.22549436837916e-07j), (-1.9074034096394072+6.225154554062584e-07j)]\n"
     ]
    }
   ],
   "source": [
    "print(energies)"
   ]
  },
  {
   "cell_type": "code",
   "execution_count": 27,
   "id": "393d6322-4925-45ff-8c5b-2c2fddef4b2b",
   "metadata": {},
   "outputs": [],
   "source": [
    "import matplotlib.pyplot as plt"
   ]
  },
  {
   "cell_type": "code",
   "execution_count": 28,
   "id": "a2884803-552b-40e5-ab8e-b8e219378256",
   "metadata": {},
   "outputs": [
    {
     "data": {
      "text/plain": [
       "[<matplotlib.lines.Line2D at 0x7f4260f67130>]"
      ]
     },
     "execution_count": 28,
     "metadata": {},
     "output_type": "execute_result"
    },
    {
     "data": {
      "image/png": "[encoded data removed]",
      "text/plain": [
       "<Figure size 640x480 with 1 Axes>"
      ]
     },
     "metadata": {},
     "output_type": "display_data"
    }
   ],
   "source": [
    "plt.plot(np.abs(energies))"
   ]
  },
  {
   "cell_type": "code",
   "execution_count": 30,
   "id": "1ab92959-5280-4465-b747-98b401b74b9b",
   "metadata": {},
   "outputs": [
    {
     "name": "stdout",
     "output_type": "stream",
     "text": [
      " 2 4 8 9 8 4 2 \n",
      ">─>─>─>─>─>─>─●\n",
      "│ │ │ │ │ │ │ │\n"
     ]
    }
   ],
   "source": [
    "dmrg.state.show()"
   ]
  },
  {
   "cell_type": "markdown",
   "id": "334c9f93-19a1-422e-829e-bc9c7333eae0",
   "metadata": {},
   "source": [
    "### Test MPO Quimb with built in Ising Hamiltonian"
   ]
  },
  {
   "cell_type": "code",
   "execution_count": 16,
   "id": "a982a592-02a3-4da9-a32a-8e1f964dbf44",
   "metadata": {},
   "outputs": [],
   "source": [
    "from quimb.tensor.tensor_1d import MatrixProductOperator\n",
    "from quimb.tensor.tensor_gen import MPO_ham_ising\n",
    "from quimb.tensor.tensor_dmrg import DMRG2\n",
    "from quimb.tensor.tensor_gen import SpinHam1D"
   ]
  },
  {
   "cell_type": "code",
   "execution_count": 17,
   "id": "794aa051-37ac-40e0-9528-22549eccf2c9",
   "metadata": {},
   "outputs": [],
   "source": [
    "def Ham_Ising(j=1.0, bx=0.0, S=1/2, cyclic=False):\n",
    "    H = SpinHam1D(S=S, cyclic=cyclic)\n",
    "    H += j, 'Z', 'Z'\n",
    "    H -= bx, 'X'\n",
    "    return H"
   ]
  },
  {
   "cell_type": "code",
   "execution_count": 18,
   "id": "8a222cbd-e714-4299-b738-10ae0368c6fb",
   "metadata": {},
   "outputs": [],
   "source": [
    "mpo_ising = MPO_ham_ising(L = 4, bx=0.0)"
   ]
  },
  {
   "cell_type": "code",
   "execution_count": 19,
   "id": "f326c974-c15f-43f9-995f-29c94795a80e",
   "metadata": {},
   "outputs": [
    {
     "name": "stdout",
     "output_type": "stream",
     "text": [
      "MatrixProductOperator([\n",
      "    Tensor(shape=(3, 2, 2), inds=('_aba634AAAAV', 'k0', 'b0'), tags=oset(['I0'])),\n",
      "    Tensor(shape=(3, 3, 2, 2), inds=('_aba634AAAAV', '_aba634AAAAW', 'k1', 'b1'), tags=oset(['I1'])),\n",
      "    Tensor(shape=(3, 3, 2, 2), inds=('_aba634AAAAW', '_aba634AAAAX', 'k2', 'b2'), tags=oset(['I2'])),\n",
      "    Tensor(shape=(3, 2, 2), inds=('_aba634AAAAX', 'k3', 'b3'), tags=oset(['I3'])),\n",
      "], L=4, max_bond=3)\n"
     ]
    }
   ],
   "source": [
    "print(mpo_ising)"
   ]
  },
  {
   "cell_type": "code",
   "execution_count": 20,
   "id": "10f54374-e708-4920-913d-2f6a13f0ddae",
   "metadata": {},
   "outputs": [],
   "source": [
    "dmrg = DMRG2(mpo_ising, bond_dims=[10, 20, 100, 100, 200], cutoffs=1e-10)"
   ]
  },
  {
   "cell_type": "code",
   "execution_count": 21,
   "id": "99b7ac8c-25b1-4102-85b1-2ae5ea59090b",
   "metadata": {},
   "outputs": [
    {
     "name": "stdout",
     "output_type": "stream",
     "text": [
      "SWEEP-1, direction=R, max_bond=(10/10), cutoff:1e-10\n"
     ]
    },
    {
     "name": "stderr",
     "output_type": "stream",
     "text": [
      "100%|############################################| 3/3 [00:00<00:00, 706.98it/s]"
     ]
    },
    {
     "name": "stdout",
     "output_type": "stream",
     "text": [
      "Energy: -0.7499999999999997 ... not converged.\n",
      "SWEEP-2, direction=R, max_bond=(2/20), cutoff:1e-10\n"
     ]
    },
    {
     "name": "stderr",
     "output_type": "stream",
     "text": [
      "\n",
      "100%|############################################| 3/3 [00:00<00:00, 746.18it/s]"
     ]
    },
    {
     "name": "stdout",
     "output_type": "stream",
     "text": [
      "Energy: -0.75 ... converged!\n"
     ]
    },
    {
     "name": "stderr",
     "output_type": "stream",
     "text": [
      "\n"
     ]
    },
    {
     "data": {
      "text/plain": [
       "True"
      ]
     },
     "execution_count": 21,
     "metadata": {},
     "output_type": "execute_result"
    }
   ],
   "source": [
    "dmrg.solve(tol=1e-6, verbosity=1)"
   ]
  },
  {
   "cell_type": "code",
   "execution_count": 22,
   "id": "d21c1a0f-5d26-4f2c-8132-0dcd765e9ee3",
   "metadata": {},
   "outputs": [
    {
     "name": "stdout",
     "output_type": "stream",
     "text": [
      " 1 1 1 \n",
      ">─>─>─<\n",
      "│ │ │ │\n"
     ]
    }
   ],
   "source": [
    "dmrg.state.show(max_width=80)"
   ]
  },
  {
   "cell_type": "code",
   "execution_count": 23,
   "id": "f6306741-4538-4ef0-93c5-a2786bab2234",
   "metadata": {},
   "outputs": [],
   "source": [
    "matrix_ising = Ham_Ising().build_sparse(4)\n",
    "matrix_ising = matrix_ising.toarray()"
   ]
  },
  {
   "cell_type": "code",
   "execution_count": 27,
   "id": "19538059-5df5-49c8-a27c-b6394c4777a9",
   "metadata": {},
   "outputs": [],
   "source": [
    "matrix_exp = expand_local_basis(matrix_ising)\n",
    "matrix_grouped = group_opposite_legs(matrix_exp)\n",
    "matrix_grouped = np.expand_dims(matrix_grouped, axis=(0, -1))\n",
    "As = construct_MPO(matrix_grouped, Dmax=16, debug=False)\n",
    "As = [np.squeeze(A) for A in As]\n",
    "my_MPO = MatrixProductOperator(As, 'ldur')"
   ]
  },
  {
   "cell_type": "code",
   "execution_count": 28,
   "id": "50a1dfa9-bad9-4593-b62b-132806459d67",
   "metadata": {},
   "outputs": [
    {
     "name": "stdout",
     "output_type": "stream",
     "text": [
      "MatrixProductOperator([\n",
      "    Tensor(shape=(4, 2, 2), inds=('_aba634AAAAu', 'k0', 'b0'), tags=oset(['I0'])),\n",
      "    Tensor(shape=(4, 16, 2, 2), inds=('_aba634AAAAu', '_aba634AAAAv', 'k1', 'b1'), tags=oset(['I1'])),\n",
      "    Tensor(shape=(16, 4, 2, 2), inds=('_aba634AAAAv', '_aba634AAAAw', 'k2', 'b2'), tags=oset(['I2'])),\n",
      "    Tensor(shape=(4, 2, 2), inds=('_aba634AAAAw', 'k3', 'b3'), tags=oset(['I3'])),\n",
      "], L=4, max_bond=16)\n"
     ]
    }
   ],
   "source": [
    "print(my_MPO)"
   ]
  },
  {
   "cell_type": "code",
   "execution_count": 29,
   "id": "479453a7-2765-4900-a87f-215e30a9a75f",
   "metadata": {},
   "outputs": [],
   "source": [
    "mydmrg = DMRG2(my_MPO, bond_dims=10, cutoffs=1e-10)"
   ]
  },
  {
   "cell_type": "code",
   "execution_count": 30,
   "id": "f3f7a5d8-848f-491e-abf6-b3fe28df29cb",
   "metadata": {},
   "outputs": [
    {
     "name": "stdout",
     "output_type": "stream",
     "text": [
      "SWEEP-1, direction=R, max_bond=(10/10), cutoff:1e-10\n"
     ]
    },
    {
     "name": "stderr",
     "output_type": "stream",
     "text": [
      "100%|#############################################| 3/3 [00:00<00:00, 95.52it/s]"
     ]
    },
    {
     "name": "stdout",
     "output_type": "stream",
     "text": [
      "Energy: (-0.7499999999999997+0j) ... not converged.\n",
      "SWEEP-2, direction=R, max_bond=(2/10), cutoff:1e-10\n"
     ]
    },
    {
     "name": "stderr",
     "output_type": "stream",
     "text": [
      "\n",
      "100%|############################################| 3/3 [00:00<00:00, 308.83it/s]"
     ]
    },
    {
     "name": "stdout",
     "output_type": "stream",
     "text": [
      "Energy: (-0.75+0j) ... converged!\n"
     ]
    },
    {
     "name": "stderr",
     "output_type": "stream",
     "text": [
      "\n"
     ]
    },
    {
     "data": {
      "text/plain": [
       "True"
      ]
     },
     "execution_count": 30,
     "metadata": {},
     "output_type": "execute_result"
    }
   ],
   "source": [
    "mydmrg.solve(tol=1e-6, verbosity=1)"
   ]
  },
  {
   "cell_type": "code",
   "execution_count": 46,
   "id": "8f7f4d3f-ca11-4641-aad8-e727347831d5",
   "metadata": {},
   "outputs": [],
   "source": [
    "import quimb"
   ]
  },
  {
   "cell_type": "code",
   "execution_count": 47,
   "id": "4e9082ab-fdff-4dea-93ee-cec3f472c0ee",
   "metadata": {},
   "outputs": [
    {
     "name": "stdout",
     "output_type": "stream",
     "text": [
      "1.4.0\n"
     ]
    }
   ],
   "source": [
    "print(quimb.__version__)"
   ]
  },
  {
   "cell_type": "code",
   "execution_count": null,
   "id": "0bbff7a0-bdea-4050-a988-96e882704349",
   "metadata": {},
   "outputs": [],
   "source": []
  }
 ],
 "metadata": {
  "kernelspec": {
   "display_name": "Python 3",
   "language": "python",
   "name": "python3"
  },
  "language_info": {
   "codemirror_mode": {
    "name": "ipython",
    "version": 3
   },
   "file_extension": ".py",
   "mimetype": "text/x-python",
   "name": "python",
   "nbconvert_exporter": "python",
   "pygments_lexer": "ipython3",
   "version": "3.8.14"
  }
 },
 "nbformat": 4,
 "nbformat_minor": 5
}
